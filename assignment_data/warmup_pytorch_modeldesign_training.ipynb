{
  "nbformat": 4,
  "nbformat_minor": 0,
  "metadata": {
    "colab": {
      "provenance": [],
      "authorship_tag": "ABX9TyPiwyTl/GQPKXZrvimvgjc7",
      "include_colab_link": true
    },
    "kernelspec": {
      "name": "python3",
      "display_name": "Python 3"
    },
    "language_info": {
      "name": "python"
    }
  },
  "cells": [
    {
      "cell_type": "markdown",
      "metadata": {
        "id": "view-in-github",
        "colab_type": "text"
      },
      "source": [
        "<a href=\"https://colab.research.google.com/github/pj2111/Assignments/blob/master/assignment_data/warmup_pytorch_modeldesign_training.ipynb\" target=\"_parent\"><img src=\"https://colab.research.google.com/assets/colab-badge.svg\" alt=\"Open In Colab\"/></a>"
      ]
    },
    {
      "cell_type": "code",
      "execution_count": 1,
      "metadata": {
        "id": "x9UxCc3sZpah"
      },
      "outputs": [],
      "source": [
        "!pip install transformers torch datasets > /dev/null"
      ]
    },
    {
      "cell_type": "markdown",
      "source": [
        "# 1) Design the model (input, output size and forward pass)\n",
        "    # Input, target data must have shape of m x n, i.e both must have features\n",
        "    # Model needs to designed by keeping the feature length in mind, as these will be processed\n",
        "# 2) construct loss and optimizer\n",
        "    # torch.nn module contains the variety of Loss Criterions\n",
        "    # torch.optim module contains various optimizers\n",
        "# 3) training loop\n",
        "\n",
        "###  - forward pass: compute prediction\n",
        "    # loss criterion is called with the target and predicted values\n",
        "\n",
        "###  - backward pass: compute gradient & update weights\n",
        "    # optimizers will take care of gradient, weight updates of the model\n",
        "    # remember to pass optimizer.zero_grad() for the gradient to be\n",
        "    # reset"
      ],
      "metadata": {
        "id": "cs3AjFlnjU4p"
      }
    },
    {
      "cell_type": "markdown",
      "source": [
        "### Start by working on bare-bones matrix model LinReg Training"
      ],
      "metadata": {
        "id": "SuP5I56hjhbl"
      }
    },
    {
      "cell_type": "code",
      "source": [
        "import torch"
      ],
      "metadata": {
        "id": "EEKbbZYWcVQ8"
      },
      "execution_count": 3,
      "outputs": []
    },
    {
      "cell_type": "code",
      "source": [
        "X = torch.tensor([1, 2, 3, 4, 5, 6], dtype=torch.float32)\n",
        "y = torch.tensor([2, 4, 6, 8, 10, 12], dtype=torch.float32)"
      ],
      "metadata": {
        "id": "ZkZdottLcgsk"
      },
      "execution_count": 4,
      "outputs": []
    },
    {
      "cell_type": "code",
      "source": [
        "# here is the weights of the model, simple one-c tensor with gradient calc ability\n",
        "\n",
        "w = torch.tensor(0.0, requires_grad=True, dtype=torch.float32)"
      ],
      "metadata": {
        "id": "cXFtOl1Ziqe8"
      },
      "execution_count": 14,
      "outputs": []
    },
    {
      "cell_type": "code",
      "source": [
        "def forward(x):\n",
        "  return x * w"
      ],
      "metadata": {
        "id": "VqI8p0qTc6Om"
      },
      "execution_count": 5,
      "outputs": []
    },
    {
      "cell_type": "code",
      "source": [
        "def loss(y, y_pred):\n",
        "  return ((y_pred - y) ** 2).mean()"
      ],
      "metadata": {
        "id": "n0T_QyLucVUu"
      },
      "execution_count": 6,
      "outputs": []
    },
    {
      "cell_type": "code",
      "source": [
        "import numpy as np\n",
        "# Gradient calculation is done using Numpy\n",
        "def gradient(x, y, y_pred):\n",
        "  return np.dot(2 * x, y_pred - y).mean()"
      ],
      "metadata": {
        "id": "5Wt_c6n3cVYw"
      },
      "execution_count": 7,
      "outputs": []
    },
    {
      "cell_type": "code",
      "source": [
        "# Try predict what is the output before model training\n",
        "\n",
        "print(f\"Predict with simple forward fn: {forward(5)}\")"
      ],
      "metadata": {
        "colab": {
          "base_uri": "https://localhost:8080/"
        },
        "id": "sVKr0UYNcVcS",
        "outputId": "f4e8230c-9534-486c-a559-c37c2131bb19"
      },
      "execution_count": 8,
      "outputs": [
        {
          "output_type": "stream",
          "name": "stdout",
          "text": [
            "Predict with simple forward fn: 0.0\n"
          ]
        }
      ]
    },
    {
      "cell_type": "code",
      "source": [
        "# beginning the training process\n",
        "\n",
        "learning_rate = 0.01\n",
        "n_iters = 30"
      ],
      "metadata": {
        "id": "rjgEQSgzcVf2"
      },
      "execution_count": 11,
      "outputs": []
    },
    {
      "cell_type": "code",
      "source": [
        "# gradients calculated using numpy method\n",
        "w = 0.0\n",
        "\n",
        "for epoch in range(n_iters):\n",
        "  y_pred = forward(X)\n",
        "  l = loss(y , y_pred)\n",
        "  dw = gradient(X, y, y_pred)\n",
        "  w -= learning_rate * dw\n",
        "  if epoch % 1 == 0:\n",
        "    print(f\"epoch {epoch + 1}: w= {w: 3f} loss: {l: 8f}\")"
      ],
      "metadata": {
        "id": "XzVF8Le1cVjm"
      },
      "execution_count": null,
      "outputs": []
    },
    {
      "cell_type": "code",
      "source": [
        "print(f\"Prediction after training f(5) = {forward(5)}\")"
      ],
      "metadata": {
        "colab": {
          "base_uri": "https://localhost:8080/"
        },
        "id": "FZAaGzzhcVnS",
        "outputId": "1f853467-d322-4ec9-c8e2-68ce3006d545"
      },
      "execution_count": 13,
      "outputs": [
        {
          "output_type": "stream",
          "name": "stdout",
          "text": [
            "Prediction after training f(5) = 9.999804496765137\n"
          ]
        }
      ]
    },
    {
      "cell_type": "code",
      "source": [
        "# gradients calculated using tensor backward() method\n",
        "\n",
        "for epoch in range(n_iters):\n",
        "  y_pred = forward(X)\n",
        "  l = loss(y , y_pred)\n",
        "  l.backward()  # this part is done by pytorch\n",
        "  with torch.no_grad():\n",
        "    w -= learning_rate * w.grad\n",
        "  w.grad.zero_()\n",
        "  if epoch % 1 == 0:\n",
        "    print(f\"epoch {epoch + 1}: w= {w: 3f} loss: {l: 8f}\")"
      ],
      "metadata": {
        "id": "iIQqoYZFilHP"
      },
      "execution_count": null,
      "outputs": []
    },
    {
      "cell_type": "markdown",
      "source": [
        "#### Going full torch mode"
      ],
      "metadata": {
        "id": "BupQuCjDjwfu"
      }
    },
    {
      "cell_type": "code",
      "source": [
        "import torch\n",
        "import torch.nn as nn"
      ],
      "metadata": {
        "id": "X5Npa5mGkDWF"
      },
      "execution_count": 18,
      "outputs": []
    },
    {
      "cell_type": "code",
      "source": [
        "# the shape of the input is different, when used with torch models\n",
        "X = torch.tensor([[1], [2], [3], [4], [5]], dtype=torch.float32)\n",
        "Y = torch.tensor([[2], [4], [6], [8], [10]], dtype=torch.float32)\n",
        "\n",
        "# n_features is the cols persent in each datapoint, both inputs & targets\n",
        "n_samples, n_features = X.shape\n",
        "x_test = torch.tensor([5],\n",
        "                      dtype=torch.float32)"
      ],
      "metadata": {
        "id": "SLpCHOUucVqn"
      },
      "execution_count": 17,
      "outputs": []
    },
    {
      "cell_type": "code",
      "source": [
        "# Models are basic python classes with the blueprint.\n",
        "\n",
        "class LinearRegression(nn.Module):\n",
        "\n",
        "    def __init__(self, input_dim, output_dim):\n",
        "        super(LinearRegression, self).__init__()\n",
        "        # define layers\n",
        "        self.lin = nn.Linear(input_dim, output_dim)\n",
        "\n",
        "    def forward(self, x):\n",
        "        return self.lin(x)\n",
        "\n",
        "model = LinearRegression(n_features, n_features)"
      ],
      "metadata": {
        "id": "LCCDLfHvcVt3"
      },
      "execution_count": 19,
      "outputs": []
    },
    {
      "cell_type": "code",
      "source": [
        "loss = nn.MSELoss()\n",
        "optim = torch.optim.SGD(model.parameters(),\n",
        "                        lr=0.01)\n",
        "\n",
        "print(f\"prediction before training: f(5)= {model(x_test).item():.3f}\")\n",
        "# training\n",
        "learning_rate = 0.01\n",
        "n_iters = 30"
      ],
      "metadata": {
        "colab": {
          "base_uri": "https://localhost:8080/"
        },
        "id": "uPi86oy8cVxT",
        "outputId": "4b70786d-0938-41c1-84db-0566eb2e5c32"
      },
      "execution_count": 20,
      "outputs": [
        {
          "output_type": "stream",
          "name": "stdout",
          "text": [
            "prediction before training: f(5)= 1.089\n"
          ]
        }
      ]
    },
    {
      "cell_type": "code",
      "source": [
        "# Looking at the LinReg Model Training\n",
        "\n",
        "for epoch in range(n_iters):\n",
        "    # prediction to be extracted\n",
        "    y_pred = model(X)\n",
        "    # compute loss\n",
        "    l = loss(Y, y_pred)\n",
        "    # get gradient ==> backward()\n",
        "    l.backward()  # will calculate the grad w.r.t 'w'\n",
        "    # update weights is done by the optimizert\n",
        "    # with torch.no_grad():\n",
        "    #    w -= learning_rate * w.grad\n",
        "    optim.step()\n",
        "    # make the accumulated grad to 0\n",
        "    optim.zero_grad()\n",
        "    # printing epoch\n",
        "    if epoch % 1 == 0:\n",
        "        [w, b] = model.parameters()\n",
        "        # observe how the weights are extracted to display\n",
        "        print(f\"epoch {epoch + 1}: w = {w[0][0].item():.3f}, loss: {l:.8f}\")"
      ],
      "metadata": {
        "id": "mm2zEoO1luaI"
      },
      "execution_count": null,
      "outputs": []
    },
    {
      "cell_type": "code",
      "source": [
        "print(f\"prediction after training: f(5)= {model(x_test).item():.3f}\")"
      ],
      "metadata": {
        "colab": {
          "base_uri": "https://localhost:8080/"
        },
        "id": "ixiswewcluXs",
        "outputId": "92c26ab8-c2ef-420c-8059-8c4180956b64"
      },
      "execution_count": 22,
      "outputs": [
        {
          "output_type": "stream",
          "name": "stdout",
          "text": [
            "prediction after training: f(5)= 9.625\n"
          ]
        }
      ]
    },
    {
      "cell_type": "markdown",
      "source": [
        "### Fine Tuning model from Scratch with Mnist Data\n",
        "\n",
        "This part of the notebook is self-contained, and can be extracted into a script for execution\n",
        "\n",
        "- MNIST data loader\n",
        "\n",
        "- Dataload and transformation\n",
        "\n",
        "- Design Multi-layer neural net with activation function\n",
        "\n",
        "- Loss and Optimiser declaration\n",
        "\n",
        "- Training loop with batches\n",
        "\n",
        "- model evaluation using accuracy\n",
        "\n",
        "- enable GPU support"
      ],
      "metadata": {
        "id": "N_kKJZrNqkUE"
      }
    },
    {
      "cell_type": "code",
      "source": [
        "import torch\n",
        "import torch.nn as nn\n",
        "import torchvision\n",
        "import torchvision.transforms as transforms\n",
        "import matplotlib.pyplot as plt\n",
        "from torch.utils.data import DataLoader\n",
        "from torch.nn import functional as F"
      ],
      "metadata": {
        "id": "vncrIC-kqf98"
      },
      "execution_count": 24,
      "outputs": []
    },
    {
      "cell_type": "code",
      "source": [
        "device = torch.device('cuda' if torch.cuda.is_available() else 'cpu')"
      ],
      "metadata": {
        "id": "pYJfluBTrRDT"
      },
      "execution_count": 25,
      "outputs": []
    },
    {
      "cell_type": "code",
      "source": [
        "# preliminary data\n",
        "input_size = 784\n",
        "hidden_size = 100\n",
        "\n",
        "num_classes = 10\n",
        "num_epochs = 2\n",
        "\n",
        "batch_size = 100\n",
        "learning_rate = 0.001"
      ],
      "metadata": {
        "id": "z_11l0lsqf60"
      },
      "execution_count": 26,
      "outputs": []
    },
    {
      "cell_type": "code",
      "source": [
        "raw_train = torchvision.datasets.MNIST(root='./data', train=True, download=False)\n",
        "raw_train[0]"
      ],
      "metadata": {
        "colab": {
          "base_uri": "https://localhost:8080/"
        },
        "id": "q5oljH_4qf4N",
        "outputId": "463b0b17-ed1e-438b-e09b-8638b351969f"
      },
      "execution_count": 30,
      "outputs": [
        {
          "output_type": "execute_result",
          "data": {
            "text/plain": [
              "(<PIL.Image.Image image mode=L size=28x28>, 5)"
            ]
          },
          "metadata": {},
          "execution_count": 30
        }
      ]
    },
    {
      "cell_type": "code",
      "source": [
        "\n",
        "raw_train[10][0]"
      ],
      "metadata": {
        "colab": {
          "base_uri": "https://localhost:8080/",
          "height": 45
        },
        "id": "em5VK9r5uZYO",
        "outputId": "5fef3f3e-2c56-4c89-966b-80b85daa146c"
      },
      "execution_count": 37,
      "outputs": [
        {
          "output_type": "execute_result",
          "data": {
            "text/plain": [
              "<PIL.Image.Image image mode=L size=28x28>"
            ],
            "image/png": "[encoded data removed]"
          },
          "metadata": {},
          "execution_count": 37
        }
      ]
    },
    {
      "cell_type": "code",
      "source": [
        "from IPython.display import Image\n",
        "from matplotlib.pyplot import imshow\n",
        "%matplotlib inline\n",
        "\n",
        "imshow(raw_train[0][0]).show()"
      ],
      "metadata": {
        "id": "pLC9rkYEqf12"
      },
      "execution_count": null,
      "outputs": []
    },
    {
      "cell_type": "code",
      "source": [
        "train_dataset = torchvision.datasets.MNIST(root='./data', train=True,\n",
        "                                           transform=transforms.ToTensor())\n",
        "\n",
        "test_dataset = torchvision.datasets.MNIST(root='./data', train=False,\n",
        "                                          transform=transforms.ToTensor())\n",
        "\n",
        "train_loader = DataLoader(dataset=train_dataset, batch_size=batch_size,\n",
        "                          shuffle=True)\n",
        "\n",
        "test_loader = DataLoader(dataset=test_dataset, batch_size=batch_size,\n",
        "                         shuffle=False)"
      ],
      "metadata": {
        "id": "83vqF4R_qfzd"
      },
      "execution_count": 38,
      "outputs": []
    },
    {
      "cell_type": "code",
      "source": [
        "# usage of iterator / generator\n",
        "examples = iter(train_loader)\n",
        "\n",
        "samples, labels = next(examples)\n",
        "\n",
        "print(samples.shape, labels.shape)"
      ],
      "metadata": {
        "colab": {
          "base_uri": "https://localhost:8080/"
        },
        "id": "RPpEGqB3qfuy",
        "outputId": "4ae03c33-69da-40af-9607-13a8f2395027"
      },
      "execution_count": 39,
      "outputs": [
        {
          "output_type": "stream",
          "name": "stdout",
          "text": [
            "torch.Size([100, 1, 28, 28]) torch.Size([100])\n"
          ]
        }
      ]
    },
    {
      "cell_type": "code",
      "source": [
        "for i in range(8):\n",
        "    plt.subplot(2, 4, i+1)\n",
        "    plt.imshow(samples[i][0], cmap='gray')"
      ],
      "metadata": {
        "colab": {
          "base_uri": "https://localhost:8080/",
          "height": 373
        },
        "id": "Owe9EeVVvGyO",
        "outputId": "099c00d3-190e-4409-8515-5866d2d7778b"
      },
      "execution_count": 40,
      "outputs": [
        {
          "output_type": "display_data",
          "data": {
            "text/plain": [
              "<Figure size 640x480 with 8 Axes>"
            ],
            "image/png": "[encoded data removed]"
          },
          "metadata": {}
        }
      ]
    },
    {
      "cell_type": "code",
      "source": [
        "class NeuralNet(nn.Module):\n",
        "    def __init__(self, input_size, hidden_size, num_classes):\n",
        "        super(NeuralNet, self).__init__()\n",
        "        self.l1 = nn.Linear(input_size, hidden_size)\n",
        "        self.relu = nn.ReLU()\n",
        "        self.l2 = nn.Linear(hidden_size, num_classes)\n",
        "\n",
        "    def forward(self, x):\n",
        "        out = self.l1(x)\n",
        "        out = self.relu(out)\n",
        "        out = self.l2(out)\n",
        "        return out"
      ],
      "metadata": {
        "id": "yBeMaHHQqfsP"
      },
      "execution_count": 41,
      "outputs": []
    },
    {
      "cell_type": "code",
      "source": [
        "model = NeuralNet(input_size=input_size,\n",
        "                  hidden_size=hidden_size,\n",
        "                  num_classes=num_classes)"
      ],
      "metadata": {
        "id": "5A0uTjWMluQ9"
      },
      "execution_count": 42,
      "outputs": []
    },
    {
      "cell_type": "code",
      "source": [
        "criterion = nn.CrossEntropyLoss()"
      ],
      "metadata": {
        "id": "w4L7usIFvRfm"
      },
      "execution_count": 43,
      "outputs": []
    },
    {
      "cell_type": "code",
      "source": [
        "optimizer = torch.optim.Adam(model.parameters(), lr=learning_rate)\n",
        "\n",
        "n_total_steps = len(train_loader)\n",
        "\n",
        "running_loss = 0.0\n",
        "\n",
        "running_corrects = 0"
      ],
      "metadata": {
        "id": "qBCGz2sKvRdU"
      },
      "execution_count": 44,
      "outputs": []
    },
    {
      "cell_type": "code",
      "source": [
        "for epoch in range(num_epochs):\n",
        "    print(f\"entering epoch: {epoch + 1}\\n\")\n",
        "    for i, (images, labels) in enumerate(train_loader):\n",
        "        # 100, 1, 28, 28\n",
        "        # 100, 784\n",
        "        images = images.reshape(-1, 28*28).to(device)\n",
        "        labels = labels.to(device)\n",
        "\n",
        "    # forward pass\n",
        "        outputs = model(images)\n",
        "        loss = criterion(outputs, labels)\n",
        "\n",
        "    # backward\n",
        "        optimizer.zero_grad()\n",
        "        loss.backward()\n",
        "        optimizer.step()\n",
        "        running_loss += loss.item()\n",
        "        _, predicted = torch.max(outputs.data, 1)\n",
        "        running_corrects += (predicted == labels).sum().item()\n",
        "        if (i+1) % 100 == 0:\n",
        "            print(f\"epoch: {epoch+1} / {num_epochs}, step {i + 1} / {n_total_steps} loss= {loss.item():.3f}\")\n",
        "            running_loss = 0.0\n",
        "            running_corrects = 0"
      ],
      "metadata": {
        "id": "_JHdwuQLvRbI"
      },
      "execution_count": null,
      "outputs": []
    },
    {
      "cell_type": "code",
      "source": [
        "with torch.no_grad():\n",
        "    n_correct = 0\n",
        "    n_samples =0\n",
        "    for images, labels in test_loader:\n",
        "        images = images.reshape(-1,28*28)\n",
        "        outputs = model(images)\n",
        "        # value, index\n",
        "        _, predictions = torch.max(outputs,1)\n",
        "        n_samples += labels.shape[0]\n",
        "        n_correct = (predictions == labels).sum().item()\n",
        "\n",
        "    acc = 100 * n_correct / n_samples\n",
        "    print(f\"accuracy = {acc}\")"
      ],
      "metadata": {
        "id": "K4oCCymOvRVB"
      },
      "execution_count": null,
      "outputs": []
    },
    {
      "cell_type": "code",
      "source": [],
      "metadata": {
        "id": "U_k8gbF6vRST"
      },
      "execution_count": null,
      "outputs": []
    },
    {
      "cell_type": "code",
      "source": [],
      "metadata": {
        "id": "1pnFTPaTvRPd"
      },
      "execution_count": null,
      "outputs": []
    },
    {
      "cell_type": "code",
      "source": [],
      "metadata": {
        "id": "f3kVDk2ovRMJ"
      },
      "execution_count": null,
      "outputs": []
    }
  ]
}