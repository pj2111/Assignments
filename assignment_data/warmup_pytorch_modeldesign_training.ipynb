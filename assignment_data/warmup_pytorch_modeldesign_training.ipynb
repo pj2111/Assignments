{
  "cells": [
    {
      "cell_type": "markdown",
      "metadata": {
        "colab_type": "text",
        "id": "view-in-github"
      },
      "source": [
        "<a href=\"https://colab.research.google.com/github/pj2111/Assignments/blob/master/assignment_data/warmup_pytorch_modeldesign_training.ipynb\" target=\"_parent\"><img src=\"https://colab.research.google.com/assets/colab-badge.svg\" alt=\"Open In Colab\"/></a>"
      ]
    },
    {
      "cell_type": "code",
      "execution_count": 1,
      "metadata": {
        "id": "x9UxCc3sZpah"
      },
      "outputs": [],
      "source": [
        "!pip install transformers torch datasets > /dev/null"
      ]
    },
    {
      "cell_type": "markdown",
      "metadata": {
        "id": "cs3AjFlnjU4p"
      },
      "source": [
        "# 1) Design the model (input, output size and forward pass)\n",
        "    # Input, target data must have shape of m x n, i.e both must have features\n",
        "    # Model needs to designed by keeping the feature length in mind, as these will be processed\n",
        "# 2) construct loss and optimizer\n",
        "    # torch.nn module contains the variety of Loss Criterions\n",
        "    # torch.optim module contains various optimizers\n",
        "# 3) training loop\n",
        "\n",
        "###  - forward pass: compute prediction\n",
        "    # loss criterion is called with the target and predicted values\n",
        "\n",
        "###  - backward pass: compute gradient & update weights\n",
        "    # optimizers will take care of gradient, weight updates of the model\n",
        "    # remember to pass optimizer.zero_grad() for the gradient to be\n",
        "    # reset"
      ]
    },
    {
      "cell_type": "markdown",
      "metadata": {
        "id": "SuP5I56hjhbl"
      },
      "source": [
        "### Start by working on bare-bones matrix model LinReg Training"
      ]
    },
    {
      "cell_type": "code",
      "execution_count": 1,
      "metadata": {
        "id": "EEKbbZYWcVQ8"
      },
      "outputs": [],
      "source": [
        "import torch"
      ]
    },
    {
      "cell_type": "code",
      "execution_count": 17,
      "metadata": {
        "id": "ZkZdottLcgsk"
      },
      "outputs": [],
      "source": [
        "X = torch.tensor([1, 2, 3, 4, 5, 6], dtype=torch.float32)\n",
        "y = torch.tensor([5, 8, 11, 14, 17, 20], dtype=torch.float32)"
      ]
    },
    {
      "cell_type": "code",
      "execution_count": 16,
      "metadata": {},
      "outputs": [
        {
          "data": {
            "text/plain": [
              "tensor([ 5.,  8., 11., 14., 17., 20.])"
            ]
          },
          "execution_count": 16,
          "metadata": {},
          "output_type": "execute_result"
        }
      ],
      "source": [
        "y"
      ]
    },
    {
      "cell_type": "code",
      "execution_count": 18,
      "metadata": {
        "id": "cXFtOl1Ziqe8"
      },
      "outputs": [],
      "source": [
        "# here is the weights of the model, simple one-c tensor with gradient calc ability\n",
        "\n",
        "w = torch.tensor(0.0, requires_grad=True, dtype=torch.float32)"
      ]
    },
    {
      "cell_type": "code",
      "execution_count": 6,
      "metadata": {},
      "outputs": [
        {
          "data": {
            "text/plain": [
              "tensor([ 5.,  8., 11., 14., 17., 20.])"
            ]
          },
          "execution_count": 6,
          "metadata": {},
          "output_type": "execute_result"
        }
      ],
      "source": [
        "y"
      ]
    },
    {
      "cell_type": "code",
      "execution_count": 7,
      "metadata": {
        "id": "VqI8p0qTc6Om"
      },
      "outputs": [],
      "source": [
        "def forward(x):\n",
        "  return x * w"
      ]
    },
    {
      "cell_type": "code",
      "execution_count": 8,
      "metadata": {
        "id": "n0T_QyLucVUu"
      },
      "outputs": [],
      "source": [
        "def loss(y, y_pred):\n",
        "  return ((y_pred - y) ** 2).mean()"
      ]
    },
    {
      "cell_type": "code",
      "execution_count": 9,
      "metadata": {
        "id": "5Wt_c6n3cVYw"
      },
      "outputs": [],
      "source": [
        "import numpy as np\n",
        "# Gradient calculation is done using Numpy\n",
        "def gradient(x, y, y_pred):\n",
        "  return np.dot(2 * x, y_pred - y).mean()"
      ]
    },
    {
      "cell_type": "code",
      "execution_count": 10,
      "metadata": {
        "colab": {
          "base_uri": "https://localhost:8080/"
        },
        "id": "sVKr0UYNcVcS",
        "outputId": "f4e8230c-9534-486c-a559-c37c2131bb19"
      },
      "outputs": [
        {
          "name": "stdout",
          "output_type": "stream",
          "text": [
            "Predict with simple forward fn: 0.0\n"
          ]
        }
      ],
      "source": [
        "# Try predict what is the output before model training\n",
        "\n",
        "print(f\"Predict with simple forward fn: {forward(5)}\")"
      ]
    },
    {
      "cell_type": "code",
      "execution_count": 11,
      "metadata": {
        "id": "rjgEQSgzcVf2"
      },
      "outputs": [],
      "source": [
        "# beginning the training process\n",
        "\n",
        "learning_rate = 0.01\n",
        "n_iters = 30"
      ]
    },
    {
      "cell_type": "code",
      "execution_count": 12,
      "metadata": {
        "id": "XzVF8Le1cVjm"
      },
      "outputs": [
        {
          "name": "stdout",
          "output_type": "stream",
          "text": [
            "epoch 1: w=  6.300000 loss:  182.500000 dw : -630.000000\n",
            "epoch 2: w=  1.134000 loss:  122.965034 dw :  516.600037\n",
            "epoch 3: w=  5.370121 loss:  82.933693 dw : -423.612091\n",
            "epoch 4: w=  1.896501 loss:  56.016628 dw :  347.361908\n",
            "epoch 5: w=  4.744869 loss:  37.917572 dw : -284.836761\n",
            "epoch 6: w=  2.409207 loss:  25.747789 dw :  233.566193\n",
            "epoch 7: w=  4.324450 loss:  17.564817 dw : -191.524307\n",
            "epoch 8: w=  2.753951 loss:  12.062580 dw :  157.049911\n",
            "epoch 9: w=  4.041760 loss:  8.362876 dw : -128.780899\n",
            "epoch 10: w=  2.985757 loss:  5.875196 dw :  105.600327\n",
            "epoch 11: w=  3.851679 loss:  4.202481 dw : -86.592247\n",
            "epoch 12: w=  3.141623 loss:  3.077748 dw :  71.005646\n",
            "epoch 13: w=  3.723869 loss:  2.321479 dw : -58.224648\n",
            "epoch 14: w=  3.246427 loss:  1.812963 dw :  47.744217\n",
            "epoch 15: w=  3.637930 loss:  1.471037 dw : -39.150284\n",
            "epoch 16: w=  3.316898 loss:  1.241126 dw :  32.103245\n",
            "epoch 17: w=  3.580144 loss:  1.086532 dw : -26.324627\n",
            "epoch 18: w=  3.364282 loss:  0.982584 dw :  21.586185\n",
            "epoch 19: w=  3.541289 loss:  0.912690 dw : -17.700691\n",
            "epoch 20: w=  3.396143 loss:  0.865693 dw :  14.514581\n",
            "epoch 21: w=  3.515163 loss:  0.834092 dw : -11.901981\n",
            "epoch 22: w=  3.417566 loss:  0.812844 dw :  9.759646\n",
            "epoch 23: w=  3.497596 loss:  0.798556 dw : -8.002934\n",
            "epoch 24: w=  3.431971 loss:  0.788950 dw :  6.562443\n",
            "epoch 25: w=  3.485784 loss:  0.782490 dw : -5.381226\n",
            "epoch 26: w=  3.441658 loss:  0.778146 dw :  4.412601\n",
            "epoch 27: w=  3.477841 loss:  0.775225 dw : -3.618337\n",
            "epoch 28: w=  3.448170 loss:  0.773262 dw :  2.967053\n",
            "epoch 29: w=  3.472500 loss:  0.771941 dw : -2.432988\n",
            "epoch 30: w=  3.452550 loss:  0.771053 dw :  1.995069\n"
          ]
        }
      ],
      "source": [
        "# gradients calculated using numpy method\n",
        "w = 0.0\n",
        "\n",
        "for epoch in range(n_iters):\n",
        "  y_pred = forward(X)\n",
        "  l = loss(y , y_pred)\n",
        "  dw = gradient(X, y, y_pred)\n",
        "  w -= learning_rate * dw\n",
        "  if epoch % 1 == 0:\n",
        "    print(f\"epoch {epoch + 1}: w= {w: 3f} loss: {l: 8f} dw : {dw: 3f}\")"
      ]
    },
    {
      "cell_type": "code",
      "execution_count": 13,
      "metadata": {
        "colab": {
          "base_uri": "https://localhost:8080/"
        },
        "id": "FZAaGzzhcVnS",
        "outputId": "1f853467-d322-4ec9-c8e2-68ce3006d545"
      },
      "outputs": [
        {
          "name": "stdout",
          "output_type": "stream",
          "text": [
            "Prediction after training f(5) = 17.26274795532227\n"
          ]
        }
      ],
      "source": [
        "print(f\"Prediction after training f(5) = {forward(5)}\")"
      ]
    },
    {
      "cell_type": "code",
      "execution_count": 14,
      "metadata": {},
      "outputs": [
        {
          "data": {
            "text/plain": [
              "tensor([ 3.4525,  6.9051, 10.3576, 13.8102, 17.2627, 20.7153])"
            ]
          },
          "execution_count": 14,
          "metadata": {},
          "output_type": "execute_result"
        }
      ],
      "source": [
        "# [5, 8, 11, 14, 17, 20]\n",
        "# for i in X:\n",
        "    # print(forward(i))\n",
        "    \n",
        "X*w"
      ]
    },
    {
      "cell_type": "code",
      "execution_count": 19,
      "metadata": {
        "id": "iIQqoYZFilHP"
      },
      "outputs": [
        {
          "name": "stdout",
          "output_type": "stream",
          "text": [
            "epoch 1: w=  1.050000 loss:  182.500000\n",
            "epoch 2: w=  1.781500 loss:  88.971252\n",
            "epoch 3: w=  2.291111 loss:  43.577595\n",
            "epoch 4: w=  2.646141 loss:  21.546038\n",
            "epoch 5: w=  2.893478 loss:  10.853137\n",
            "epoch 6: w=  3.065790 loss:  5.663396\n",
            "epoch 7: w=  3.185834 loss:  3.144587\n",
            "epoch 8: w=  3.269464 loss:  1.922097\n",
            "epoch 9: w=  3.327727 loss:  1.328767\n",
            "epoch 10: w=  3.368316 loss:  1.040798\n",
            "epoch 11: w=  3.396594 loss:  0.901035\n",
            "epoch 12: w=  3.416294 loss:  0.833201\n",
            "epoch 13: w=  3.430018 loss:  0.800278\n",
            "epoch 14: w=  3.439579 loss:  0.784300\n",
            "epoch 15: w=  3.446240 loss:  0.776544\n",
            "epoch 16: w=  3.450881 loss:  0.772780\n",
            "epoch 17: w=  3.454114 loss:  0.770953\n",
            "epoch 18: w=  3.456366 loss:  0.770067\n",
            "epoch 19: w=  3.457935 loss:  0.769637\n",
            "epoch 20: w=  3.459028 loss:  0.769428\n",
            "epoch 21: w=  3.459790 loss:  0.769326\n",
            "epoch 22: w=  3.460320 loss:  0.769277\n",
            "epoch 23: w=  3.460690 loss:  0.769253\n",
            "epoch 24: w=  3.460947 loss:  0.769242\n",
            "epoch 25: w=  3.461126 loss:  0.769236\n",
            "epoch 26: w=  3.461251 loss:  0.769233\n",
            "epoch 27: w=  3.461338 loss:  0.769232\n",
            "epoch 28: w=  3.461399 loss:  0.769232\n",
            "epoch 29: w=  3.461441 loss:  0.769231\n",
            "epoch 30: w=  3.461471 loss:  0.769231\n"
          ]
        }
      ],
      "source": [
        "# gradients calculated using tensor backward() method\n",
        "\n",
        "for epoch in range(n_iters):\n",
        "  y_pred = forward(X)\n",
        "  l = loss(y , y_pred)\n",
        "  l.backward()  # this part is done by pytorch\n",
        "  with torch.no_grad():\n",
        "    w -= learning_rate * w.grad\n",
        "  w.grad.zero_()\n",
        "  if epoch % 1 == 0:\n",
        "    print(f\"epoch {epoch + 1}: w= {w: 3f} loss: {l: 8f}\")"
      ]
    },
    {
      "cell_type": "markdown",
      "metadata": {
        "id": "BupQuCjDjwfu"
      },
      "source": [
        "#### Going full torch mode"
      ]
    },
    {
      "cell_type": "code",
      "execution_count": 20,
      "metadata": {
        "id": "X5Npa5mGkDWF"
      },
      "outputs": [],
      "source": [
        "import torch\n",
        "import torch.nn as nn"
      ]
    },
    {
      "cell_type": "code",
      "execution_count": 21,
      "metadata": {
        "id": "SLpCHOUucVqn"
      },
      "outputs": [],
      "source": [
        "# the shape of the input is different, when used with torch models\n",
        "X = torch.tensor([[1], [2], [3], [4], [5]], dtype=torch.float32)\n",
        "Y = torch.tensor([[2], [4], [6], [8], [10]], dtype=torch.float32)\n",
        "\n",
        "# n_features is the cols persent in each datapoint, both inputs & targets\n",
        "n_samples, n_features = X.shape\n",
        "x_test = torch.tensor([5],\n",
        "                      dtype=torch.float32)"
      ]
    },
    {
      "cell_type": "code",
      "execution_count": 22,
      "metadata": {
        "id": "LCCDLfHvcVt3"
      },
      "outputs": [],
      "source": [
        "# Models are basic python classes with the blueprint.\n",
        "\n",
        "class LinearRegression(nn.Module):\n",
        "\n",
        "    def __init__(self, input_dim, output_dim):\n",
        "        super(LinearRegression, self).__init__()\n",
        "        # define layers\n",
        "        self.lin = nn.Linear(input_dim, output_dim)\n",
        "\n",
        "    def forward(self, x):\n",
        "        return self.lin(x)\n",
        "\n",
        "model = LinearRegression(n_features, n_features)"
      ]
    },
    {
      "cell_type": "code",
      "execution_count": 23,
      "metadata": {
        "colab": {
          "base_uri": "https://localhost:8080/"
        },
        "id": "uPi86oy8cVxT",
        "outputId": "4b70786d-0938-41c1-84db-0566eb2e5c32"
      },
      "outputs": [
        {
          "name": "stdout",
          "output_type": "stream",
          "text": [
            "prediction before training: f(5)= 4.796\n"
          ]
        }
      ],
      "source": [
        "loss = nn.MSELoss()\n",
        "optim = torch.optim.SGD(model.parameters(),\n",
        "                        lr=0.01)\n",
        "\n",
        "print(f\"prediction before training: f(5)= {model(x_test).item():.3f}\")\n",
        "# training\n",
        "learning_rate = 0.01\n",
        "n_iters = 30"
      ]
    },
    {
      "cell_type": "code",
      "execution_count": 27,
      "metadata": {},
      "outputs": [
        {
          "name": "stdout",
          "output_type": "stream",
          "text": [
            "Parameter containing:\n",
            "tensor([[1.8262]], requires_grad=True)\n",
            "Parameter containing:\n",
            "tensor([0.6263], requires_grad=True)\n"
          ]
        }
      ],
      "source": [
        "for i in model.parameters():\n",
        "    print(i)"
      ]
    },
    {
      "cell_type": "code",
      "execution_count": 24,
      "metadata": {
        "id": "mm2zEoO1luaI"
      },
      "outputs": [
        {
          "name": "stdout",
          "output_type": "stream",
          "text": [
            "epoch 1: w = 1.094, loss: 11.23808289\n",
            "epoch 2: w = 1.264, loss: 6.58492279\n",
            "epoch 3: w = 1.394, loss: 3.87304926\n",
            "epoch 4: w = 1.493, loss: 2.29246354\n",
            "epoch 5: w = 1.569, loss: 1.37113631\n",
            "epoch 6: w = 1.627, loss: 0.83399516\n",
            "epoch 7: w = 1.671, loss: 0.52073926\n",
            "epoch 8: w = 1.705, loss: 0.33795559\n",
            "epoch 9: w = 1.731, loss: 0.23120518\n",
            "epoch 10: w = 1.751, loss: 0.16876490\n",
            "epoch 11: w = 1.767, loss: 0.13214798\n",
            "epoch 12: w = 1.779, loss: 0.11058128\n",
            "epoch 13: w = 1.788, loss: 0.09778684\n",
            "epoch 14: w = 1.795, loss: 0.09010570\n",
            "epoch 15: w = 1.801, loss: 0.08540602\n",
            "epoch 16: w = 1.806, loss: 0.08244508\n",
            "epoch 17: w = 1.809, loss: 0.08049901\n",
            "epoch 18: w = 1.812, loss: 0.07914598\n",
            "epoch 19: w = 1.814, loss: 0.07813971\n",
            "epoch 20: w = 1.816, loss: 0.07733725\n",
            "epoch 21: w = 1.818, loss: 0.07665491\n",
            "epoch 22: w = 1.819, loss: 0.07604417\n",
            "epoch 23: w = 1.820, loss: 0.07547637\n",
            "epoch 24: w = 1.821, loss: 0.07493521\n",
            "epoch 25: w = 1.822, loss: 0.07441089\n",
            "epoch 26: w = 1.823, loss: 0.07389782\n",
            "epoch 27: w = 1.824, loss: 0.07339267\n",
            "epoch 28: w = 1.825, loss: 0.07289355\n",
            "epoch 29: w = 1.826, loss: 0.07239939\n",
            "epoch 30: w = 1.826, loss: 0.07190935\n"
          ]
        }
      ],
      "source": [
        "# Looking at the LinReg Model Training\n",
        "\n",
        "for epoch in range(n_iters):\n",
        "    # prediction to be extracted\n",
        "    y_pred = model(X)\n",
        "    # compute loss\n",
        "    l = loss(Y, y_pred)\n",
        "    # get gradient ==> backward()\n",
        "    l.backward()  # will calculate the grad w.r.t 'w'\n",
        "    # update weights is done by the optimizert\n",
        "    # with torch.no_grad():\n",
        "    #    w -= learning_rate * w.grad\n",
        "    optim.step()\n",
        "    # make the accumulated grad to 0\n",
        "    optim.zero_grad()\n",
        "    # printing epoch\n",
        "    if epoch % 1 == 0:\n",
        "        [w, b] = model.parameters()\n",
        "        # observe how the weights are extracted to display\n",
        "        print(f\"epoch {epoch + 1}: w = {w[0][0].item():.3f}, loss: {l:.8f}\")"
      ]
    },
    {
      "cell_type": "code",
      "execution_count": 25,
      "metadata": {
        "colab": {
          "base_uri": "https://localhost:8080/"
        },
        "id": "ixiswewcluXs",
        "outputId": "92c26ab8-c2ef-420c-8059-8c4180956b64"
      },
      "outputs": [
        {
          "name": "stdout",
          "output_type": "stream",
          "text": [
            "prediction after training: f(5)= 9.757\n"
          ]
        }
      ],
      "source": [
        "print(f\"prediction after training: f(5)= {model(x_test).item():.3f}\")"
      ]
    },
    {
      "cell_type": "markdown",
      "metadata": {
        "id": "N_kKJZrNqkUE"
      },
      "source": [
        "### Fine Tuning model from Scratch with Mnist Data\n",
        "\n",
        "This part of the notebook is self-contained, and can be extracted into a script for execution\n",
        "\n",
        "- MNIST data loader\n",
        "\n",
        "- Dataload and transformation\n",
        "\n",
        "- Design Multi-layer neural net with activation function\n",
        "\n",
        "- Loss and Optimiser declaration\n",
        "\n",
        "- Training loop with batches\n",
        "\n",
        "- model evaluation using accuracy\n",
        "\n",
        "- enable GPU support"
      ]
    },
    {
      "cell_type": "code",
      "execution_count": 24,
      "metadata": {
        "id": "vncrIC-kqf98"
      },
      "outputs": [],
      "source": [
        "import torch\n",
        "import torch.nn as nn\n",
        "import torchvision\n",
        "import torchvision.transforms as transforms\n",
        "import matplotlib.pyplot as plt\n",
        "from torch.utils.data import DataLoader\n",
        "from torch.nn import functional as F"
      ]
    },
    {
      "cell_type": "code",
      "execution_count": 25,
      "metadata": {
        "id": "pYJfluBTrRDT"
      },
      "outputs": [],
      "source": [
        "device = torch.device('cuda' if torch.cuda.is_available() else 'cpu')"
      ]
    },
    {
      "cell_type": "code",
      "execution_count": 26,
      "metadata": {
        "id": "z_11l0lsqf60"
      },
      "outputs": [],
      "source": [
        "# preliminary data\n",
        "input_size = 784\n",
        "hidden_size = 100\n",
        "\n",
        "num_classes = 10\n",
        "num_epochs = 2\n",
        "\n",
        "batch_size = 100\n",
        "learning_rate = 0.001"
      ]
    },
    {
      "cell_type": "code",
      "execution_count": 30,
      "metadata": {
        "colab": {
          "base_uri": "https://localhost:8080/"
        },
        "id": "q5oljH_4qf4N",
        "outputId": "463b0b17-ed1e-438b-e09b-8638b351969f"
      },
      "outputs": [
        {
          "data": {
            "text/plain": [
              "(<PIL.Image.Image image mode=L size=28x28>, 5)"
            ]
          },
          "execution_count": 30,
          "metadata": {},
          "output_type": "execute_result"
        }
      ],
      "source": [
        "raw_train = torchvision.datasets.MNIST(root='./data', train=True, download=False)\n",
        "raw_train[0]"
      ]
    },
    {
      "cell_type": "code",
      "execution_count": 37,
      "metadata": {
        "colab": {
          "base_uri": "https://localhost:8080/",
          "height": 45
        },
        "id": "em5VK9r5uZYO",
        "outputId": "5fef3f3e-2c56-4c89-966b-80b85daa146c"
      },
      "outputs": [
        {
          "data": {
            "image/png": "[encoded data removed]",
            "text/plain": [
              "<PIL.Image.Image image mode=L size=28x28>"
            ]
          },
          "execution_count": 37,
          "metadata": {},
          "output_type": "execute_result"
        }
      ],
      "source": [
        "\n",
        "raw_train[10][0]"
      ]
    },
    {
      "cell_type": "code",
      "execution_count": null,
      "metadata": {
        "id": "pLC9rkYEqf12"
      },
      "outputs": [],
      "source": [
        "from IPython.display import Image\n",
        "from matplotlib.pyplot import imshow\n",
        "%matplotlib inline\n",
        "\n",
        "imshow(raw_train[0][0]).show()"
      ]
    },
    {
      "cell_type": "code",
      "execution_count": 38,
      "metadata": {
        "id": "83vqF4R_qfzd"
      },
      "outputs": [],
      "source": [
        "train_dataset = torchvision.datasets.MNIST(root='./data', train=True,\n",
        "                                           transform=transforms.ToTensor())\n",
        "\n",
        "test_dataset = torchvision.datasets.MNIST(root='./data', train=False,\n",
        "                                          transform=transforms.ToTensor())\n",
        "\n",
        "train_loader = DataLoader(dataset=train_dataset, batch_size=batch_size,\n",
        "                          shuffle=True)\n",
        "\n",
        "test_loader = DataLoader(dataset=test_dataset, batch_size=batch_size,\n",
        "                         shuffle=False)"
      ]
    },
    {
      "cell_type": "code",
      "execution_count": 39,
      "metadata": {
        "colab": {
          "base_uri": "https://localhost:8080/"
        },
        "id": "RPpEGqB3qfuy",
        "outputId": "4ae03c33-69da-40af-9607-13a8f2395027"
      },
      "outputs": [
        {
          "name": "stdout",
          "output_type": "stream",
          "text": [
            "torch.Size([100, 1, 28, 28]) torch.Size([100])\n"
          ]
        }
      ],
      "source": [
        "# usage of iterator / generator\n",
        "examples = iter(train_loader)\n",
        "\n",
        "samples, labels = next(examples)\n",
        "\n",
        "print(samples.shape, labels.shape)"
      ]
    },
    {
      "cell_type": "code",
      "execution_count": 40,
      "metadata": {
        "colab": {
          "base_uri": "https://localhost:8080/",
          "height": 373
        },
        "id": "Owe9EeVVvGyO",
        "outputId": "099c00d3-190e-4409-8515-5866d2d7778b"
      },
      "outputs": [
        {
          "data": {
            "image/png": "[encoded data removed]",
            "text/plain": [
              "<Figure size 640x480 with 8 Axes>"
            ]
          },
          "metadata": {},
          "output_type": "display_data"
        }
      ],
      "source": [
        "for i in range(8):\n",
        "    plt.subplot(2, 4, i+1)\n",
        "    plt.imshow(samples[i][0], cmap='gray')"
      ]
    },
    {
      "cell_type": "code",
      "execution_count": 41,
      "metadata": {
        "id": "yBeMaHHQqfsP"
      },
      "outputs": [],
      "source": [
        "class NeuralNet(nn.Module):\n",
        "    def __init__(self, input_size, hidden_size, num_classes):\n",
        "        super(NeuralNet, self).__init__()\n",
        "        self.l1 = nn.Linear(input_size, hidden_size)\n",
        "        self.relu = nn.ReLU()\n",
        "        self.l2 = nn.Linear(hidden_size, num_classes)\n",
        "\n",
        "    def forward(self, x):\n",
        "        out = self.l1(x)\n",
        "        out = self.relu(out)\n",
        "        out = self.l2(out)\n",
        "        return out"
      ]
    },
    {
      "cell_type": "code",
      "execution_count": 42,
      "metadata": {
        "id": "5A0uTjWMluQ9"
      },
      "outputs": [],
      "source": [
        "model = NeuralNet(input_size=input_size,\n",
        "                  hidden_size=hidden_size,\n",
        "                  num_classes=num_classes)"
      ]
    },
    {
      "cell_type": "code",
      "execution_count": 43,
      "metadata": {
        "id": "w4L7usIFvRfm"
      },
      "outputs": [],
      "source": [
        "criterion = nn.CrossEntropyLoss()"
      ]
    },
    {
      "cell_type": "code",
      "execution_count": 44,
      "metadata": {
        "id": "qBCGz2sKvRdU"
      },
      "outputs": [],
      "source": [
        "optimizer = torch.optim.Adam(model.parameters(), lr=learning_rate)\n",
        "\n",
        "n_total_steps = len(train_loader)\n",
        "\n",
        "running_loss = 0.0\n",
        "\n",
        "running_corrects = 0"
      ]
    },
    {
      "cell_type": "code",
      "execution_count": null,
      "metadata": {
        "id": "_JHdwuQLvRbI"
      },
      "outputs": [],
      "source": [
        "for epoch in range(num_epochs):\n",
        "    print(f\"entering epoch: {epoch + 1}\\n\")\n",
        "    for i, (images, labels) in enumerate(train_loader):\n",
        "        # 100, 1, 28, 28\n",
        "        # 100, 784\n",
        "        images = images.reshape(-1, 28*28).to(device)\n",
        "        labels = labels.to(device)\n",
        "\n",
        "    # forward pass\n",
        "        outputs = model(images)\n",
        "        loss = criterion(outputs, labels)\n",
        "\n",
        "    # backward\n",
        "        optimizer.zero_grad()\n",
        "        loss.backward()\n",
        "        optimizer.step()\n",
        "        running_loss += loss.item()\n",
        "        _, predicted = torch.max(outputs.data, 1)\n",
        "        running_corrects += (predicted == labels).sum().item()\n",
        "        if (i+1) % 100 == 0:\n",
        "            print(f\"epoch: {epoch+1} / {num_epochs}, step {i + 1} / {n_total_steps} loss= {loss.item():.3f}\")\n",
        "            running_loss = 0.0\n",
        "            running_corrects = 0"
      ]
    },
    {
      "cell_type": "code",
      "execution_count": null,
      "metadata": {
        "id": "K4oCCymOvRVB"
      },
      "outputs": [],
      "source": [
        "with torch.no_grad():\n",
        "    n_correct = 0\n",
        "    n_samples =0\n",
        "    for images, labels in test_loader:\n",
        "        images = images.reshape(-1,28*28)\n",
        "        outputs = model(images)\n",
        "        # value, index\n",
        "        _, predictions = torch.max(outputs,1)\n",
        "        n_samples += labels.shape[0]\n",
        "        n_correct = (predictions == labels).sum().item()\n",
        "\n",
        "    acc = 100 * n_correct / n_samples\n",
        "    print(f\"accuracy = {acc}\")"
      ]
    },
    {
      "cell_type": "code",
      "execution_count": null,
      "metadata": {
        "id": "U_k8gbF6vRST"
      },
      "outputs": [],
      "source": []
    },
    {
      "cell_type": "code",
      "execution_count": null,
      "metadata": {
        "id": "1pnFTPaTvRPd"
      },
      "outputs": [],
      "source": []
    },
    {
      "cell_type": "code",
      "execution_count": null,
      "metadata": {
        "id": "f3kVDk2ovRMJ"
      },
      "outputs": [],
      "source": []
    }
  ],
  "metadata": {
    "colab": {
      "authorship_tag": "ABX9TyPiwyTl/GQPKXZrvimvgjc7",
      "include_colab_link": true,
      "provenance": []
    },
    "kernelspec": {
      "display_name": "Python 3",
      "name": "python3"
    },
    "language_info": {
      "codemirror_mode": {
        "name": "ipython",
        "version": 3
      },
      "file_extension": ".py",
      "mimetype": "text/x-python",
      "name": "python",
      "nbconvert_exporter": "python",
      "pygments_lexer": "ipython3",
      "version": "3.9.2"
    }
  },
  "nbformat": 4,
  "nbformat_minor": 0
}
