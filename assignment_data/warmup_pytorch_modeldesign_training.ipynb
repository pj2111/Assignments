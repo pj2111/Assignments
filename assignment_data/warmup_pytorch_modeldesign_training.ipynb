{
  "nbformat": 4,
  "nbformat_minor": 0,
  "metadata": {
    "colab": {
      "provenance": [],
      "authorship_tag": "ABX9TyNkBw86JeNnxffEY78CuUXe",
      "include_colab_link": true
    },
    "kernelspec": {
      "name": "python3",
      "display_name": "Python 3"
    },
    "language_info": {
      "name": "python"
    }
  },
  "cells": [
    {
      "cell_type": "markdown",
      "metadata": {
        "id": "view-in-github",
        "colab_type": "text"
      },
      "source": [
        "<a href=\"https://colab.research.google.com/github/pj2111/Assignments/blob/master/assignment_data/warmup_pytorch_modeldesign_training.ipynb\" target=\"_parent\"><img src=\"https://colab.research.google.com/assets/colab-badge.svg\" alt=\"Open In Colab\"/></a>"
      ]
    },
    {
      "cell_type": "code",
      "execution_count": 1,
      "metadata": {
        "id": "x9UxCc3sZpah"
      },
      "outputs": [],
      "source": [
        "!pip install transformers torch datasets > /dev/null"
      ]
    },
    {
      "cell_type": "markdown",
      "source": [
        "# 1) Design the model (input, output size and forward pass)\n",
        "    # Input, target data must have shape of m x n, i.e both must have features\n",
        "    # Model needs to designed by keeping the feature length in mind, as these will be processed\n",
        "# 2) construct loss and optimizer\n",
        "    # torch.nn module contains the variety of Loss Criterions\n",
        "    # torch.optim module contains various optimizers\n",
        "# 3) training loop\n",
        "\n",
        "###  - forward pass: compute prediction\n",
        "    # loss criterion is called with the target and predicted values\n",
        "\n",
        "###  - backward pass: compute gradient & update weights\n",
        "    # optimizers will take care of gradient, weight updates of the model\n",
        "    # remember to pass optimizer.zero_grad() for the gradient to be\n",
        "    # reset"
      ],
      "metadata": {
        "id": "cs3AjFlnjU4p"
      }
    },
    {
      "cell_type": "markdown",
      "source": [
        "### Start by working on bare-bones matrix model LinReg Training"
      ],
      "metadata": {
        "id": "SuP5I56hjhbl"
      }
    },
    {
      "cell_type": "code",
      "source": [
        "import torch"
      ],
      "metadata": {
        "id": "EEKbbZYWcVQ8"
      },
      "execution_count": 3,
      "outputs": []
    },
    {
      "cell_type": "code",
      "source": [
        "X = torch.tensor([1, 2, 3, 4, 5, 6], dtype=torch.float32)\n",
        "y = torch.tensor([2, 4, 6, 8, 10, 12], dtype=torch.float32)"
      ],
      "metadata": {
        "id": "ZkZdottLcgsk"
      },
      "execution_count": 4,
      "outputs": []
    },
    {
      "cell_type": "code",
      "source": [
        "# here is the weights of the model, simple one-c tensor with gradient calc ability\n",
        "\n",
        "w = torch.tensor(0.0, requires_grad=True, dtype=torch.float32)"
      ],
      "metadata": {
        "id": "cXFtOl1Ziqe8"
      },
      "execution_count": 14,
      "outputs": []
    },
    {
      "cell_type": "code",
      "source": [
        "def forward(x):\n",
        "  return x * w"
      ],
      "metadata": {
        "id": "VqI8p0qTc6Om"
      },
      "execution_count": 5,
      "outputs": []
    },
    {
      "cell_type": "code",
      "source": [
        "def loss(y, y_pred):\n",
        "  return ((y_pred - y) ** 2).mean()"
      ],
      "metadata": {
        "id": "n0T_QyLucVUu"
      },
      "execution_count": 6,
      "outputs": []
    },
    {
      "cell_type": "code",
      "source": [
        "import numpy as np\n",
        "# Gradient calculation is done using Numpy\n",
        "def gradient(x, y, y_pred):\n",
        "  return np.dot(2 * x, y_pred - y).mean()"
      ],
      "metadata": {
        "id": "5Wt_c6n3cVYw"
      },
      "execution_count": 7,
      "outputs": []
    },
    {
      "cell_type": "code",
      "source": [
        "# Try predict what is the output before model training\n",
        "\n",
        "print(f\"Predict with simple forward fn: {forward(5)}\")"
      ],
      "metadata": {
        "colab": {
          "base_uri": "https://localhost:8080/"
        },
        "id": "sVKr0UYNcVcS",
        "outputId": "f4e8230c-9534-486c-a559-c37c2131bb19"
      },
      "execution_count": 8,
      "outputs": [
        {
          "output_type": "stream",
          "name": "stdout",
          "text": [
            "Predict with simple forward fn: 0.0\n"
          ]
        }
      ]
    },
    {
      "cell_type": "code",
      "source": [
        "# beginning the training process\n",
        "\n",
        "learning_rate = 0.01\n",
        "n_iters = 30"
      ],
      "metadata": {
        "id": "rjgEQSgzcVf2"
      },
      "execution_count": 11,
      "outputs": []
    },
    {
      "cell_type": "code",
      "source": [
        "# gradients calculated using numpy method\n",
        "w = 0.0\n",
        "\n",
        "for epoch in range(n_iters):\n",
        "  y_pred = forward(X)\n",
        "  l = loss(y , y_pred)\n",
        "  dw = gradient(X, y, y_pred)\n",
        "  w -= learning_rate * dw\n",
        "  if epoch % 1 == 0:\n",
        "    print(f\"epoch {epoch + 1}: w= {w: 3f} loss: {l: 8f}\")"
      ],
      "metadata": {
        "id": "XzVF8Le1cVjm"
      },
      "execution_count": null,
      "outputs": []
    },
    {
      "cell_type": "code",
      "source": [
        "print(f\"Prediction after training f(5) = {forward(5)}\")"
      ],
      "metadata": {
        "colab": {
          "base_uri": "https://localhost:8080/"
        },
        "id": "FZAaGzzhcVnS",
        "outputId": "1f853467-d322-4ec9-c8e2-68ce3006d545"
      },
      "execution_count": 13,
      "outputs": [
        {
          "output_type": "stream",
          "name": "stdout",
          "text": [
            "Prediction after training f(5) = 9.999804496765137\n"
          ]
        }
      ]
    },
    {
      "cell_type": "code",
      "source": [
        "# gradients calculated using tensor backward() method\n",
        "\n",
        "for epoch in range(n_iters):\n",
        "  y_pred = forward(X)\n",
        "  l = loss(y , y_pred)\n",
        "  l.backward()  # this part is done by pytorch\n",
        "  with torch.no_grad():\n",
        "    w -= learning_rate * w.grad\n",
        "  w.grad.zero_()\n",
        "  if epoch % 1 == 0:\n",
        "    print(f\"epoch {epoch + 1}: w= {w: 3f} loss: {l: 8f}\")"
      ],
      "metadata": {
        "id": "iIQqoYZFilHP"
      },
      "execution_count": null,
      "outputs": []
    },
    {
      "cell_type": "markdown",
      "source": [
        "#### Going full torch mode"
      ],
      "metadata": {
        "id": "BupQuCjDjwfu"
      }
    },
    {
      "cell_type": "code",
      "source": [
        "import torch\n",
        "import torch.nn as nn"
      ],
      "metadata": {
        "id": "X5Npa5mGkDWF"
      },
      "execution_count": 18,
      "outputs": []
    },
    {
      "cell_type": "code",
      "source": [
        "# the shape of the input is different, when used with torch models\n",
        "X = torch.tensor([[1], [2], [3], [4], [5]], dtype=torch.float32)\n",
        "Y = torch.tensor([[2], [4], [6], [8], [10]], dtype=torch.float32)\n",
        "\n",
        "# n_features is the cols persent in each datapoint, both inputs & targets\n",
        "n_samples, n_features = X.shape\n",
        "x_test = torch.tensor([5],\n",
        "                      dtype=torch.float32)"
      ],
      "metadata": {
        "id": "SLpCHOUucVqn"
      },
      "execution_count": 17,
      "outputs": []
    },
    {
      "cell_type": "code",
      "source": [
        "# Models are basic python classes with the blueprint.\n",
        "\n",
        "class LinearRegression(nn.Module):\n",
        "\n",
        "    def __init__(self, input_dim, output_dim):\n",
        "        super(LinearRegression, self).__init__()\n",
        "        # define layers\n",
        "        self.lin = nn.Linear(input_dim, output_dim)\n",
        "\n",
        "    def forward(self, x):\n",
        "        return self.lin(x)\n",
        "\n",
        "model = LinearRegression(n_features, n_features)"
      ],
      "metadata": {
        "id": "LCCDLfHvcVt3"
      },
      "execution_count": 19,
      "outputs": []
    },
    {
      "cell_type": "code",
      "source": [],
      "metadata": {
        "id": "uPi86oy8cVxT"
      },
      "execution_count": null,
      "outputs": []
    }
  ]
}