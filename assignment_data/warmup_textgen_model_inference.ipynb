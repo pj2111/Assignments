{
  "cells": [
    {
      "cell_type": "code",
      "source": [
        "!pip install rich transformers torch accelerate bitsandbytes peft > /dev/null"
      ],
      "metadata": {
        "id": "Pix8elC8JEVL"
      },
      "id": "Pix8elC8JEVL",
      "execution_count": null,
      "outputs": []
    },
    {
      "cell_type": "markdown",
      "id": "301491de",
      "metadata": {
        "id": "301491de"
      },
      "source": [
        "Task: Text Generation\n",
        "\n",
        "Each task has its own default model in the pipeline.\n",
        "\n",
        "- Causal Language Modeling\n",
        "\n",
        "- Masked Language Modeling\n",
        "\n",
        "Another type of variation is\n",
        "\n",
        "- Text Generation\n",
        "\n",
        "- Text-to-Text Generation models\n",
        "\n",
        "\n",
        "Variety of LMs in HuggingFace\n",
        "\n",
        "https://huggingface.co/spaces/HuggingFaceH4/open_llm_leaderboard\n",
        "\n",
        "\n",
        "Some of the Text generation Tasks\n",
        "\n",
        "Code Generation: Trained to generate code\n",
        "\n",
        "https://huggingface.co/spaces/bigcode/bigcode-playground\n",
        "\n",
        "Instruction Model: Those that are trained on instruction\n",
        "\n",
        "Stories generation: A prompt starts the Stories Generation\n",
        "\n",
        "\n",
        "Quantization Using BitsAndBytes is touched\n",
        "\n",
        "- Grokking how the models are shrunk and loaded.\n",
        "\n"
      ]
    },
    {
      "cell_type": "code",
      "execution_count": 2,
      "id": "708f972a-4ac4-4b85-a1aa-a0c2579df219",
      "metadata": {
        "id": "708f972a-4ac4-4b85-a1aa-a0c2579df219"
      },
      "outputs": [],
      "source": [
        "from transformers import AutoModelForCausalLM, AutoTokenizer"
      ]
    },
    {
      "cell_type": "code",
      "source": [
        "from transformers import pipeline\n",
        "\n",
        "path = \"distilbert/distilgpt2\"\n",
        "\n",
        "generator = pipeline('text-generation',\n",
        "                     model = path)\n",
        "\n",
        "generator(\"Hello, I'm a language model\",\n",
        "          max_length = 30,\n",
        "          num_return_sequences=3)\n",
        "\n",
        "# Will provide 3 generated statements"
      ],
      "metadata": {
        "id": "UXgTZEt23Rt6"
      },
      "id": "UXgTZEt23Rt6",
      "execution_count": null,
      "outputs": []
    },
    {
      "cell_type": "code",
      "execution_count": null,
      "metadata": {
        "id": "b4dee59a-9963-43f1-80ce-2e084b5a62e2"
      },
      "outputs": [],
      "source": [
        "# - Text-to-Text generation models have a separate pipeline called text2text-generation.\n",
        "\n",
        "# - This pipeline takes an input containing the sentence including the task and returns the output of the accomplished task."
      ],
      "id": "b4dee59a-9963-43f1-80ce-2e084b5a62e2"
    },
    {
      "cell_type": "code",
      "execution_count": 4,
      "id": "5b0ee9b6-54ca-4b5f-aa8d-0bca5ca97bb2",
      "metadata": {
        "id": "5b0ee9b6-54ca-4b5f-aa8d-0bca5ca97bb2",
        "outputId": "6c2c09bb-b3e7-4b9c-e681-2d1e8ecf3422",
        "colab": {
          "base_uri": "https://localhost:8080/",
          "height": 284,
          "referenced_widgets": [
            "0ea8c2c2fed44ae6a16c550449c90712",
            "71cefb1563454cdaa3a17df07a22dde9",
            "c40b4cbc948049ab842c21efb4fdeead",
            "bca70afa7ce540f29abb485190710797",
            "8bb2025ac6b54e7fb1e681cc430134a6",
            "28f7ae6b59e74cc3a415247e656b5d1c",
            "803fc88508d04926af4d405079b075ca",
            "8399d1ebea3b4ccd85fa96c9763d99f3",
            "0d1d97e78ef74198874099b7f16d30a7",
            "15c2e9b8fc2e4965b257fc97b4605811",
            "da542a756167447f8835726db41885dc",
            "4fd5e63303c2490fa91a2b57bba9f497",
            "0d94e30897a14f7ca088a60b23552b20",
            "d18b86c46b65400cbf30ec8632171f3f",
            "e2d9a882bbed49e0bbaaca9f21ab883a",
            "49e8d1fc02724e6faff7d54daf167549",
            "238a5a7346234888b6af47ead82e699e",
            "4013a50363584315a58676d483129792",
            "d60d3dd03b6d4cfaae8484ba0d56d21b",
            "3bbfdc3992504b47a8fef8d17ccd2063",
            "fa1b1a3dae724a94a57c82660e8c00d6",
            "000b3924045f4d45b1605e3f9f671082",
            "d2e747addd71465bb35418c735f7abe0",
            "a027ae8b526d42dd996f0527234e1d81",
            "74f5e0c3e7654fd6987b080f99466a70",
            "c70eba45e9cc4763ab66024852077025",
            "f41070da33284beaa134bf44f02de7db",
            "8fce17b72fd44528b55d4bec7d9bd65d",
            "1d5627208b4b4ae5994aafafbebd95d2",
            "a560d3e15a2d4fe39c0f6c85a45b21bb",
            "c2f8764e2a4046edaf6ebacd4f5d7f81",
            "54851768b92a4195a7bf0c58db686130",
            "86436bc46f2443a0a842c32524940399",
            "23dbf3795e354d26aaedf61e13acf309",
            "a900691f0f634ba7bb093a7cd0f031d4",
            "ec32e1404b324b618208f45cc568053c",
            "4ba00cd5d0bc4a009da7c9d446fa6dc6",
            "3a4564ef2c58497b95c701b579251df1",
            "9882dd995f7545009b5513f08b3c7838",
            "5a7b812322ff4d3cb0d1dea671b5d96a",
            "6d839134100a4b65b841316ad958c802",
            "9c8c9463134a4128b29d534885eb7fd0",
            "b7433b90089944adab135d8164b11d08",
            "d96ab45109b74be585b734a6b9e6a91b",
            "484fc9f30ff7456fb7308a7325a5de31",
            "ed7d21085ce149bfb9acd0fd25594da0",
            "80159de3aa1841459a9f70c6c06d0431",
            "5dd372dc583743889a1dac4e33aae481",
            "d3eb794690674d25a038cf1000b5251c",
            "8e3055a0e1a042e0b3e92ec88774f875",
            "01bc89ff52b24e148fa3e0bec8c09513",
            "d9d9c21c72e14535af06ca635c07a2f8",
            "0132a6f1a2ec4b089e82bbc19fa15f59",
            "df158ddc0fce434f9d719a21cf329c14",
            "de6afb31d9594803a6dd5a8d8c4f5b77"
          ]
        }
      },
      "outputs": [
        {
          "output_type": "stream",
          "name": "stderr",
          "text": [
            "No model was supplied, defaulted to google-t5/t5-base and revision 686f1db (https://huggingface.co/google-t5/t5-base).\n",
            "Using a pipeline without specifying a model name and revision in production is not recommended.\n"
          ]
        },
        {
          "output_type": "display_data",
          "data": {
            "text/plain": [
              "config.json:   0%|          | 0.00/1.21k [00:00<?, ?B/s]"
            ],
            "application/vnd.jupyter.widget-view+json": {
              "version_major": 2,
              "version_minor": 0,
              "model_id": "0ea8c2c2fed44ae6a16c550449c90712"
            }
          },
          "metadata": {}
        },
        {
          "output_type": "display_data",
          "data": {
            "text/plain": [
              "model.safetensors:   0%|          | 0.00/892M [00:00<?, ?B/s]"
            ],
            "application/vnd.jupyter.widget-view+json": {
              "version_major": 2,
              "version_minor": 0,
              "model_id": "4fd5e63303c2490fa91a2b57bba9f497"
            }
          },
          "metadata": {}
        },
        {
          "output_type": "display_data",
          "data": {
            "text/plain": [
              "generation_config.json:   0%|          | 0.00/147 [00:00<?, ?B/s]"
            ],
            "application/vnd.jupyter.widget-view+json": {
              "version_major": 2,
              "version_minor": 0,
              "model_id": "d2e747addd71465bb35418c735f7abe0"
            }
          },
          "metadata": {}
        },
        {
          "output_type": "display_data",
          "data": {
            "text/plain": [
              "spiece.model:   0%|          | 0.00/792k [00:00<?, ?B/s]"
            ],
            "application/vnd.jupyter.widget-view+json": {
              "version_major": 2,
              "version_minor": 0,
              "model_id": "23dbf3795e354d26aaedf61e13acf309"
            }
          },
          "metadata": {}
        },
        {
          "output_type": "display_data",
          "data": {
            "text/plain": [
              "tokenizer.json:   0%|          | 0.00/1.39M [00:00<?, ?B/s]"
            ],
            "application/vnd.jupyter.widget-view+json": {
              "version_major": 2,
              "version_minor": 0,
              "model_id": "484fc9f30ff7456fb7308a7325a5de31"
            }
          },
          "metadata": {}
        },
        {
          "output_type": "stream",
          "name": "stderr",
          "text": [
            "/usr/local/lib/python3.10/dist-packages/transformers/generation/utils.py:1141: UserWarning: Using the model-agnostic default `max_length` (=20) to control the generation length. We recommend setting `max_new_tokens` to control the maximum length of the generation.\n",
            "  warnings.warn(\n"
          ]
        },
        {
          "output_type": "execute_result",
          "data": {
            "text/plain": [
              "[{'generated_text': 'the answer to life, the universe and everything'}]"
            ]
          },
          "metadata": {},
          "execution_count": 4
        }
      ],
      "source": [
        "from transformers import pipeline\n",
        "\n",
        "text2text_generator = pipeline(\"text2text-generation\")\n",
        "\n",
        "text2text_generator(\"question: What is 42 ? context: 42 is the answer to life, the universe and everything\")"
      ]
    },
    {
      "cell_type": "markdown",
      "source": [
        "#### How pipeline works: Dive into AutoClasses\n",
        "\n",
        "The pipeline function is built using the AutoModel, AutoTokenizer to create the generated text. We will look into, how it could be implemented"
      ],
      "metadata": {
        "id": "lZch88i_yjDZ"
      },
      "id": "lZch88i_yjDZ"
    },
    {
      "cell_type": "code",
      "source": [
        "model = AutoModelForCausalLM.from_pretrained(path)"
      ],
      "metadata": {
        "id": "sdFD1ntz5gu-"
      },
      "id": "sdFD1ntz5gu-",
      "execution_count": 5,
      "outputs": []
    },
    {
      "cell_type": "code",
      "execution_count": 6,
      "id": "73ccce0e-f9fe-4497-87de-ea684957a9ca",
      "metadata": {
        "id": "73ccce0e-f9fe-4497-87de-ea684957a9ca",
        "outputId": "7519dde1-fc0e-43be-ed75-9695e084a6f1",
        "colab": {
          "base_uri": "https://localhost:8080/"
        }
      },
      "outputs": [
        {
          "output_type": "execute_result",
          "data": {
            "text/plain": [
              "GenerationConfig {\n",
              "  \"bos_token_id\": 50256,\n",
              "  \"eos_token_id\": 50256\n",
              "}"
            ]
          },
          "metadata": {},
          "execution_count": 6
        }
      ],
      "source": [
        "from transformers import AutoModelForCausalLM\n",
        "\n",
        "model = AutoModelForCausalLM.from_pretrained(path)\n",
        "model.generation_config"
      ]
    },
    {
      "cell_type": "code",
      "source": [
        "prompt = \"Question: Please write a function in Python that transforms bytes to Giga bytes.\\n\\nAnswer:\""
      ],
      "metadata": {
        "id": "BhNWnctM80nI"
      },
      "id": "BhNWnctM80nI",
      "execution_count": 7,
      "outputs": []
    },
    {
      "cell_type": "code",
      "source": [
        "tokenizer = AutoTokenizer.from_pretrained(path)"
      ],
      "metadata": {
        "id": "gOa1sxiE0cmX"
      },
      "id": "gOa1sxiE0cmX",
      "execution_count": 8,
      "outputs": []
    },
    {
      "cell_type": "code",
      "source": [
        "model = AutoModelForCausalLM.from_pretrained(path,\n",
        "                                             pad_token_id=0)"
      ],
      "metadata": {
        "id": "z9wdhcjt0eCA"
      },
      "id": "z9wdhcjt0eCA",
      "execution_count": 9,
      "outputs": []
    },
    {
      "cell_type": "code",
      "source": [
        "# Lets first look at how to provide the model into the pipeline\n",
        "\n",
        "pipe = pipeline(\"text-generation\",\n",
        "                model=model,\n",
        "                tokenizer=tokenizer)\n",
        "\n",
        "result = pipe(prompt,\n",
        "              max_new_tokens=60)[0][\"generated_text\"][len(prompt):]\n",
        "\n",
        "result\n"
      ],
      "metadata": {
        "id": "T5pYvaYn7Lqm",
        "outputId": "dfe6c64e-312a-4601-a988-478d55c5f3f9",
        "colab": {
          "base_uri": "https://localhost:8080/",
          "height": 70
        }
      },
      "id": "T5pYvaYn7Lqm",
      "execution_count": 10,
      "outputs": [
        {
          "output_type": "stream",
          "name": "stderr",
          "text": [
            "Setting `pad_token_id` to `eos_token_id`:50256 for open-end generation.\n"
          ]
        },
        {
          "output_type": "execute_result",
          "data": {
            "text/plain": [
              "' Please write a function and make it transparently available and transparent as well as making it transparently available.\\nAnswer: Please write a function as an expression or function whose code is equivalent to the one that is in the giga. It will read and write the function in a standard giga.'"
            ],
            "application/vnd.google.colaboratory.intrinsic+json": {
              "type": "string"
            }
          },
          "metadata": {},
          "execution_count": 10
        }
      ]
    },
    {
      "cell_type": "code",
      "source": [
        "# max_new_tokens: the maximum number of tokens to generate. In other words, the size of the output sequence,\n",
        "# not including the tokens in the prompt. As an alternative to using the output’s length as a stopping criteria,\n",
        "# you can choose to stop generation whenever the full generation exceeds some amount of time. To learn more, check StoppingCriteria.\n",
        "\n",
        "# num_beams: by specifying a number of beams higher than 1, you are effectively switching from greedy\n",
        "# search to beam search. This strategy evaluates several hypotheses at each time step and eventually\n",
        "# chooses the hypothesis that has the overall highest probability for the entire sequence. This has\n",
        "# the advantage of identifying high-probability sequences that start with a lower probability initial\n",
        "# tokens and would’ve been ignored by the greedy search. Visualize how it works in the beam search visualizer below.\n",
        "\n",
        "# do_sample: if set to True, this parameter enables decoding strategies such as multinomial sampling,\n",
        "# beam-search multinomial sampling, Top-K sampling and Top-p sampling. All these strategies select the\n",
        "# next token from the probability distribution over the entire vocabulary with various strategy-specific adjustments.\n",
        "\n",
        "# num_return_sequences: the number of sequence candidates to return for each input. This option is only\n",
        "# available for the decoding strategies that support multiple sequence candidates, e.g. variations of\n",
        "# beam search and sampling. Decoding strategies like greedy search and contrastive search\n",
        "# return a single output sequence."
      ],
      "metadata": {
        "id": "K_3mEXi_1r7W"
      },
      "id": "K_3mEXi_1r7W",
      "execution_count": 13,
      "outputs": []
    },
    {
      "cell_type": "code",
      "source": [
        "# https://huggingface.co/spaces/m-ric/beam_search_visualizer\n",
        "\n",
        "# https://huggingface.co/blog/optimize-llm"
      ],
      "metadata": {
        "id": "ZvNnoZRo1yS_"
      },
      "id": "ZvNnoZRo1yS_",
      "execution_count": 14,
      "outputs": []
    },
    {
      "cell_type": "code",
      "source": [
        "from transformers import AutoModelForSeq2SeqLM, GenerationConfig\n",
        "\n",
        "tokenizer = AutoTokenizer.from_pretrained(\"google-t5/t5-small\")\n",
        "\n",
        "model = AutoModelForSeq2SeqLM.from_pretrained(\"google-t5/t5-small\")"
      ],
      "metadata": {
        "id": "puR0uNDT18OH"
      },
      "id": "puR0uNDT18OH",
      "execution_count": 15,
      "outputs": []
    },
    {
      "cell_type": "code",
      "source": [
        "translation_generation_config = GenerationConfig(\n",
        "    num_beams=4,\n",
        "    early_stopping=True,\n",
        "    decoder_start_token_id=0,\n",
        "    eos_token_id=model.config.eos_token_id,\n",
        "    pad_token=model.config.pad_token_id,\n",
        ")"
      ],
      "metadata": {
        "id": "5Xm5n5pY9-_m"
      },
      "id": "5Xm5n5pY9-_m",
      "execution_count": 16,
      "outputs": []
    },
    {
      "cell_type": "code",
      "source": [
        "# Tip: add `push_to_hub=True` to push to the Hub\n",
        "translation_generation_config.save_pretrained(\"/tmp\", \"translation_generation_config.json\")\n",
        "\n",
        "# You could then use the named generation config file to parameterize generation\n",
        "generation_config = GenerationConfig.from_pretrained(\"/tmp\", \"translation_generation_config.json\")"
      ],
      "metadata": {
        "id": "2Qw1jOy51bIP"
      },
      "id": "2Qw1jOy51bIP",
      "execution_count": 17,
      "outputs": []
    },
    {
      "cell_type": "code",
      "source": [
        "inputs = tokenizer(\"translate English to French: Configuration files are easy to use!\", return_tensors=\"pt\")b"
      ],
      "metadata": {
        "id": "cuMmmcbQ3Ju4"
      },
      "id": "cuMmmcbQ3Ju4",
      "execution_count": 18,
      "outputs": []
    },
    {
      "cell_type": "code",
      "source": [
        "inputs"
      ],
      "metadata": {
        "id": "xmDfxP113LIg",
        "outputId": "200dede3-9af1-4570-e2f0-2bfd5d6e136c",
        "colab": {
          "base_uri": "https://localhost:8080/"
        }
      },
      "id": "xmDfxP113LIg",
      "execution_count": 19,
      "outputs": [
        {
          "output_type": "execute_result",
          "data": {
            "text/plain": [
              "{'input_ids': tensor([[13959,  1566,    12,  2379,    10, 25306,   257,  2073,    33,   514,\n",
              "            12,   169,    55,     1]]), 'attention_mask': tensor([[1, 1, 1, 1, 1, 1, 1, 1, 1, 1, 1, 1, 1, 1]])}"
            ]
          },
          "metadata": {},
          "execution_count": 19
        }
      ]
    },
    {
      "cell_type": "code",
      "source": [
        "outputs = model.generate(**inputs, generation_config=generation_config)\n",
        "\n",
        "print(tokenizer.batch_decode(outputs, skip_special_tokens=True))"
      ],
      "metadata": {
        "id": "Sls7uV2Q1i0f",
        "outputId": "2a12c7e9-7b56-4bc2-a2ef-bbe526fc6243",
        "colab": {
          "base_uri": "https://localhost:8080/"
        }
      },
      "id": "Sls7uV2Q1i0f",
      "execution_count": 20,
      "outputs": [
        {
          "output_type": "stream",
          "name": "stderr",
          "text": [
            "Setting `pad_token_id` to `eos_token_id`:1 for open-end generation.\n",
            "/usr/local/lib/python3.10/dist-packages/transformers/generation/utils.py:1141: UserWarning: Using the model-agnostic default `max_length` (=20) to control the generation length. We recommend setting `max_new_tokens` to control the maximum length of the generation.\n",
            "  warnings.warn(\n"
          ]
        },
        {
          "output_type": "stream",
          "name": "stdout",
          "text": [
            "['Les fichiers de configuration sont faciles à utiliser!']\n"
          ]
        }
      ]
    },
    {
      "cell_type": "markdown",
      "source": [
        "##### Practice with Gemma Model\n",
        "\n",
        "Explore the model inference processes, its methods by executing below cells."
      ],
      "metadata": {
        "id": "Lal4vbDy70V7"
      },
      "id": "Lal4vbDy70V7"
    },
    {
      "cell_type": "code",
      "source": [
        "# Gemma model will require your read access token.\n",
        "\n",
        "from huggingface_hub import notebook_login\n",
        "\n",
        "notebook_login()"
      ],
      "metadata": {
        "id": "yQLdd7xV5c-n",
        "outputId": "5b6f9294-38a4-40c4-9a87-f6516a55b789",
        "colab": {
          "base_uri": "https://localhost:8080/",
          "height": 145,
          "referenced_widgets": [
            "4f23d01d0377467fbdddeecdab3cdf2f",
            "69db9bc1710149fbbd2064bcf6c0a357",
            "40b2768dcae4413b87fc3104226a0ba6",
            "c176f814672c4c7f9d3e4e881bc3efc6",
            "43829a01fe2a41c490970da1eab4b57d",
            "e7d8be877e984fc4abf0f1d82b65741e",
            "4a739a12768e400195b24516e2db404d",
            "e34ab5d240024f2bae0a7efe0c639219",
            "a5ef08e584c3465d908969fc492bfc94",
            "1769334add064b759d44cd1033111a5f",
            "9d9d8555fcf74673b4687da0e996aff4",
            "243f3efafa0b4c74a2b34efb4b2fb0ef",
            "051ece87c7114977b625fecf6dc58fef",
            "89e8e0e7dc6044f0b7190e98ff4d8f2a",
            "a3b89d21ff5d4e9a86caf5cc79466116",
            "ce942d6a006d49ba90f373adbd39ab19",
            "32ad20d4341947b4b35b78b4bf43a4a1",
            "5fa96886885d493b952f59f6e188376e",
            "c8f74d3de54c4696ade2588c22558499",
            "beb2f40cae28480ba6232b815b51893f",
            "dda0f4e7855a402e9cd0c15ef97c9b6f",
            "2dc102125cf9483bbab9fbf236ee2c7d",
            "69f6ddd5d34541358c5caa1c2098ac85",
            "6a7a7a83b24c4698b870fe6cdc22c588",
            "93582d2c32944b10b78084dd8238a204",
            "459ad13ac99d4e3ca0888767e58ebc35",
            "8b9d3353b9f440c191e9fe2c10918cf8",
            "3027ed173a1f4b6282e48eb54d6d6d55",
            "3621c00d4d014b6d96f350b81f439833",
            "c7488ab5aec249078ec496dab7766a6f",
            "4fd12728c80e4bc5a692feacc348212c",
            "51f6852da42b4ff4aeb1e507a91e5f1b"
          ]
        }
      },
      "id": "yQLdd7xV5c-n",
      "execution_count": 25,
      "outputs": [
        {
          "output_type": "display_data",
          "data": {
            "text/plain": [
              "VBox(children=(HTML(value='<center> <img\\nsrc=https://huggingface.co/front/assets/huggingface_logo-noborder.sv…"
            ],
            "application/vnd.jupyter.widget-view+json": {
              "version_major": 2,
              "version_minor": 0,
              "model_id": "4f23d01d0377467fbdddeecdab3cdf2f"
            }
          },
          "metadata": {}
        }
      ]
    },
    {
      "cell_type": "code",
      "source": [
        "from transformers import AutoTokenizer, AutoModelForCausalLM\n",
        "import torch\n",
        "\n",
        "tokenizer = AutoTokenizer.from_pretrained(\"google/gemma-2b-it\")\n",
        "model = AutoModelForCausalLM.from_pretrained(\n",
        "    \"google/gemma-2b-it\",\n",
        "    torch_dtype=torch.bfloat16\n",
        ")"
      ],
      "metadata": {
        "id": "Emh1nF6g5xug"
      },
      "id": "Emh1nF6g5xug",
      "execution_count": null,
      "outputs": []
    },
    {
      "cell_type": "code",
      "source": [
        "torch.cuda.is_available()"
      ],
      "metadata": {
        "id": "dvnItdci6LUH",
        "outputId": "994aa002-8377-47e1-b20d-891319e2a1da",
        "colab": {
          "base_uri": "https://localhost:8080/"
        }
      },
      "id": "dvnItdci6LUH",
      "execution_count": 28,
      "outputs": [
        {
          "output_type": "execute_result",
          "data": {
            "text/plain": [
              "True"
            ]
          },
          "metadata": {},
          "execution_count": 28
        }
      ]
    },
    {
      "cell_type": "code",
      "source": [
        "model.to('cuda')"
      ],
      "metadata": {
        "id": "vukt2vUn6VlX"
      },
      "id": "vukt2vUn6VlX",
      "execution_count": null,
      "outputs": []
    },
    {
      "cell_type": "code",
      "execution_count": null,
      "id": "d8ae303e-50c9-4f81-a655-cc0653007b7d",
      "metadata": {
        "id": "d8ae303e-50c9-4f81-a655-cc0653007b7d"
      },
      "outputs": [],
      "source": [
        "# not required to run this cell.\n",
        "\n",
        "# llama_path = \"/home/kamal/.cache/huggingface/hub/models--meta-llama--Llama-2-7b-chat-hf/snapshots/c1b0db933684edbfe29a06fa47eb19cc48025e93/\"\n",
        "import torch\n",
        "gemma_path = \"google/gemma-2b-it\"\n",
        "\n",
        "gemma = AutoModelForCausalLM.from_pretrained(\n",
        "    # pretrained_model_name_or_path='/home/aicoder/.cache/huggingface/hub/models--google--gemma-2b-it/snapshots/718cb189da9c5b2e55abe86f2eeffee9b4ae0dad/\n",
        "    gemma_path,\n",
        "    device_map=\"auto\",\n",
        "    torch_dtype=torch.bfloat16,\n",
        "    # local_files_only=True  # this will stop the function from calling the hub for the model\n",
        ") # takes 11GB of VRAM"
      ]
    },
    {
      "cell_type": "code",
      "source": [
        "from rich import print"
      ],
      "metadata": {
        "id": "MaML_vAB6n6q"
      },
      "id": "MaML_vAB6n6q",
      "execution_count": 31,
      "outputs": []
    },
    {
      "cell_type": "code",
      "execution_count": 32,
      "id": "5c37fe38-1b2c-4983-ae46-032c66467788",
      "metadata": {
        "scrolled": true,
        "id": "5c37fe38-1b2c-4983-ae46-032c66467788",
        "outputId": "1eef16e7-05a6-4f90-d4bb-7fc8367f55f9",
        "colab": {
          "base_uri": "https://localhost:8080/",
          "height": 85
        }
      },
      "outputs": [
        {
          "output_type": "display_data",
          "data": {
            "text/plain": [
              "\u001b[1m{\u001b[0m% for message in messages %\u001b[1m}\u001b[0m\u001b[1m{\u001b[0m\u001b[1m{\u001b[0m\u001b[32m'\u001b[0m\u001b[32m<\u001b[0m\u001b[32m|im_start|\u001b[0m\u001b[32m>'\u001b[0m\u001b[39m + message\u001b[0m\u001b[1;39m[\u001b[0m\u001b[32m'role'\u001b[0m\u001b[1;39m]\u001b[0m\u001b[39m + '\u001b[0m\n",
              "\u001b[32m' + message\u001b[0m\u001b[32m[\u001b[0m\u001b[32m'\u001b[0m\u001b[39mcontent'\u001b[0m\u001b[1;39m]\u001b[0m\u001b[39m + \u001b[0m\u001b[32m'<|im_end|>'\u001b[0m\u001b[39m + '\u001b[0m\n",
              "\u001b[32m'\u001b[0m\u001b[32m}\u001b[0m\u001b[32m}\u001b[0m\u001b[32m{\u001b[0m\u001b[32m% endfor %\u001b[0m\u001b[32m}\u001b[0m\u001b[32m{\u001b[0m\u001b[32m% if add_generation_prompt %\u001b[0m\u001b[32m}\u001b[0m\u001b[32m{\u001b[0m\u001b[32m{\u001b[0m\u001b[32m '\u001b[0m\u001b[39m<|im_start|\u001b[0m\u001b[1m>\u001b[0massistant\n",
              "' \u001b[1m}\u001b[0m\u001b[1m}\u001b[0m\u001b[1m{\u001b[0m% endif %\u001b[1m}\u001b[0m\n"
            ],
            "text/html": [
              "<pre style=\"white-space:pre;overflow-x:auto;line-height:normal;font-family:Menlo,'DejaVu Sans Mono',consolas,'Courier New',monospace\"><span style=\"font-weight: bold\">{</span>% for message in messages %<span style=\"font-weight: bold\">}{{</span><span style=\"color: #008000; text-decoration-color: #008000\">'&lt;|im_start|&gt;'</span><span style=\"color: #000000; text-decoration-color: #000000\"> + message</span><span style=\"color: #000000; text-decoration-color: #000000; font-weight: bold\">[</span><span style=\"color: #008000; text-decoration-color: #008000\">'role'</span><span style=\"color: #000000; text-decoration-color: #000000; font-weight: bold\">]</span><span style=\"color: #000000; text-decoration-color: #000000\"> + '</span>\n",
              "<span style=\"color: #008000; text-decoration-color: #008000\">' + message['</span><span style=\"color: #000000; text-decoration-color: #000000\">content'</span><span style=\"color: #000000; text-decoration-color: #000000; font-weight: bold\">]</span><span style=\"color: #000000; text-decoration-color: #000000\"> + </span><span style=\"color: #008000; text-decoration-color: #008000\">'&lt;|im_end|&gt;'</span><span style=\"color: #000000; text-decoration-color: #000000\"> + '</span>\n",
              "<span style=\"color: #008000; text-decoration-color: #008000\">'}}{% endfor %}{% if add_generation_prompt %}{{ '</span><span style=\"color: #000000; text-decoration-color: #000000\">&lt;|im_start|</span><span style=\"font-weight: bold\">&gt;</span>assistant\n",
              "' <span style=\"font-weight: bold\">}}{</span>% endif %<span style=\"font-weight: bold\">}</span>\n",
              "</pre>\n"
            ]
          },
          "metadata": {}
        }
      ],
      "source": [
        "gemma_tokenizer = AutoTokenizer.from_pretrained(gemma_path)\n",
        "# print(llama_tokenizer.default_chat_template) # rich's print fails due to tag\n",
        "print(gemma_tokenizer.default_chat_template)"
      ]
    },
    {
      "cell_type": "code",
      "execution_count": 33,
      "id": "7ac90ad4-ab13-4595-857b-8b982f4a6ae5",
      "metadata": {
        "id": "7ac90ad4-ab13-4595-857b-8b982f4a6ae5",
        "outputId": "d161a3b1-c948-4372-cbed-766f4a5be9f6",
        "colab": {
          "base_uri": "https://localhost:8080/",
          "height": 136
        }
      },
      "outputs": [
        {
          "output_type": "display_data",
          "data": {
            "text/plain": [
              "\u001b[1m{\u001b[0m\n",
              "    \u001b[32m'bos_token'\u001b[0m: \u001b[32m'\u001b[0m\u001b[32m<\u001b[0m\u001b[32mbos\u001b[0m\u001b[32m>'\u001b[0m\u001b[39m,\u001b[0m\n",
              "\u001b[39m    \u001b[0m\u001b[32m'eos_token'\u001b[0m\u001b[39m: \u001b[0m\u001b[32m'<eos>'\u001b[0m\u001b[39m,\u001b[0m\n",
              "\u001b[39m    \u001b[0m\u001b[32m'unk_token'\u001b[0m\u001b[39m: \u001b[0m\u001b[32m'<unk>'\u001b[0m\u001b[39m,\u001b[0m\n",
              "\u001b[39m    \u001b[0m\u001b[32m'pad_token'\u001b[0m\u001b[39m: \u001b[0m\u001b[32m'<pad>'\u001b[0m\u001b[39m,\u001b[0m\n",
              "\u001b[39m    \u001b[0m\u001b[32m'additional_special_tokens'\u001b[0m\u001b[39m: \u001b[0m\u001b[1;39m[\u001b[0m\u001b[32m'<start_of_turn>'\u001b[0m\u001b[39m, \u001b[0m\u001b[32m'<end_of_turn\u001b[0m\u001b[32m>\u001b[0m\u001b[32m'\u001b[0m\u001b[1m]\u001b[0m\n",
              "\u001b[1m}\u001b[0m\n"
            ],
            "text/html": [
              "<pre style=\"white-space:pre;overflow-x:auto;line-height:normal;font-family:Menlo,'DejaVu Sans Mono',consolas,'Courier New',monospace\"><span style=\"font-weight: bold\">{</span>\n",
              "    <span style=\"color: #008000; text-decoration-color: #008000\">'bos_token'</span>: <span style=\"color: #008000; text-decoration-color: #008000\">'&lt;bos&gt;'</span><span style=\"color: #000000; text-decoration-color: #000000\">,</span>\n",
              "<span style=\"color: #000000; text-decoration-color: #000000\">    </span><span style=\"color: #008000; text-decoration-color: #008000\">'eos_token'</span><span style=\"color: #000000; text-decoration-color: #000000\">: </span><span style=\"color: #008000; text-decoration-color: #008000\">'&lt;eos&gt;'</span><span style=\"color: #000000; text-decoration-color: #000000\">,</span>\n",
              "<span style=\"color: #000000; text-decoration-color: #000000\">    </span><span style=\"color: #008000; text-decoration-color: #008000\">'unk_token'</span><span style=\"color: #000000; text-decoration-color: #000000\">: </span><span style=\"color: #008000; text-decoration-color: #008000\">'&lt;unk&gt;'</span><span style=\"color: #000000; text-decoration-color: #000000\">,</span>\n",
              "<span style=\"color: #000000; text-decoration-color: #000000\">    </span><span style=\"color: #008000; text-decoration-color: #008000\">'pad_token'</span><span style=\"color: #000000; text-decoration-color: #000000\">: </span><span style=\"color: #008000; text-decoration-color: #008000\">'&lt;pad&gt;'</span><span style=\"color: #000000; text-decoration-color: #000000\">,</span>\n",
              "<span style=\"color: #000000; text-decoration-color: #000000\">    </span><span style=\"color: #008000; text-decoration-color: #008000\">'additional_special_tokens'</span><span style=\"color: #000000; text-decoration-color: #000000\">: </span><span style=\"color: #000000; text-decoration-color: #000000; font-weight: bold\">[</span><span style=\"color: #008000; text-decoration-color: #008000\">'&lt;start_of_turn&gt;'</span><span style=\"color: #000000; text-decoration-color: #000000\">, </span><span style=\"color: #008000; text-decoration-color: #008000\">'&lt;end_of_turn&gt;'</span><span style=\"font-weight: bold\">]</span>\n",
              "<span style=\"font-weight: bold\">}</span>\n",
              "</pre>\n"
            ]
          },
          "metadata": {}
        }
      ],
      "source": [
        "print(gemma_tokenizer.special_tokens_map)"
      ]
    },
    {
      "cell_type": "code",
      "source": [
        "prompt = \"Where there is a will\"\n",
        "gemma_input = gemma_tokenizer(prompt, return_tensors='pt').to('cuda')\n",
        "# The above command needs to be reviewed for the errors it can create"
      ],
      "metadata": {
        "id": "jqlNlJhs68V3"
      },
      "id": "jqlNlJhs68V3",
      "execution_count": 42,
      "outputs": []
    },
    {
      "cell_type": "code",
      "source": [
        "gemma_input"
      ],
      "metadata": {
        "id": "zAsmV3d87Ji4",
        "outputId": "6799963a-7347-45f6-9189-353b5204b474",
        "colab": {
          "base_uri": "https://localhost:8080/"
        }
      },
      "id": "zAsmV3d87Ji4",
      "execution_count": 40,
      "outputs": [
        {
          "output_type": "execute_result",
          "data": {
            "text/plain": [
              "{'input_ids': tensor([[   2, 6006, 1104,  603,  476,  877]]), 'attention_mask': tensor([[1, 1, 1, 1, 1, 1]])}"
            ]
          },
          "metadata": {},
          "execution_count": 40
        }
      ]
    },
    {
      "cell_type": "code",
      "execution_count": 43,
      "id": "35cb9f83-70a5-4103-939f-9897bc82ecbf",
      "metadata": {
        "id": "35cb9f83-70a5-4103-939f-9897bc82ecbf"
      },
      "outputs": [],
      "source": [
        "gemma_output = model.generate(\n",
        "    **gemma_input,\n",
        "    max_new_tokens=100,\n",
        "    do_sample=True,\n",
        "    # pad_token_id = llama_tokenizer.eos_token_id\n",
        ")"
      ]
    },
    {
      "cell_type": "code",
      "source": [
        "gemma_output"
      ],
      "metadata": {
        "id": "174aPl8A74WZ",
        "outputId": "77542a73-0192-439f-83e3-43a6d9c18b4d",
        "colab": {
          "base_uri": "https://localhost:8080/"
        }
      },
      "id": "174aPl8A74WZ",
      "execution_count": 44,
      "outputs": [
        {
          "output_type": "execute_result",
          "data": {
            "text/plain": [
              "tensor([[     2,   6006,   1104,    603,    476,    877, 235269,   1104,    603,\n",
              "            476,   1703, 235265,    109,   1596,  20911,  55620,    573,   7819,\n",
              "            674,    675,    476,   3110,  12005,    689,   6187, 235269,    665,\n",
              "            603,   3077,    577,  21944,  36638,    578,   7914,    974, 235303,\n",
              "         235256,   9082, 235265,   1165, 144118,    573,   4268,    674,   2811,\n",
              "           1160,    578,  61642,    708,   8727,    604,  32379,   3361, 235265,\n",
              "            109,   4858,    708,   1009,   8944,    576,   1368,    736,  20911,\n",
              "            798,    614,   1671, 235292,    109, 235290,   3194,  20360,    675,\n",
              "            476,   5988,   6911, 235269,  30903,   5804,    674,   1104,    603,\n",
              "            476,    877,    577,  21252, 235265,    108, 235290,   4218,  82648,\n",
              "           9082,    578,   3104,    476,   1780,    577,   7914,   1174, 235265,\n",
              "            108, 235290,   1927,    692,    791,    476,   6523]],\n",
              "       device='cuda:0')"
            ]
          },
          "metadata": {},
          "execution_count": 44
        }
      ]
    },
    {
      "cell_type": "code",
      "execution_count": 45,
      "id": "937d4ebe-f79f-4459-9628-ea62468772ea",
      "metadata": {
        "id": "937d4ebe-f79f-4459-9628-ea62468772ea",
        "outputId": "52d09d2a-2d45-480a-961a-ff1502c4c046",
        "colab": {
          "base_uri": "https://localhost:8080/",
          "height": 70
        }
      },
      "outputs": [
        {
          "output_type": "execute_result",
          "data": {
            "text/plain": [
              "\"Where there is a will, there is a way.\\n\\nThis phrase expresses the concept that with a clear desire or purpose, it is possible to overcome obstacles and achieve one's goals. It reinforces the idea that hard work and persistence are essential for achieving success.\\n\\nHere are some examples of how this phrase can be used:\\n\\n- When faced with a difficult task, remind yourself that there is a will to succeed.\\n- Set SMART goals and create a plan to achieve them.\\n- If you have a dream\""
            ],
            "application/vnd.google.colaboratory.intrinsic+json": {
              "type": "string"
            }
          },
          "metadata": {},
          "execution_count": 45
        }
      ],
      "source": [
        "# llama_output = llama_output[len(llama_input[0]):]\n",
        "# llama_output\n",
        "output = gemma_tokenizer.decode(gemma_output[0],skip_special_tokens=True)\n",
        "output"
      ]
    },
    {
      "cell_type": "markdown",
      "source": [
        "##### All the NLP Tasks as Generation Tasks\n",
        "\n",
        "We will review how the NLP tasks like classification, QnA can be converted to Text-Gen task"
      ],
      "metadata": {
        "id": "T7rFkJ8P4vPg"
      },
      "id": "T7rFkJ8P4vPg"
    },
    {
      "cell_type": "code",
      "execution_count": null,
      "id": "297e7798-23ef-4dea-a1ca-e4abeef329c7",
      "metadata": {
        "collapsed": true,
        "jupyter": {
          "outputs_hidden": true
        },
        "scrolled": true,
        "id": "297e7798-23ef-4dea-a1ca-e4abeef329c7",
        "outputId": "759a0fd8-f864-4173-bc12-135ea5caffc0"
      },
      "outputs": [
        {
          "data": {
            "text/plain": [
              "tensor([[     2,    106,   1645,    108,  33501,    603,    476, 133326, 235265,\n",
              "          12542,    908,    675, 235248, 235274, 235276,    978, 235265,    108,\n",
              "           6140,   1317,    573, 193130, 235265,   1307,  96085,    578,   1453,\n",
              "         235303, 235251,   5033,   4341,   1354, 235285,  25469,    578,  10084,\n",
              "            578,  47331,   2003,    575,    861,   3142, 235265,    590,   1144,\n",
              "            793,  12100, 235269,    578,    590,   1453, 235303, 235251,   8044,\n",
              "          24306, 235265,    109,   1969,   2174,  11807,  28294, 235269,    665,\n",
              "            603,  24048,   1154,    476,  75735, 235265,   1165,    603,  10545,\n",
              "            675,    573,  25023, 235269,    578,    573,  25023,    603,  14471,\n",
              "         235265,    109, 159960, 235267,    685,    476,  12425,    575,    573,\n",
              "           5455,    576,   3354, 235269,  82056,    901,  90892,   1013,   2764,\n",
              "            476,  26911, 235265,  13227,  14987,    901,   3695,   8829, 235265,\n",
              "           2625,    970,   7888,   5604,  25201, 235269,    901,    674, 235303,\n",
              "         235256,   1861,    692,   2447,   1230,    682,    696,    832, 235265,\n",
              "            109, 235285,   1144,    476,   3967, 235303, 235256,   1963,   4034,\n",
              "         235265,   3194,   6181, 235269,    970,   2971,  49992,    675,   6785,\n",
              "         235265,   3194,  22121,    577,  11342, 235269,   1593,    970,  16482,\n",
              "            590,  10872, 235265,   5040,    692,    798,   4234,    573, 200967,\n",
              "          19312, 235265,    109, 235285,  66714,    611,    573,   6683, 235265,\n",
              "           1474,   9407,    611,    476,  61188, 235265,    109, 235280,   3741,\n",
              "           2346,  87980, 235269,  10240,    689,   2621, 235269,   3599,  13658,\n",
              "          29936,  13241,   2819, 235265, 235248,    109,   2169,    476,   3733,\n",
              "         235269,    590,   1144,   2145,   5985,    578,  10548, 235265,   2065,\n",
              "           1914,    682, 235269,    590,   3831,    476,   2040,    576,   5961,\n",
              "         235265,   2065,   1914,    682,   1653, 235269,    590,   1144,    573,\n",
              "           9670,    576,   5628, 235265,  76851,    682, 235269,    590,   3831,\n",
              "            573,  11988,    576,  59356, 235265,    109,   6571,    603,    693,\n",
              "            674,  10140,   2346,    476,   2590, 235265,   1474,    926,   3036,\n",
              "            611,    926,   1355, 235336,    109,   1841,    798,   6437,   4630,\n",
              "           3631,    578,   2001,   1174,    476,   1913,   1069, 235336,    109,\n",
              "           1841,    919, 235248, 235274, 235304,  16346,    901,    793,   1156,\n",
              "          29998, 235336,    107,    108]], device='cuda:0')"
            ]
          },
          "execution_count": 36,
          "metadata": {},
          "output_type": "execute_result"
        }
      ],
      "source": [
        "# working on getting the riddle based on the 10 riddles input\n",
        "gemma_10_input = gemma_tokenizer.apply_chat_template(messages_to_model,\n",
        "                                                     return_tensors='pt').to('cuda')\n",
        "gemma_10_input"
      ]
    },
    {
      "cell_type": "code",
      "execution_count": null,
      "id": "c93b98fc-2031-4d23-a5f5-1ee4c4d8ccec",
      "metadata": {
        "id": "c93b98fc-2031-4d23-a5f5-1ee4c4d8ccec",
        "outputId": "74baddf5-ba64-4ac4-8fb3-6a2bdf32fe5a"
      },
      "outputs": [
        {
          "data": {
            "text/plain": [
              "\"<bos><start_of_turn>user\\nBelow is a riddle. Come up with 10 more.\\nOutput just the riddles. No numbering and don't output anything elseI bubble and laugh and spit water in your face. I am no lady, and I don't wear lace.\\n\\nAn open ended barrel, it is shaped like a hive. It is filled with the flesh, and the flesh is alive.\\n\\nStealthy as a shadow in the dead of night, cunning but affectionate if given a bite. Never owned but often loved. At my sport considered cruel, but that's because you never know me at all.\\n\\nI am a fire's best friend. When fat, my body fills with wind. When pushed to thin, through my nose I blow. Then you can watch the embers glow.\\n\\nI crawl on the earth. And rise on a pillar.\\n\\nA box without hinges, lock or key, yet golden treasure lies within. \\n\\nAs a whole, I am both safe and secure. Behead me, I become a place of meeting. Behead me again, I am the partner of ready. Restore me, I become the domain of beasts.\\n\\nWho is he that runs without a leg. And his house on his back?\\n\\nWhat can touch someone once and last them a life time?\\n\\nWhat has 13 hearts but no other organs?<end_of_turn>\\n\""
            ]
          },
          "execution_count": 37,
          "metadata": {},
          "output_type": "execute_result"
        }
      ],
      "source": [
        "gemma_tokenizer.decode(llama_10_input[0])"
      ]
    },
    {
      "cell_type": "code",
      "execution_count": null,
      "id": "4b73d02a-4ca6-48d4-a5f3-2ce69a0fe673",
      "metadata": {
        "id": "4b73d02a-4ca6-48d4-a5f3-2ce69a0fe673"
      },
      "outputs": [],
      "source": [
        "gemma_10_output = gemma.generate(\n",
        "    llama_10_input,\n",
        "    max_new_tokens=500,\n",
        "    do_sample=True,\n",
        "    pad_token_id=llama_tokenizer.eos_token_id\n",
        ")"
      ]
    },
    {
      "cell_type": "code",
      "execution_count": null,
      "id": "f6f82462-d93c-4642-828c-7eca3cd2c0cc",
      "metadata": {
        "id": "f6f82462-d93c-4642-828c-7eca3cd2c0cc",
        "outputId": "9e48e974-2aeb-4878-b040-349318f86eaf"
      },
      "outputs": [
        {
          "data": {
            "text/plain": [
              "\"user\\nBelow is a riddle. Come up with 10 more.\\nOutput just the riddles. No numbering and don't output anything elseI bubble and laugh and spit water in your face. I am no lady, and I don't wear lace.\\n\\nAn open ended barrel, it is shaped like a hive. It is filled with the flesh, and the flesh is alive.\\n\\nStealthy as a shadow in the dead of night, cunning but affectionate if given a bite. Never owned but often loved. At my sport considered cruel, but that's because you never know me at all.\\n\\nI am a fire's best friend. When fat, my body fills with wind. When pushed to thin, through my nose I blow. Then you can watch the embers glow.\\n\\nI crawl on the earth. And rise on a pillar.\\n\\nA box without hinges, lock or key, yet golden treasure lies within. \\n\\nAs a whole, I am both safe and secure. Behead me, I become a place of meeting. Behead me again, I am the partner of ready. Restore me, I become the domain of beasts.\\n\\nWho is he that runs without a leg. And his house on his back?\\n\\nWhat can touch someone once and last them a life time?\\n\\nWhat has 13 hearts but no other organs?\\nThe solution is a spider.\\n\\nHere are 10 riddles that follow the same theme:\\n\\n1. I have a nest, but I'm not a bird. I have silk, but I'm not a moth. I have wings, but I'm not an airplane. I hop, but I'm not a rabbit. I spin, but I'm not a spider. What am I?\\n\\n\\n2. I have a heart, but I'm not a human. I have a mouth, but I'm not a beast. I have a body, but I'm not a creature. I have a web, but I'm not a spider. What am I?\\n\\n\\n3. I have a mouth, but I'm not a human. I have a neck, but I'm not a beast. I have a body, but I'm not a creature. I have a shell, but I'm not a mollusc. What am I?\\n\\n\\n4. I have many eyes, but I'm not a creature. I have hairs, but I'm not a bird. I have a tail, but I'm not a reptile. What am I?\\n\\n\\n5. I have a nest, but I'm not a bird. I have silk, but I'm not a moth. I have wings, but I'm not an airplane. I hop, but I'm not a rabbit. I spin, but I'm not a spider. What am I?\\n\\n\\n6. I have a heart, but I'm not a human. I have a mouth, but I'm not a beast. I have a body, but I'm not a creature. I have a beard, but I'm not a man. What am I?\\n\\n\\n7. I have a mouth, but I'm not a human. I have a neck, but I'm not a beast. I have a body, but I'm not a creature. I have a beard, but I'm not a man. What am I?\\n\\n\\n8. I have a nest, but I'm not a bird. I have silk, but I'm not a moth. I have wings, but I'm not an airplane. I hop, but I'm not a rabbit. I spin, but I'm not a spider. What am I?\\n\\n\\n\""
            ]
          },
          "execution_count": 41,
          "metadata": {},
          "output_type": "execute_result"
        }
      ],
      "source": [
        "output_10 = gemma_tokenizer.decode(gemma_10_output[0], skip_special_tokens=True)\n",
        "output_10"
      ]
    },
    {
      "cell_type": "code",
      "execution_count": null,
      "id": "a26e28d3-a303-47f3-9935-e56258002262",
      "metadata": {
        "id": "a26e28d3-a303-47f3-9935-e56258002262"
      },
      "outputs": [],
      "source": [
        "del gemma\n",
        "torch.cuda.empty_cache()  # this time the model is not offloadin\n",
        "# restarting the server to release the memory"
      ]
    },
    {
      "cell_type": "markdown",
      "id": "34081f37-c363-40e6-aa75-8b5ab80a9fb2",
      "metadata": {
        "id": "34081f37-c363-40e6-aa75-8b5ab80a9fb2"
      },
      "source": [
        "### Llama observation\n",
        "\n",
        "- Llama provides the output of 10 riddles\n",
        "\n",
        "- Llama encoding and decoding is working same as roberta models"
      ]
    },
    {
      "cell_type": "code",
      "execution_count": null,
      "id": "00d76358-9826-424a-97e6-f4ef06258f27",
      "metadata": {
        "id": "00d76358-9826-424a-97e6-f4ef06258f27",
        "outputId": "83568689-a175-4696-a590-e7ab5c6991ee",
        "colab": {
          "referenced_widgets": [
            "aa7f9689dc15421895cfb4b75e85a743"
          ]
        }
      },
      "outputs": [
        {
          "data": {
            "application/vnd.jupyter.widget-view+json": {
              "model_id": "aa7f9689dc15421895cfb4b75e85a743",
              "version_major": 2,
              "version_minor": 0
            },
            "text/plain": [
              "Loading checkpoint shards:   0%|          | 0/2 [00:00<?, ?it/s]"
            ]
          },
          "metadata": {},
          "output_type": "display_data"
        }
      ],
      "source": [
        "import torch\n",
        "\n",
        "code_llama_path = \"/home/kamal/.cache/huggingface/hub/models--codellama--CodeLlama-7b-hf/snapshots/bc5283229e2fe411552f55c71657e97edf79066c/\"\n",
        "code_tokenizer = AutoTokenizer.from_pretrained(code_llama_path)\n",
        "codellama = AutoModelForCausalLM.from_pretrained(\n",
        "    code_llama_path,\n",
        "    device_map=\"auto\",\n",
        "    quantization_config=quant_config,\n",
        "    torch_dtype=torch.bfloat16\n",
        ")  # takes around 11.5GB of VRAM\n",
        "# with 4-bit quantization 5GB of VRAM is consumed"
      ]
    },
    {
      "cell_type": "code",
      "execution_count": null,
      "id": "1d473eea-06c7-4ade-852b-51f32e5292a0",
      "metadata": {
        "id": "1d473eea-06c7-4ade-852b-51f32e5292a0",
        "outputId": "b433cda7-357f-4b99-ecdb-52e670064ef3"
      },
      "outputs": [
        {
          "data": {
            "text/plain": [
              "\"{% if messages[0]['role'] == 'system' %}{% set loop_messages = messages[1:] %}{% set system_message = messages[0]['content'] %}{% elif false == true and not '<<SYS>>' in messages[0]['content'] %}{% set loop_messages = messages %}{% set system_message = 'You are a helpful, respectful and honest assistant. Always answer as helpfully as possible, while being safe. Your answers should not include any harmful, unethical, racist, sexist, toxic, dangerous, or illegal content. Please ensure that your responses are socially unbiased and positive in nature.\\\\n\\\\nIf a question does not make any sense, or is not factually coherent, explain why instead of answering something not correct. If you don\\\\'t know the answer to a question, please don\\\\'t share false information.' %}{% else %}{% set loop_messages = messages %}{% set system_message = false %}{% endif %}{% for message in loop_messages %}{% if (message['role'] == 'user') != (loop.index0 % 2 == 0) %}{{ raise_exception('Conversation roles must alternate user/assistant/user/assistant/...') }}{% endif %}{% if loop.index0 == 0 and system_message != false %}{% set content = '<<SYS>>\\\\n' + system_message + '\\\\n<</SYS>>\\\\n\\\\n' + message['content'] %}{% else %}{% set content = message['content'] %}{% endif %}{% if message['role'] == 'user' %}{{ bos_token + '[INST] ' + content.strip() + ' [/INST]' }}{% elif message['role'] == 'system' %}{{ '<<SYS>>\\\\n' + content.strip() + '\\\\n<</SYS>>\\\\n\\\\n' }}{% elif message['role'] == 'assistant' %}{{ ' '  + content.strip() + ' ' + eos_token }}{% endif %}{% endfor %}\""
            ]
          },
          "execution_count": 7,
          "metadata": {},
          "output_type": "execute_result"
        }
      ],
      "source": [
        "code_tokenizer.default_chat_template"
      ]
    },
    {
      "cell_type": "code",
      "execution_count": null,
      "id": "82d44f29-f0d5-4a9d-8ce5-98f97cd071e5",
      "metadata": {
        "id": "82d44f29-f0d5-4a9d-8ce5-98f97cd071e5"
      },
      "outputs": [],
      "source": [
        "simple_request = \"Generate 10 riddles that you know\"\n",
        "\n",
        "simple_message = [{\"role\":\"user\", \"content\":simple_request}]"
      ]
    },
    {
      "cell_type": "code",
      "execution_count": null,
      "id": "e4b07afe-d80b-454d-8c15-e21177e3b3fa",
      "metadata": {
        "id": "e4b07afe-d80b-454d-8c15-e21177e3b3fa"
      },
      "outputs": [],
      "source": [
        "code_request = \"Generate 10 dictionary related problems\"\n",
        "\n",
        "code_message = [{\"role\":\"user\", \"content\":code_request}]"
      ]
    },
    {
      "cell_type": "code",
      "execution_count": null,
      "id": "7942f2ed-26bb-4177-a280-92f3654d41f9",
      "metadata": {
        "id": "7942f2ed-26bb-4177-a280-92f3654d41f9",
        "outputId": "a09f5c8a-6c0f-4116-d71c-c33552bd0c63"
      },
      "outputs": [
        {
          "name": "stderr",
          "output_type": "stream",
          "text": [
            "Using sep_token, but it is not set yet.\n",
            "Using pad_token, but it is not set yet.\n",
            "Using cls_token, but it is not set yet.\n",
            "Using mask_token, but it is not set yet.\n"
          ]
        }
      ],
      "source": [
        "code_input = code_tokenizer.apply_chat_template(simple_message,return_tensors='pt').to(\"cuda\")"
      ]
    },
    {
      "cell_type": "code",
      "execution_count": null,
      "id": "1c4182ad-3d8b-4545-baf2-39b1d7ed1d2f",
      "metadata": {
        "id": "1c4182ad-3d8b-4545-baf2-39b1d7ed1d2f",
        "outputId": "578a0f64-977c-4cd6-f706-90f4bd2a08eb"
      },
      "outputs": [
        {
          "name": "stderr",
          "output_type": "stream",
          "text": [
            "Using sep_token, but it is not set yet.\n",
            "Using pad_token, but it is not set yet.\n",
            "Using cls_token, but it is not set yet.\n",
            "Using mask_token, but it is not set yet.\n"
          ]
        }
      ],
      "source": [
        "code_input = code_tokenizer.apply_chat_template(code_message,return_tensors='pt').to(\"cuda\")"
      ]
    },
    {
      "cell_type": "code",
      "execution_count": null,
      "id": "541e2479-330a-4cfe-814f-b3703cd6a12d",
      "metadata": {
        "scrolled": true,
        "id": "541e2479-330a-4cfe-814f-b3703cd6a12d"
      },
      "outputs": [],
      "source": [
        "code_output = codellama.generate(\n",
        "    code_input,\n",
        "    max_new_tokens=500,\n",
        "    do_sample=True,\n",
        "    pad_token_id=code_tokenizer.eos_token_id\n",
        ")"
      ]
    },
    {
      "cell_type": "code",
      "execution_count": null,
      "id": "09804125-3a3c-4876-b81f-7ae4ca372c5d",
      "metadata": {
        "scrolled": true,
        "id": "09804125-3a3c-4876-b81f-7ae4ca372c5d"
      },
      "outputs": [],
      "source": [
        "code_output = codellama.generate(\n",
        "    code_input,\n",
        "    max_new_tokens=500,\n",
        "    do_sample=True,\n",
        "    pad_token_id=code_tokenizer.eos_token_id,\n",
        "    temperature=0.2\n",
        ")"
      ]
    },
    {
      "cell_type": "code",
      "execution_count": null,
      "id": "4996cfd8-5120-4d7c-a69e-ed6455099d02",
      "metadata": {
        "id": "4996cfd8-5120-4d7c-a69e-ed6455099d02"
      },
      "outputs": [],
      "source": [
        "code_output = codellama.generate(\n",
        "    code_input,\n",
        "    max_new_tokens=500,\n",
        "    # do_sample=True,\n",
        "    pad_token_id=code_tokenizer.eos_token_id,\n",
        "    # temperature=0.2\n",
        ")"
      ]
    },
    {
      "cell_type": "code",
      "execution_count": null,
      "id": "e6318537-8343-4e1c-b218-25f04bd8c308",
      "metadata": {
        "id": "e6318537-8343-4e1c-b218-25f04bd8c308"
      },
      "outputs": [],
      "source": [
        "code_output = codellama.generate(\n",
        "    code_input,\n",
        "    max_new_tokens=500,\n",
        "    # do_sample=True,\n",
        "    pad_token_id=code_tokenizer.eos_token_id,\n",
        "    # temperature=0.2\n",
        "    repetition_penalty=0.5\n",
        ")"
      ]
    },
    {
      "cell_type": "code",
      "execution_count": null,
      "id": "e7c754a9-97c9-4f93-9696-7da8d6a30f8e",
      "metadata": {
        "id": "e7c754a9-97c9-4f93-9696-7da8d6a30f8e"
      },
      "outputs": [],
      "source": [
        "code_output = codellama.generate(\n",
        "    code_input,\n",
        "    max_new_tokens=500,\n",
        "    do_sample=True,\n",
        "    pad_token_id=code_tokenizer.eos_token_id,\n",
        "    # temperature=0.2\n",
        "    repetition_penalty=0.5,\n",
        "    top_p=10,\n",
        "    top_k=20\n",
        ")"
      ]
    },
    {
      "cell_type": "code",
      "execution_count": null,
      "id": "90d42456-3166-40ad-99e3-2a83cd6aa3e7",
      "metadata": {
        "collapsed": true,
        "jupyter": {
          "outputs_hidden": true
        },
        "id": "90d42456-3166-40ad-99e3-2a83cd6aa3e7",
        "outputId": "4bab455a-e040-4cc9-f741-7d719258577b"
      },
      "outputs": [
        {
          "data": {
            "text/plain": [
              "'ayaayaayaayaayaayaayaayaayaayaayaayaayaayaayaayaayaayaayaayaayaayaayaayaayaayaayaayaayaayaayaayaayaayaayaayaayaayaayaayaayaayaayaayaayaayaayaayaayaayaayaayaayaayaayaayaayaayaayaayaayaayaayaayaayaayaayaayaayaayaayaayaayaayaayaayaayaayaayaayaayaayaayaayaayaayaayaayaayaayaayaayaayaayaayaayaayaayaayaayaayaayaayaayaayaayaayaayaayaayaayaayaayaayaayaayaayaayaayaayaayaayaayaayaayaayaayaayaayaayaayaayaayaayaayaayaSSLayaayaayaayaayaayaayaSSLayaSSLayaayaayaayaayaayaayaayaayaayaayaayaayaSSLayaayaayaayaayaayaayaayaayaayaSSLayaayaayaayaayaayaayaayaayaayaayaayaayaayaayaayaayaSSLayaayaayaayaayaayaayaayaayaayaayaayaayaayaayaayaayaayaayaayaayaayaayaayaayaayaayaayaSSLayaayaayaayaayaayaSSLayaayaayaayaayaayaayaayaSSLayaSSLayaayaayaayaayaayaayaayaayaayaayaayaayaayaayaayaayaayaSSLayaayaayaayaayaayaSSLayaayaayaayaayaSSLayaayaayaayaayaayaayaayaayaSSLayaayaayaayaayaayaayaayaayaayaayaayaSSLayaayaayaayaayaayaayaSSLayaayaSSLayaSSLayaayaSSLayaayaayaayaayaayaayaayaayaayaayaayaayaayaayaSSLayaayaayaayaayaayaayaayaayaayaayaayaayaayaayaayaayaayaayaayaayaayaayaayaayaayaayaayaayaayaayaayaayaayaayaayaayaayaayaayaayaayaayaayaayaayaayaayaayaayaayaSSLayaayaayaSSLayaayaayaayaayaayaayaayaayaayaayaayaayaayaayaayaayaayaayaayaayaayaayaayaayaayaayaayaayaayaayaayaayaayaayaayaayaayaayaayaSSLayaayaayaayaayaayaayaSSLayaayaayaayaayaayaayaayaayaSSLayaayaayaayaayaayaayaayaayaayaNaNayaayaayaayaayaayaayaayaayaayaayaayaayaayaayaayaayaayaayaayaayaayaayaayaayaayaayaayaayaayaayaayaayaayaayaayaSSLSSLSSLayaSSLayaayaSSLayaayaayaayaaya'"
            ]
          },
          "execution_count": 29,
          "metadata": {},
          "output_type": "execute_result"
        }
      ],
      "source": [
        "output = code_output[0][len(code_input[0]):]\n",
        "code_tokenizer.decode(output, skip_special_tokens=True)"
      ]
    },
    {
      "cell_type": "markdown",
      "id": "82a3bfce-f1ae-4230-9a76-2c0746722370",
      "metadata": {
        "id": "82a3bfce-f1ae-4230-9a76-2c0746722370"
      },
      "source": [
        "### Code Llama observation\n",
        "\n",
        "- Model inference lead to OOM with 500 tokens request, when loaded with bfloat16\n",
        "\n",
        "- Model inference worked with 500 Tokens, with quant_config done with 4-bit.\n",
        "\n",
        "- In quantisation 1GB of Vram is consumed for inference\n",
        "\n",
        "\n",
        "- **The model out was gibberish**\n",
        "\n",
        "- Requested for the code related to dictionary\n",
        "\n",
        "- Even after reviewing the generation configs, only gibberish was generated"
      ]
    },
    {
      "cell_type": "code",
      "execution_count": null,
      "id": "61899424-60f5-40bb-ac35-d553dcd01869",
      "metadata": {
        "id": "61899424-60f5-40bb-ac35-d553dcd01869"
      },
      "outputs": [],
      "source": []
    },
    {
      "cell_type": "code",
      "execution_count": null,
      "id": "876e49f2-7b0c-4f65-b4e0-a4961036f588",
      "metadata": {
        "id": "876e49f2-7b0c-4f65-b4e0-a4961036f588"
      },
      "outputs": [],
      "source": []
    },
    {
      "cell_type": "code",
      "execution_count": null,
      "id": "c13522fe-47b0-4d4e-ad0e-c657161bd643",
      "metadata": {
        "id": "c13522fe-47b0-4d4e-ad0e-c657161bd643"
      },
      "outputs": [],
      "source": []
    },
    {
      "cell_type": "code",
      "execution_count": null,
      "id": "925d4392-fe66-4331-9a4b-c7cc39424ee9",
      "metadata": {
        "id": "925d4392-fe66-4331-9a4b-c7cc39424ee9"
      },
      "outputs": [],
      "source": []
    }
  ],
  "metadata": {
    "kernelspec": {
      "display_name": "Python 3",
      "name": "python3"
    },
    "language_info": {
      "codemirror_mode": {
        "name": "ipython",
        "version": 3
      },
      "file_extension": ".py",
      "mimetype": "text/x-python",
      "name": "python",
      "nbconvert_exporter": "python",
      "pygments_lexer": "ipython3",
      "version": "3.11.4"
    },
    "colab": {
      "provenance": [],
      "gpuType": "T4"
    },
    "accelerator": "GPU",
    "widgets": {
      "application/vnd.jupyter.widget-state+json": {
        "0ea8c2c2fed44ae6a16c550449c90712": {
          "model_module": "@jupyter-widgets/controls",
          "model_name": "HBoxModel",
          "model_module_version": "1.5.0",
          "state": {
            "_dom_classes": [],
            "_model_module": "@jupyter-widgets/controls",
            "_model_module_version": "1.5.0",
            "_model_name": "HBoxModel",
            "_view_count": null,
            "_view_module": "@jupyter-widgets/controls",
            "_view_module_version": "1.5.0",
            "_view_name": "HBoxView",
            "box_style": "",
            "children": [
              "IPY_MODEL_71cefb1563454cdaa3a17df07a22dde9",
              "IPY_MODEL_c40b4cbc948049ab842c21efb4fdeead",
              "IPY_MODEL_bca70afa7ce540f29abb485190710797"
            ],
            "layout": "IPY_MODEL_8bb2025ac6b54e7fb1e681cc430134a6"
          }
        },
        "71cefb1563454cdaa3a17df07a22dde9": {
          "model_module": "@jupyter-widgets/controls",
          "model_name": "HTMLModel",
          "model_module_version": "1.5.0",
          "state": {
            "_dom_classes": [],
            "_model_module": "@jupyter-widgets/controls",
            "_model_module_version": "1.5.0",
            "_model_name": "HTMLModel",
            "_view_count": null,
            "_view_module": "@jupyter-widgets/controls",
            "_view_module_version": "1.5.0",
            "_view_name": "HTMLView",
            "description": "",
            "description_tooltip": null,
            "layout": "IPY_MODEL_28f7ae6b59e74cc3a415247e656b5d1c",
            "placeholder": "​",
            "style": "IPY_MODEL_803fc88508d04926af4d405079b075ca",
            "value": "config.json: 100%"
          }
        },
        "c40b4cbc948049ab842c21efb4fdeead": {
          "model_module": "@jupyter-widgets/controls",
          "model_name": "FloatProgressModel",
          "model_module_version": "1.5.0",
          "state": {
            "_dom_classes": [],
            "_model_module": "@jupyter-widgets/controls",
            "_model_module_version": "1.5.0",
            "_model_name": "FloatProgressModel",
            "_view_count": null,
            "_view_module": "@jupyter-widgets/controls",
            "_view_module_version": "1.5.0",
            "_view_name": "ProgressView",
            "bar_style": "success",
            "description": "",
            "description_tooltip": null,
            "layout": "IPY_MODEL_8399d1ebea3b4ccd85fa96c9763d99f3",
            "max": 1208,
            "min": 0,
            "orientation": "horizontal",
            "style": "IPY_MODEL_0d1d97e78ef74198874099b7f16d30a7",
            "value": 1208
          }
        },
        "bca70afa7ce540f29abb485190710797": {
          "model_module": "@jupyter-widgets/controls",
          "model_name": "HTMLModel",
          "model_module_version": "1.5.0",
          "state": {
            "_dom_classes": [],
            "_model_module": "@jupyter-widgets/controls",
            "_model_module_version": "1.5.0",
            "_model_name": "HTMLModel",
            "_view_count": null,
            "_view_module": "@jupyter-widgets/controls",
            "_view_module_version": "1.5.0",
            "_view_name": "HTMLView",
            "description": "",
            "description_tooltip": null,
            "layout": "IPY_MODEL_15c2e9b8fc2e4965b257fc97b4605811",
            "placeholder": "​",
            "style": "IPY_MODEL_da542a756167447f8835726db41885dc",
            "value": " 1.21k/1.21k [00:00&lt;00:00, 74.3kB/s]"
          }
        },
        "8bb2025ac6b54e7fb1e681cc430134a6": {
          "model_module": "@jupyter-widgets/base",
          "model_name": "LayoutModel",
          "model_module_version": "1.2.0",
          "state": {
            "_model_module": "@jupyter-widgets/base",
            "_model_module_version": "1.2.0",
            "_model_name": "LayoutModel",
            "_view_count": null,
            "_view_module": "@jupyter-widgets/base",
            "_view_module_version": "1.2.0",
            "_view_name": "LayoutView",
            "align_content": null,
            "align_items": null,
            "align_self": null,
            "border": null,
            "bottom": null,
            "display": null,
            "flex": null,
            "flex_flow": null,
            "grid_area": null,
            "grid_auto_columns": null,
            "grid_auto_flow": null,
            "grid_auto_rows": null,
            "grid_column": null,
            "grid_gap": null,
            "grid_row": null,
            "grid_template_areas": null,
            "grid_template_columns": null,
            "grid_template_rows": null,
            "height": null,
            "justify_content": null,
            "justify_items": null,
            "left": null,
            "margin": null,
            "max_height": null,
            "max_width": null,
            "min_height": null,
            "min_width": null,
            "object_fit": null,
            "object_position": null,
            "order": null,
            "overflow": null,
            "overflow_x": null,
            "overflow_y": null,
            "padding": null,
            "right": null,
            "top": null,
            "visibility": null,
            "width": null
          }
        },
        "28f7ae6b59e74cc3a415247e656b5d1c": {
          "model_module": "@jupyter-widgets/base",
          "model_name": "LayoutModel",
          "model_module_version": "1.2.0",
          "state": {
            "_model_module": "@jupyter-widgets/base",
            "_model_module_version": "1.2.0",
            "_model_name": "LayoutModel",
            "_view_count": null,
            "_view_module": "@jupyter-widgets/base",
            "_view_module_version": "1.2.0",
            "_view_name": "LayoutView",
            "align_content": null,
            "align_items": null,
            "align_self": null,
            "border": null,
            "bottom": null,
            "display": null,
            "flex": null,
            "flex_flow": null,
            "grid_area": null,
            "grid_auto_columns": null,
            "grid_auto_flow": null,
            "grid_auto_rows": null,
            "grid_column": null,
            "grid_gap": null,
            "grid_row": null,
            "grid_template_areas": null,
            "grid_template_columns": null,
            "grid_template_rows": null,
            "height": null,
            "justify_content": null,
            "justify_items": null,
            "left": null,
            "margin": null,
            "max_height": null,
            "max_width": null,
            "min_height": null,
            "min_width": null,
            "object_fit": null,
            "object_position": null,
            "order": null,
            "overflow": null,
            "overflow_x": null,
            "overflow_y": null,
            "padding": null,
            "right": null,
            "top": null,
            "visibility": null,
            "width": null
          }
        },
        "803fc88508d04926af4d405079b075ca": {
          "model_module": "@jupyter-widgets/controls",
          "model_name": "DescriptionStyleModel",
          "model_module_version": "1.5.0",
          "state": {
            "_model_module": "@jupyter-widgets/controls",
            "_model_module_version": "1.5.0",
            "_model_name": "DescriptionStyleModel",
            "_view_count": null,
            "_view_module": "@jupyter-widgets/base",
            "_view_module_version": "1.2.0",
            "_view_name": "StyleView",
            "description_width": ""
          }
        },
        "8399d1ebea3b4ccd85fa96c9763d99f3": {
          "model_module": "@jupyter-widgets/base",
          "model_name": "LayoutModel",
          "model_module_version": "1.2.0",
          "state": {
            "_model_module": "@jupyter-widgets/base",
            "_model_module_version": "1.2.0",
            "_model_name": "LayoutModel",
            "_view_count": null,
            "_view_module": "@jupyter-widgets/base",
            "_view_module_version": "1.2.0",
            "_view_name": "LayoutView",
            "align_content": null,
            "align_items": null,
            "align_self": null,
            "border": null,
            "bottom": null,
            "display": null,
            "flex": null,
            "flex_flow": null,
            "grid_area": null,
            "grid_auto_columns": null,
            "grid_auto_flow": null,
            "grid_auto_rows": null,
            "grid_column": null,
            "grid_gap": null,
            "grid_row": null,
            "grid_template_areas": null,
            "grid_template_columns": null,
            "grid_template_rows": null,
            "height": null,
            "justify_content": null,
            "justify_items": null,
            "left": null,
            "margin": null,
            "max_height": null,
            "max_width": null,
            "min_height": null,
            "min_width": null,
            "object_fit": null,
            "object_position": null,
            "order": null,
            "overflow": null,
            "overflow_x": null,
            "overflow_y": null,
            "padding": null,
            "right": null,
            "top": null,
            "visibility": null,
            "width": null
          }
        },
        "0d1d97e78ef74198874099b7f16d30a7": {
          "model_module": "@jupyter-widgets/controls",
          "model_name": "ProgressStyleModel",
          "model_module_version": "1.5.0",
          "state": {
            "_model_module": "@jupyter-widgets/controls",
            "_model_module_version": "1.5.0",
            "_model_name": "ProgressStyleModel",
            "_view_count": null,
            "_view_module": "@jupyter-widgets/base",
            "_view_module_version": "1.2.0",
            "_view_name": "StyleView",
            "bar_color": null,
            "description_width": ""
          }
        },
        "15c2e9b8fc2e4965b257fc97b4605811": {
          "model_module": "@jupyter-widgets/base",
          "model_name": "LayoutModel",
          "model_module_version": "1.2.0",
          "state": {
            "_model_module": "@jupyter-widgets/base",
            "_model_module_version": "1.2.0",
            "_model_name": "LayoutModel",
            "_view_count": null,
            "_view_module": "@jupyter-widgets/base",
            "_view_module_version": "1.2.0",
            "_view_name": "LayoutView",
            "align_content": null,
            "align_items": null,
            "align_self": null,
            "border": null,
            "bottom": null,
            "display": null,
            "flex": null,
            "flex_flow": null,
            "grid_area": null,
            "grid_auto_columns": null,
            "grid_auto_flow": null,
            "grid_auto_rows": null,
            "grid_column": null,
            "grid_gap": null,
            "grid_row": null,
            "grid_template_areas": null,
            "grid_template_columns": null,
            "grid_template_rows": null,
            "height": null,
            "justify_content": null,
            "justify_items": null,
            "left": null,
            "margin": null,
            "max_height": null,
            "max_width": null,
            "min_height": null,
            "min_width": null,
            "object_fit": null,
            "object_position": null,
            "order": null,
            "overflow": null,
            "overflow_x": null,
            "overflow_y": null,
            "padding": null,
            "right": null,
            "top": null,
            "visibility": null,
            "width": null
          }
        },
        "da542a756167447f8835726db41885dc": {
          "model_module": "@jupyter-widgets/controls",
          "model_name": "DescriptionStyleModel",
          "model_module_version": "1.5.0",
          "state": {
            "_model_module": "@jupyter-widgets/controls",
            "_model_module_version": "1.5.0",
            "_model_name": "DescriptionStyleModel",
            "_view_count": null,
            "_view_module": "@jupyter-widgets/base",
            "_view_module_version": "1.2.0",
            "_view_name": "StyleView",
            "description_width": ""
          }
        },
        "4fd5e63303c2490fa91a2b57bba9f497": {
          "model_module": "@jupyter-widgets/controls",
          "model_name": "HBoxModel",
          "model_module_version": "1.5.0",
          "state": {
            "_dom_classes": [],
            "_model_module": "@jupyter-widgets/controls",
            "_model_module_version": "1.5.0",
            "_model_name": "HBoxModel",
            "_view_count": null,
            "_view_module": "@jupyter-widgets/controls",
            "_view_module_version": "1.5.0",
            "_view_name": "HBoxView",
            "box_style": "",
            "children": [
              "IPY_MODEL_0d94e30897a14f7ca088a60b23552b20",
              "IPY_MODEL_d18b86c46b65400cbf30ec8632171f3f",
              "IPY_MODEL_e2d9a882bbed49e0bbaaca9f21ab883a"
            ],
            "layout": "IPY_MODEL_49e8d1fc02724e6faff7d54daf167549"
          }
        },
        "0d94e30897a14f7ca088a60b23552b20": {
          "model_module": "@jupyter-widgets/controls",
          "model_name": "HTMLModel",
          "model_module_version": "1.5.0",
          "state": {
            "_dom_classes": [],
            "_model_module": "@jupyter-widgets/controls",
            "_model_module_version": "1.5.0",
            "_model_name": "HTMLModel",
            "_view_count": null,
            "_view_module": "@jupyter-widgets/controls",
            "_view_module_version": "1.5.0",
            "_view_name": "HTMLView",
            "description": "",
            "description_tooltip": null,
            "layout": "IPY_MODEL_238a5a7346234888b6af47ead82e699e",
            "placeholder": "​",
            "style": "IPY_MODEL_4013a50363584315a58676d483129792",
            "value": "model.safetensors: 100%"
          }
        },
        "d18b86c46b65400cbf30ec8632171f3f": {
          "model_module": "@jupyter-widgets/controls",
          "model_name": "FloatProgressModel",
          "model_module_version": "1.5.0",
          "state": {
            "_dom_classes": [],
            "_model_module": "@jupyter-widgets/controls",
            "_model_module_version": "1.5.0",
            "_model_name": "FloatProgressModel",
            "_view_count": null,
            "_view_module": "@jupyter-widgets/controls",
            "_view_module_version": "1.5.0",
            "_view_name": "ProgressView",
            "bar_style": "success",
            "description": "",
            "description_tooltip": null,
            "layout": "IPY_MODEL_d60d3dd03b6d4cfaae8484ba0d56d21b",
            "max": 891646390,
            "min": 0,
            "orientation": "horizontal",
            "style": "IPY_MODEL_3bbfdc3992504b47a8fef8d17ccd2063",
            "value": 891646390
          }
        },
        "e2d9a882bbed49e0bbaaca9f21ab883a": {
          "model_module": "@jupyter-widgets/controls",
          "model_name": "HTMLModel",
          "model_module_version": "1.5.0",
          "state": {
            "_dom_classes": [],
            "_model_module": "@jupyter-widgets/controls",
            "_model_module_version": "1.5.0",
            "_model_name": "HTMLModel",
            "_view_count": null,
            "_view_module": "@jupyter-widgets/controls",
            "_view_module_version": "1.5.0",
            "_view_name": "HTMLView",
            "description": "",
            "description_tooltip": null,
            "layout": "IPY_MODEL_fa1b1a3dae724a94a57c82660e8c00d6",
            "placeholder": "​",
            "style": "IPY_MODEL_000b3924045f4d45b1605e3f9f671082",
            "value": " 892M/892M [00:09&lt;00:00, 143MB/s]"
          }
        },
        "49e8d1fc02724e6faff7d54daf167549": {
          "model_module": "@jupyter-widgets/base",
          "model_name": "LayoutModel",
          "model_module_version": "1.2.0",
          "state": {
            "_model_module": "@jupyter-widgets/base",
            "_model_module_version": "1.2.0",
            "_model_name": "LayoutModel",
            "_view_count": null,
            "_view_module": "@jupyter-widgets/base",
            "_view_module_version": "1.2.0",
            "_view_name": "LayoutView",
            "align_content": null,
            "align_items": null,
            "align_self": null,
            "border": null,
            "bottom": null,
            "display": null,
            "flex": null,
            "flex_flow": null,
            "grid_area": null,
            "grid_auto_columns": null,
            "grid_auto_flow": null,
            "grid_auto_rows": null,
            "grid_column": null,
            "grid_gap": null,
            "grid_row": null,
            "grid_template_areas": null,
            "grid_template_columns": null,
            "grid_template_rows": null,
            "height": null,
            "justify_content": null,
            "justify_items": null,
            "left": null,
            "margin": null,
            "max_height": null,
            "max_width": null,
            "min_height": null,
            "min_width": null,
            "object_fit": null,
            "object_position": null,
            "order": null,
            "overflow": null,
            "overflow_x": null,
            "overflow_y": null,
            "padding": null,
            "right": null,
            "top": null,
            "visibility": null,
            "width": null
          }
        },
        "238a5a7346234888b6af47ead82e699e": {
          "model_module": "@jupyter-widgets/base",
          "model_name": "LayoutModel",
          "model_module_version": "1.2.0",
          "state": {
            "_model_module": "@jupyter-widgets/base",
            "_model_module_version": "1.2.0",
            "_model_name": "LayoutModel",
            "_view_count": null,
            "_view_module": "@jupyter-widgets/base",
            "_view_module_version": "1.2.0",
            "_view_name": "LayoutView",
            "align_content": null,
            "align_items": null,
            "align_self": null,
            "border": null,
            "bottom": null,
            "display": null,
            "flex": null,
            "flex_flow": null,
            "grid_area": null,
            "grid_auto_columns": null,
            "grid_auto_flow": null,
            "grid_auto_rows": null,
            "grid_column": null,
            "grid_gap": null,
            "grid_row": null,
            "grid_template_areas": null,
            "grid_template_columns": null,
            "grid_template_rows": null,
            "height": null,
            "justify_content": null,
            "justify_items": null,
            "left": null,
            "margin": null,
            "max_height": null,
            "max_width": null,
            "min_height": null,
            "min_width": null,
            "object_fit": null,
            "object_position": null,
            "order": null,
            "overflow": null,
            "overflow_x": null,
            "overflow_y": null,
            "padding": null,
            "right": null,
            "top": null,
            "visibility": null,
            "width": null
          }
        },
        "4013a50363584315a58676d483129792": {
          "model_module": "@jupyter-widgets/controls",
          "model_name": "DescriptionStyleModel",
          "model_module_version": "1.5.0",
          "state": {
            "_model_module": "@jupyter-widgets/controls",
            "_model_module_version": "1.5.0",
            "_model_name": "DescriptionStyleModel",
            "_view_count": null,
            "_view_module": "@jupyter-widgets/base",
            "_view_module_version": "1.2.0",
            "_view_name": "StyleView",
            "description_width": ""
          }
        },
        "d60d3dd03b6d4cfaae8484ba0d56d21b": {
          "model_module": "@jupyter-widgets/base",
          "model_name": "LayoutModel",
          "model_module_version": "1.2.0",
          "state": {
            "_model_module": "@jupyter-widgets/base",
            "_model_module_version": "1.2.0",
            "_model_name": "LayoutModel",
            "_view_count": null,
            "_view_module": "@jupyter-widgets/base",
            "_view_module_version": "1.2.0",
            "_view_name": "LayoutView",
            "align_content": null,
            "align_items": null,
            "align_self": null,
            "border": null,
            "bottom": null,
            "display": null,
            "flex": null,
            "flex_flow": null,
            "grid_area": null,
            "grid_auto_columns": null,
            "grid_auto_flow": null,
            "grid_auto_rows": null,
            "grid_column": null,
            "grid_gap": null,
            "grid_row": null,
            "grid_template_areas": null,
            "grid_template_columns": null,
            "grid_template_rows": null,
            "height": null,
            "justify_content": null,
            "justify_items": null,
            "left": null,
            "margin": null,
            "max_height": null,
            "max_width": null,
            "min_height": null,
            "min_width": null,
            "object_fit": null,
            "object_position": null,
            "order": null,
            "overflow": null,
            "overflow_x": null,
            "overflow_y": null,
            "padding": null,
            "right": null,
            "top": null,
            "visibility": null,
            "width": null
          }
        },
        "3bbfdc3992504b47a8fef8d17ccd2063": {
          "model_module": "@jupyter-widgets/controls",
          "model_name": "ProgressStyleModel",
          "model_module_version": "1.5.0",
          "state": {
            "_model_module": "@jupyter-widgets/controls",
            "_model_module_version": "1.5.0",
            "_model_name": "ProgressStyleModel",
            "_view_count": null,
            "_view_module": "@jupyter-widgets/base",
            "_view_module_version": "1.2.0",
            "_view_name": "StyleView",
            "bar_color": null,
            "description_width": ""
          }
        },
        "fa1b1a3dae724a94a57c82660e8c00d6": {
          "model_module": "@jupyter-widgets/base",
          "model_name": "LayoutModel",
          "model_module_version": "1.2.0",
          "state": {
            "_model_module": "@jupyter-widgets/base",
            "_model_module_version": "1.2.0",
            "_model_name": "LayoutModel",
            "_view_count": null,
            "_view_module": "@jupyter-widgets/base",
            "_view_module_version": "1.2.0",
            "_view_name": "LayoutView",
            "align_content": null,
            "align_items": null,
            "align_self": null,
            "border": null,
            "bottom": null,
            "display": null,
            "flex": null,
            "flex_flow": null,
            "grid_area": null,
            "grid_auto_columns": null,
            "grid_auto_flow": null,
            "grid_auto_rows": null,
            "grid_column": null,
            "grid_gap": null,
            "grid_row": null,
            "grid_template_areas": null,
            "grid_template_columns": null,
            "grid_template_rows": null,
            "height": null,
            "justify_content": null,
            "justify_items": null,
            "left": null,
            "margin": null,
            "max_height": null,
            "max_width": null,
            "min_height": null,
            "min_width": null,
            "object_fit": null,
            "object_position": null,
            "order": null,
            "overflow": null,
            "overflow_x": null,
            "overflow_y": null,
            "padding": null,
            "right": null,
            "top": null,
            "visibility": null,
            "width": null
          }
        },
        "000b3924045f4d45b1605e3f9f671082": {
          "model_module": "@jupyter-widgets/controls",
          "model_name": "DescriptionStyleModel",
          "model_module_version": "1.5.0",
          "state": {
            "_model_module": "@jupyter-widgets/controls",
            "_model_module_version": "1.5.0",
            "_model_name": "DescriptionStyleModel",
            "_view_count": null,
            "_view_module": "@jupyter-widgets/base",
            "_view_module_version": "1.2.0",
            "_view_name": "StyleView",
            "description_width": ""
          }
        },
        "d2e747addd71465bb35418c735f7abe0": {
          "model_module": "@jupyter-widgets/controls",
          "model_name": "HBoxModel",
          "model_module_version": "1.5.0",
          "state": {
            "_dom_classes": [],
            "_model_module": "@jupyter-widgets/controls",
            "_model_module_version": "1.5.0",
            "_model_name": "HBoxModel",
            "_view_count": null,
            "_view_module": "@jupyter-widgets/controls",
            "_view_module_version": "1.5.0",
            "_view_name": "HBoxView",
            "box_style": "",
            "children": [
              "IPY_MODEL_a027ae8b526d42dd996f0527234e1d81",
              "IPY_MODEL_74f5e0c3e7654fd6987b080f99466a70",
              "IPY_MODEL_c70eba45e9cc4763ab66024852077025"
            ],
            "layout": "IPY_MODEL_f41070da33284beaa134bf44f02de7db"
          }
        },
        "a027ae8b526d42dd996f0527234e1d81": {
          "model_module": "@jupyter-widgets/controls",
          "model_name": "HTMLModel",
          "model_module_version": "1.5.0",
          "state": {
            "_dom_classes": [],
            "_model_module": "@jupyter-widgets/controls",
            "_model_module_version": "1.5.0",
            "_model_name": "HTMLModel",
            "_view_count": null,
            "_view_module": "@jupyter-widgets/controls",
            "_view_module_version": "1.5.0",
            "_view_name": "HTMLView",
            "description": "",
            "description_tooltip": null,
            "layout": "IPY_MODEL_8fce17b72fd44528b55d4bec7d9bd65d",
            "placeholder": "​",
            "style": "IPY_MODEL_1d5627208b4b4ae5994aafafbebd95d2",
            "value": "generation_config.json: 100%"
          }
        },
        "74f5e0c3e7654fd6987b080f99466a70": {
          "model_module": "@jupyter-widgets/controls",
          "model_name": "FloatProgressModel",
          "model_module_version": "1.5.0",
          "state": {
            "_dom_classes": [],
            "_model_module": "@jupyter-widgets/controls",
            "_model_module_version": "1.5.0",
            "_model_name": "FloatProgressModel",
            "_view_count": null,
            "_view_module": "@jupyter-widgets/controls",
            "_view_module_version": "1.5.0",
            "_view_name": "ProgressView",
            "bar_style": "success",
            "description": "",
            "description_tooltip": null,
            "layout": "IPY_MODEL_a560d3e15a2d4fe39c0f6c85a45b21bb",
            "max": 147,
            "min": 0,
            "orientation": "horizontal",
            "style": "IPY_MODEL_c2f8764e2a4046edaf6ebacd4f5d7f81",
            "value": 147
          }
        },
        "c70eba45e9cc4763ab66024852077025": {
          "model_module": "@jupyter-widgets/controls",
          "model_name": "HTMLModel",
          "model_module_version": "1.5.0",
          "state": {
            "_dom_classes": [],
            "_model_module": "@jupyter-widgets/controls",
            "_model_module_version": "1.5.0",
            "_model_name": "HTMLModel",
            "_view_count": null,
            "_view_module": "@jupyter-widgets/controls",
            "_view_module_version": "1.5.0",
            "_view_name": "HTMLView",
            "description": "",
            "description_tooltip": null,
            "layout": "IPY_MODEL_54851768b92a4195a7bf0c58db686130",
            "placeholder": "​",
            "style": "IPY_MODEL_86436bc46f2443a0a842c32524940399",
            "value": " 147/147 [00:00&lt;00:00, 9.45kB/s]"
          }
        },
        "f41070da33284beaa134bf44f02de7db": {
          "model_module": "@jupyter-widgets/base",
          "model_name": "LayoutModel",
          "model_module_version": "1.2.0",
          "state": {
            "_model_module": "@jupyter-widgets/base",
            "_model_module_version": "1.2.0",
            "_model_name": "LayoutModel",
            "_view_count": null,
            "_view_module": "@jupyter-widgets/base",
            "_view_module_version": "1.2.0",
            "_view_name": "LayoutView",
            "align_content": null,
            "align_items": null,
            "align_self": null,
            "border": null,
            "bottom": null,
            "display": null,
            "flex": null,
            "flex_flow": null,
            "grid_area": null,
            "grid_auto_columns": null,
            "grid_auto_flow": null,
            "grid_auto_rows": null,
            "grid_column": null,
            "grid_gap": null,
            "grid_row": null,
            "grid_template_areas": null,
            "grid_template_columns": null,
            "grid_template_rows": null,
            "height": null,
            "justify_content": null,
            "justify_items": null,
            "left": null,
            "margin": null,
            "max_height": null,
            "max_width": null,
            "min_height": null,
            "min_width": null,
            "object_fit": null,
            "object_position": null,
            "order": null,
            "overflow": null,
            "overflow_x": null,
            "overflow_y": null,
            "padding": null,
            "right": null,
            "top": null,
            "visibility": null,
            "width": null
          }
        },
        "8fce17b72fd44528b55d4bec7d9bd65d": {
          "model_module": "@jupyter-widgets/base",
          "model_name": "LayoutModel",
          "model_module_version": "1.2.0",
          "state": {
            "_model_module": "@jupyter-widgets/base",
            "_model_module_version": "1.2.0",
            "_model_name": "LayoutModel",
            "_view_count": null,
            "_view_module": "@jupyter-widgets/base",
            "_view_module_version": "1.2.0",
            "_view_name": "LayoutView",
            "align_content": null,
            "align_items": null,
            "align_self": null,
            "border": null,
            "bottom": null,
            "display": null,
            "flex": null,
            "flex_flow": null,
            "grid_area": null,
            "grid_auto_columns": null,
            "grid_auto_flow": null,
            "grid_auto_rows": null,
            "grid_column": null,
            "grid_gap": null,
            "grid_row": null,
            "grid_template_areas": null,
            "grid_template_columns": null,
            "grid_template_rows": null,
            "height": null,
            "justify_content": null,
            "justify_items": null,
            "left": null,
            "margin": null,
            "max_height": null,
            "max_width": null,
            "min_height": null,
            "min_width": null,
            "object_fit": null,
            "object_position": null,
            "order": null,
            "overflow": null,
            "overflow_x": null,
            "overflow_y": null,
            "padding": null,
            "right": null,
            "top": null,
            "visibility": null,
            "width": null
          }
        },
        "1d5627208b4b4ae5994aafafbebd95d2": {
          "model_module": "@jupyter-widgets/controls",
          "model_name": "DescriptionStyleModel",
          "model_module_version": "1.5.0",
          "state": {
            "_model_module": "@jupyter-widgets/controls",
            "_model_module_version": "1.5.0",
            "_model_name": "DescriptionStyleModel",
            "_view_count": null,
            "_view_module": "@jupyter-widgets/base",
            "_view_module_version": "1.2.0",
            "_view_name": "StyleView",
            "description_width": ""
          }
        },
        "a560d3e15a2d4fe39c0f6c85a45b21bb": {
          "model_module": "@jupyter-widgets/base",
          "model_name": "LayoutModel",
          "model_module_version": "1.2.0",
          "state": {
            "_model_module": "@jupyter-widgets/base",
            "_model_module_version": "1.2.0",
            "_model_name": "LayoutModel",
            "_view_count": null,
            "_view_module": "@jupyter-widgets/base",
            "_view_module_version": "1.2.0",
            "_view_name": "LayoutView",
            "align_content": null,
            "align_items": null,
            "align_self": null,
            "border": null,
            "bottom": null,
            "display": null,
            "flex": null,
            "flex_flow": null,
            "grid_area": null,
            "grid_auto_columns": null,
            "grid_auto_flow": null,
            "grid_auto_rows": null,
            "grid_column": null,
            "grid_gap": null,
            "grid_row": null,
            "grid_template_areas": null,
            "grid_template_columns": null,
            "grid_template_rows": null,
            "height": null,
            "justify_content": null,
            "justify_items": null,
            "left": null,
            "margin": null,
            "max_height": null,
            "max_width": null,
            "min_height": null,
            "min_width": null,
            "object_fit": null,
            "object_position": null,
            "order": null,
            "overflow": null,
            "overflow_x": null,
            "overflow_y": null,
            "padding": null,
            "right": null,
            "top": null,
            "visibility": null,
            "width": null
          }
        },
        "c2f8764e2a4046edaf6ebacd4f5d7f81": {
          "model_module": "@jupyter-widgets/controls",
          "model_name": "ProgressStyleModel",
          "model_module_version": "1.5.0",
          "state": {
            "_model_module": "@jupyter-widgets/controls",
            "_model_module_version": "1.5.0",
            "_model_name": "ProgressStyleModel",
            "_view_count": null,
            "_view_module": "@jupyter-widgets/base",
            "_view_module_version": "1.2.0",
            "_view_name": "StyleView",
            "bar_color": null,
            "description_width": ""
          }
        },
        "54851768b92a4195a7bf0c58db686130": {
          "model_module": "@jupyter-widgets/base",
          "model_name": "LayoutModel",
          "model_module_version": "1.2.0",
          "state": {
            "_model_module": "@jupyter-widgets/base",
            "_model_module_version": "1.2.0",
            "_model_name": "LayoutModel",
            "_view_count": null,
            "_view_module": "@jupyter-widgets/base",
            "_view_module_version": "1.2.0",
            "_view_name": "LayoutView",
            "align_content": null,
            "align_items": null,
            "align_self": null,
            "border": null,
            "bottom": null,
            "display": null,
            "flex": null,
            "flex_flow": null,
            "grid_area": null,
            "grid_auto_columns": null,
            "grid_auto_flow": null,
            "grid_auto_rows": null,
            "grid_column": null,
            "grid_gap": null,
            "grid_row": null,
            "grid_template_areas": null,
            "grid_template_columns": null,
            "grid_template_rows": null,
            "height": null,
            "justify_content": null,
            "justify_items": null,
            "left": null,
            "margin": null,
            "max_height": null,
            "max_width": null,
            "min_height": null,
            "min_width": null,
            "object_fit": null,
            "object_position": null,
            "order": null,
            "overflow": null,
            "overflow_x": null,
            "overflow_y": null,
            "padding": null,
            "right": null,
            "top": null,
            "visibility": null,
            "width": null
          }
        },
        "86436bc46f2443a0a842c32524940399": {
          "model_module": "@jupyter-widgets/controls",
          "model_name": "DescriptionStyleModel",
          "model_module_version": "1.5.0",
          "state": {
            "_model_module": "@jupyter-widgets/controls",
            "_model_module_version": "1.5.0",
            "_model_name": "DescriptionStyleModel",
            "_view_count": null,
            "_view_module": "@jupyter-widgets/base",
            "_view_module_version": "1.2.0",
            "_view_name": "StyleView",
            "description_width": ""
          }
        },
        "23dbf3795e354d26aaedf61e13acf309": {
          "model_module": "@jupyter-widgets/controls",
          "model_name": "HBoxModel",
          "model_module_version": "1.5.0",
          "state": {
            "_dom_classes": [],
            "_model_module": "@jupyter-widgets/controls",
            "_model_module_version": "1.5.0",
            "_model_name": "HBoxModel",
            "_view_count": null,
            "_view_module": "@jupyter-widgets/controls",
            "_view_module_version": "1.5.0",
            "_view_name": "HBoxView",
            "box_style": "",
            "children": [
              "IPY_MODEL_a900691f0f634ba7bb093a7cd0f031d4",
              "IPY_MODEL_ec32e1404b324b618208f45cc568053c",
              "IPY_MODEL_4ba00cd5d0bc4a009da7c9d446fa6dc6"
            ],
            "layout": "IPY_MODEL_3a4564ef2c58497b95c701b579251df1"
          }
        },
        "a900691f0f634ba7bb093a7cd0f031d4": {
          "model_module": "@jupyter-widgets/controls",
          "model_name": "HTMLModel",
          "model_module_version": "1.5.0",
          "state": {
            "_dom_classes": [],
            "_model_module": "@jupyter-widgets/controls",
            "_model_module_version": "1.5.0",
            "_model_name": "HTMLModel",
            "_view_count": null,
            "_view_module": "@jupyter-widgets/controls",
            "_view_module_version": "1.5.0",
            "_view_name": "HTMLView",
            "description": "",
            "description_tooltip": null,
            "layout": "IPY_MODEL_9882dd995f7545009b5513f08b3c7838",
            "placeholder": "​",
            "style": "IPY_MODEL_5a7b812322ff4d3cb0d1dea671b5d96a",
            "value": "spiece.model: 100%"
          }
        },
        "ec32e1404b324b618208f45cc568053c": {
          "model_module": "@jupyter-widgets/controls",
          "model_name": "FloatProgressModel",
          "model_module_version": "1.5.0",
          "state": {
            "_dom_classes": [],
            "_model_module": "@jupyter-widgets/controls",
            "_model_module_version": "1.5.0",
            "_model_name": "FloatProgressModel",
            "_view_count": null,
            "_view_module": "@jupyter-widgets/controls",
            "_view_module_version": "1.5.0",
            "_view_name": "ProgressView",
            "bar_style": "success",
            "description": "",
            "description_tooltip": null,
            "layout": "IPY_MODEL_6d839134100a4b65b841316ad958c802",
            "max": 791656,
            "min": 0,
            "orientation": "horizontal",
            "style": "IPY_MODEL_9c8c9463134a4128b29d534885eb7fd0",
            "value": 791656
          }
        },
        "4ba00cd5d0bc4a009da7c9d446fa6dc6": {
          "model_module": "@jupyter-widgets/controls",
          "model_name": "HTMLModel",
          "model_module_version": "1.5.0",
          "state": {
            "_dom_classes": [],
            "_model_module": "@jupyter-widgets/controls",
            "_model_module_version": "1.5.0",
            "_model_name": "HTMLModel",
            "_view_count": null,
            "_view_module": "@jupyter-widgets/controls",
            "_view_module_version": "1.5.0",
            "_view_name": "HTMLView",
            "description": "",
            "description_tooltip": null,
            "layout": "IPY_MODEL_b7433b90089944adab135d8164b11d08",
            "placeholder": "​",
            "style": "IPY_MODEL_d96ab45109b74be585b734a6b9e6a91b",
            "value": " 792k/792k [00:00&lt;00:00, 21.1MB/s]"
          }
        },
        "3a4564ef2c58497b95c701b579251df1": {
          "model_module": "@jupyter-widgets/base",
          "model_name": "LayoutModel",
          "model_module_version": "1.2.0",
          "state": {
            "_model_module": "@jupyter-widgets/base",
            "_model_module_version": "1.2.0",
            "_model_name": "LayoutModel",
            "_view_count": null,
            "_view_module": "@jupyter-widgets/base",
            "_view_module_version": "1.2.0",
            "_view_name": "LayoutView",
            "align_content": null,
            "align_items": null,
            "align_self": null,
            "border": null,
            "bottom": null,
            "display": null,
            "flex": null,
            "flex_flow": null,
            "grid_area": null,
            "grid_auto_columns": null,
            "grid_auto_flow": null,
            "grid_auto_rows": null,
            "grid_column": null,
            "grid_gap": null,
            "grid_row": null,
            "grid_template_areas": null,
            "grid_template_columns": null,
            "grid_template_rows": null,
            "height": null,
            "justify_content": null,
            "justify_items": null,
            "left": null,
            "margin": null,
            "max_height": null,
            "max_width": null,
            "min_height": null,
            "min_width": null,
            "object_fit": null,
            "object_position": null,
            "order": null,
            "overflow": null,
            "overflow_x": null,
            "overflow_y": null,
            "padding": null,
            "right": null,
            "top": null,
            "visibility": null,
            "width": null
          }
        },
        "9882dd995f7545009b5513f08b3c7838": {
          "model_module": "@jupyter-widgets/base",
          "model_name": "LayoutModel",
          "model_module_version": "1.2.0",
          "state": {
            "_model_module": "@jupyter-widgets/base",
            "_model_module_version": "1.2.0",
            "_model_name": "LayoutModel",
            "_view_count": null,
            "_view_module": "@jupyter-widgets/base",
            "_view_module_version": "1.2.0",
            "_view_name": "LayoutView",
            "align_content": null,
            "align_items": null,
            "align_self": null,
            "border": null,
            "bottom": null,
            "display": null,
            "flex": null,
            "flex_flow": null,
            "grid_area": null,
            "grid_auto_columns": null,
            "grid_auto_flow": null,
            "grid_auto_rows": null,
            "grid_column": null,
            "grid_gap": null,
            "grid_row": null,
            "grid_template_areas": null,
            "grid_template_columns": null,
            "grid_template_rows": null,
            "height": null,
            "justify_content": null,
            "justify_items": null,
            "left": null,
            "margin": null,
            "max_height": null,
            "max_width": null,
            "min_height": null,
            "min_width": null,
            "object_fit": null,
            "object_position": null,
            "order": null,
            "overflow": null,
            "overflow_x": null,
            "overflow_y": null,
            "padding": null,
            "right": null,
            "top": null,
            "visibility": null,
            "width": null
          }
        },
        "5a7b812322ff4d3cb0d1dea671b5d96a": {
          "model_module": "@jupyter-widgets/controls",
          "model_name": "DescriptionStyleModel",
          "model_module_version": "1.5.0",
          "state": {
            "_model_module": "@jupyter-widgets/controls",
            "_model_module_version": "1.5.0",
            "_model_name": "DescriptionStyleModel",
            "_view_count": null,
            "_view_module": "@jupyter-widgets/base",
            "_view_module_version": "1.2.0",
            "_view_name": "StyleView",
            "description_width": ""
          }
        },
        "6d839134100a4b65b841316ad958c802": {
          "model_module": "@jupyter-widgets/base",
          "model_name": "LayoutModel",
          "model_module_version": "1.2.0",
          "state": {
            "_model_module": "@jupyter-widgets/base",
            "_model_module_version": "1.2.0",
            "_model_name": "LayoutModel",
            "_view_count": null,
            "_view_module": "@jupyter-widgets/base",
            "_view_module_version": "1.2.0",
            "_view_name": "LayoutView",
            "align_content": null,
            "align_items": null,
            "align_self": null,
            "border": null,
            "bottom": null,
            "display": null,
            "flex": null,
            "flex_flow": null,
            "grid_area": null,
            "grid_auto_columns": null,
            "grid_auto_flow": null,
            "grid_auto_rows": null,
            "grid_column": null,
            "grid_gap": null,
            "grid_row": null,
            "grid_template_areas": null,
            "grid_template_columns": null,
            "grid_template_rows": null,
            "height": null,
            "justify_content": null,
            "justify_items": null,
            "left": null,
            "margin": null,
            "max_height": null,
            "max_width": null,
            "min_height": null,
            "min_width": null,
            "object_fit": null,
            "object_position": null,
            "order": null,
            "overflow": null,
            "overflow_x": null,
            "overflow_y": null,
            "padding": null,
            "right": null,
            "top": null,
            "visibility": null,
            "width": null
          }
        },
        "9c8c9463134a4128b29d534885eb7fd0": {
          "model_module": "@jupyter-widgets/controls",
          "model_name": "ProgressStyleModel",
          "model_module_version": "1.5.0",
          "state": {
            "_model_module": "@jupyter-widgets/controls",
            "_model_module_version": "1.5.0",
            "_model_name": "ProgressStyleModel",
            "_view_count": null,
            "_view_module": "@jupyter-widgets/base",
            "_view_module_version": "1.2.0",
            "_view_name": "StyleView",
            "bar_color": null,
            "description_width": ""
          }
        },
        "b7433b90089944adab135d8164b11d08": {
          "model_module": "@jupyter-widgets/base",
          "model_name": "LayoutModel",
          "model_module_version": "1.2.0",
          "state": {
            "_model_module": "@jupyter-widgets/base",
            "_model_module_version": "1.2.0",
            "_model_name": "LayoutModel",
            "_view_count": null,
            "_view_module": "@jupyter-widgets/base",
            "_view_module_version": "1.2.0",
            "_view_name": "LayoutView",
            "align_content": null,
            "align_items": null,
            "align_self": null,
            "border": null,
            "bottom": null,
            "display": null,
            "flex": null,
            "flex_flow": null,
            "grid_area": null,
            "grid_auto_columns": null,
            "grid_auto_flow": null,
            "grid_auto_rows": null,
            "grid_column": null,
            "grid_gap": null,
            "grid_row": null,
            "grid_template_areas": null,
            "grid_template_columns": null,
            "grid_template_rows": null,
            "height": null,
            "justify_content": null,
            "justify_items": null,
            "left": null,
            "margin": null,
            "max_height": null,
            "max_width": null,
            "min_height": null,
            "min_width": null,
            "object_fit": null,
            "object_position": null,
            "order": null,
            "overflow": null,
            "overflow_x": null,
            "overflow_y": null,
            "padding": null,
            "right": null,
            "top": null,
            "visibility": null,
            "width": null
          }
        },
        "d96ab45109b74be585b734a6b9e6a91b": {
          "model_module": "@jupyter-widgets/controls",
          "model_name": "DescriptionStyleModel",
          "model_module_version": "1.5.0",
          "state": {
            "_model_module": "@jupyter-widgets/controls",
            "_model_module_version": "1.5.0",
            "_model_name": "DescriptionStyleModel",
            "_view_count": null,
            "_view_module": "@jupyter-widgets/base",
            "_view_module_version": "1.2.0",
            "_view_name": "StyleView",
            "description_width": ""
          }
        },
        "484fc9f30ff7456fb7308a7325a5de31": {
          "model_module": "@jupyter-widgets/controls",
          "model_name": "HBoxModel",
          "model_module_version": "1.5.0",
          "state": {
            "_dom_classes": [],
            "_model_module": "@jupyter-widgets/controls",
            "_model_module_version": "1.5.0",
            "_model_name": "HBoxModel",
            "_view_count": null,
            "_view_module": "@jupyter-widgets/controls",
            "_view_module_version": "1.5.0",
            "_view_name": "HBoxView",
            "box_style": "",
            "children": [
              "IPY_MODEL_ed7d21085ce149bfb9acd0fd25594da0",
              "IPY_MODEL_80159de3aa1841459a9f70c6c06d0431",
              "IPY_MODEL_5dd372dc583743889a1dac4e33aae481"
            ],
            "layout": "IPY_MODEL_d3eb794690674d25a038cf1000b5251c"
          }
        },
        "ed7d21085ce149bfb9acd0fd25594da0": {
          "model_module": "@jupyter-widgets/controls",
          "model_name": "HTMLModel",
          "model_module_version": "1.5.0",
          "state": {
            "_dom_classes": [],
            "_model_module": "@jupyter-widgets/controls",
            "_model_module_version": "1.5.0",
            "_model_name": "HTMLModel",
            "_view_count": null,
            "_view_module": "@jupyter-widgets/controls",
            "_view_module_version": "1.5.0",
            "_view_name": "HTMLView",
            "description": "",
            "description_tooltip": null,
            "layout": "IPY_MODEL_8e3055a0e1a042e0b3e92ec88774f875",
            "placeholder": "​",
            "style": "IPY_MODEL_01bc89ff52b24e148fa3e0bec8c09513",
            "value": "tokenizer.json: 100%"
          }
        },
        "80159de3aa1841459a9f70c6c06d0431": {
          "model_module": "@jupyter-widgets/controls",
          "model_name": "FloatProgressModel",
          "model_module_version": "1.5.0",
          "state": {
            "_dom_classes": [],
            "_model_module": "@jupyter-widgets/controls",
            "_model_module_version": "1.5.0",
            "_model_name": "FloatProgressModel",
            "_view_count": null,
            "_view_module": "@jupyter-widgets/controls",
            "_view_module_version": "1.5.0",
            "_view_name": "ProgressView",
            "bar_style": "success",
            "description": "",
            "description_tooltip": null,
            "layout": "IPY_MODEL_d9d9c21c72e14535af06ca635c07a2f8",
            "max": 1389353,
            "min": 0,
            "orientation": "horizontal",
            "style": "IPY_MODEL_0132a6f1a2ec4b089e82bbc19fa15f59",
            "value": 1389353
          }
        },
        "5dd372dc583743889a1dac4e33aae481": {
          "model_module": "@jupyter-widgets/controls",
          "model_name": "HTMLModel",
          "model_module_version": "1.5.0",
          "state": {
            "_dom_classes": [],
            "_model_module": "@jupyter-widgets/controls",
            "_model_module_version": "1.5.0",
            "_model_name": "HTMLModel",
            "_view_count": null,
            "_view_module": "@jupyter-widgets/controls",
            "_view_module_version": "1.5.0",
            "_view_name": "HTMLView",
            "description": "",
            "description_tooltip": null,
            "layout": "IPY_MODEL_df158ddc0fce434f9d719a21cf329c14",
            "placeholder": "​",
            "style": "IPY_MODEL_de6afb31d9594803a6dd5a8d8c4f5b77",
            "value": " 1.39M/1.39M [00:00&lt;00:00, 25.1MB/s]"
          }
        },
        "d3eb794690674d25a038cf1000b5251c": {
          "model_module": "@jupyter-widgets/base",
          "model_name": "LayoutModel",
          "model_module_version": "1.2.0",
          "state": {
            "_model_module": "@jupyter-widgets/base",
            "_model_module_version": "1.2.0",
            "_model_name": "LayoutModel",
            "_view_count": null,
            "_view_module": "@jupyter-widgets/base",
            "_view_module_version": "1.2.0",
            "_view_name": "LayoutView",
            "align_content": null,
            "align_items": null,
            "align_self": null,
            "border": null,
            "bottom": null,
            "display": null,
            "flex": null,
            "flex_flow": null,
            "grid_area": null,
            "grid_auto_columns": null,
            "grid_auto_flow": null,
            "grid_auto_rows": null,
            "grid_column": null,
            "grid_gap": null,
            "grid_row": null,
            "grid_template_areas": null,
            "grid_template_columns": null,
            "grid_template_rows": null,
            "height": null,
            "justify_content": null,
            "justify_items": null,
            "left": null,
            "margin": null,
            "max_height": null,
            "max_width": null,
            "min_height": null,
            "min_width": null,
            "object_fit": null,
            "object_position": null,
            "order": null,
            "overflow": null,
            "overflow_x": null,
            "overflow_y": null,
            "padding": null,
            "right": null,
            "top": null,
            "visibility": null,
            "width": null
          }
        },
        "8e3055a0e1a042e0b3e92ec88774f875": {
          "model_module": "@jupyter-widgets/base",
          "model_name": "LayoutModel",
          "model_module_version": "1.2.0",
          "state": {
            "_model_module": "@jupyter-widgets/base",
            "_model_module_version": "1.2.0",
            "_model_name": "LayoutModel",
            "_view_count": null,
            "_view_module": "@jupyter-widgets/base",
            "_view_module_version": "1.2.0",
            "_view_name": "LayoutView",
            "align_content": null,
            "align_items": null,
            "align_self": null,
            "border": null,
            "bottom": null,
            "display": null,
            "flex": null,
            "flex_flow": null,
            "grid_area": null,
            "grid_auto_columns": null,
            "grid_auto_flow": null,
            "grid_auto_rows": null,
            "grid_column": null,
            "grid_gap": null,
            "grid_row": null,
            "grid_template_areas": null,
            "grid_template_columns": null,
            "grid_template_rows": null,
            "height": null,
            "justify_content": null,
            "justify_items": null,
            "left": null,
            "margin": null,
            "max_height": null,
            "max_width": null,
            "min_height": null,
            "min_width": null,
            "object_fit": null,
            "object_position": null,
            "order": null,
            "overflow": null,
            "overflow_x": null,
            "overflow_y": null,
            "padding": null,
            "right": null,
            "top": null,
            "visibility": null,
            "width": null
          }
        },
        "01bc89ff52b24e148fa3e0bec8c09513": {
          "model_module": "@jupyter-widgets/controls",
          "model_name": "DescriptionStyleModel",
          "model_module_version": "1.5.0",
          "state": {
            "_model_module": "@jupyter-widgets/controls",
            "_model_module_version": "1.5.0",
            "_model_name": "DescriptionStyleModel",
            "_view_count": null,
            "_view_module": "@jupyter-widgets/base",
            "_view_module_version": "1.2.0",
            "_view_name": "StyleView",
            "description_width": ""
          }
        },
        "d9d9c21c72e14535af06ca635c07a2f8": {
          "model_module": "@jupyter-widgets/base",
          "model_name": "LayoutModel",
          "model_module_version": "1.2.0",
          "state": {
            "_model_module": "@jupyter-widgets/base",
            "_model_module_version": "1.2.0",
            "_model_name": "LayoutModel",
            "_view_count": null,
            "_view_module": "@jupyter-widgets/base",
            "_view_module_version": "1.2.0",
            "_view_name": "LayoutView",
            "align_content": null,
            "align_items": null,
            "align_self": null,
            "border": null,
            "bottom": null,
            "display": null,
            "flex": null,
            "flex_flow": null,
            "grid_area": null,
            "grid_auto_columns": null,
            "grid_auto_flow": null,
            "grid_auto_rows": null,
            "grid_column": null,
            "grid_gap": null,
            "grid_row": null,
            "grid_template_areas": null,
            "grid_template_columns": null,
            "grid_template_rows": null,
            "height": null,
            "justify_content": null,
            "justify_items": null,
            "left": null,
            "margin": null,
            "max_height": null,
            "max_width": null,
            "min_height": null,
            "min_width": null,
            "object_fit": null,
            "object_position": null,
            "order": null,
            "overflow": null,
            "overflow_x": null,
            "overflow_y": null,
            "padding": null,
            "right": null,
            "top": null,
            "visibility": null,
            "width": null
          }
        },
        "0132a6f1a2ec4b089e82bbc19fa15f59": {
          "model_module": "@jupyter-widgets/controls",
          "model_name": "ProgressStyleModel",
          "model_module_version": "1.5.0",
          "state": {
            "_model_module": "@jupyter-widgets/controls",
            "_model_module_version": "1.5.0",
            "_model_name": "ProgressStyleModel",
            "_view_count": null,
            "_view_module": "@jupyter-widgets/base",
            "_view_module_version": "1.2.0",
            "_view_name": "StyleView",
            "bar_color": null,
            "description_width": ""
          }
        },
        "df158ddc0fce434f9d719a21cf329c14": {
          "model_module": "@jupyter-widgets/base",
          "model_name": "LayoutModel",
          "model_module_version": "1.2.0",
          "state": {
            "_model_module": "@jupyter-widgets/base",
            "_model_module_version": "1.2.0",
            "_model_name": "LayoutModel",
            "_view_count": null,
            "_view_module": "@jupyter-widgets/base",
            "_view_module_version": "1.2.0",
            "_view_name": "LayoutView",
            "align_content": null,
            "align_items": null,
            "align_self": null,
            "border": null,
            "bottom": null,
            "display": null,
            "flex": null,
            "flex_flow": null,
            "grid_area": null,
            "grid_auto_columns": null,
            "grid_auto_flow": null,
            "grid_auto_rows": null,
            "grid_column": null,
            "grid_gap": null,
            "grid_row": null,
            "grid_template_areas": null,
            "grid_template_columns": null,
            "grid_template_rows": null,
            "height": null,
            "justify_content": null,
            "justify_items": null,
            "left": null,
            "margin": null,
            "max_height": null,
            "max_width": null,
            "min_height": null,
            "min_width": null,
            "object_fit": null,
            "object_position": null,
            "order": null,
            "overflow": null,
            "overflow_x": null,
            "overflow_y": null,
            "padding": null,
            "right": null,
            "top": null,
            "visibility": null,
            "width": null
          }
        },
        "de6afb31d9594803a6dd5a8d8c4f5b77": {
          "model_module": "@jupyter-widgets/controls",
          "model_name": "DescriptionStyleModel",
          "model_module_version": "1.5.0",
          "state": {
            "_model_module": "@jupyter-widgets/controls",
            "_model_module_version": "1.5.0",
            "_model_name": "DescriptionStyleModel",
            "_view_count": null,
            "_view_module": "@jupyter-widgets/base",
            "_view_module_version": "1.2.0",
            "_view_name": "StyleView",
            "description_width": ""
          }
        },
        "4f23d01d0377467fbdddeecdab3cdf2f": {
          "model_module": "@jupyter-widgets/controls",
          "model_name": "VBoxModel",
          "model_module_version": "1.5.0",
          "state": {
            "_dom_classes": [],
            "_model_module": "@jupyter-widgets/controls",
            "_model_module_version": "1.5.0",
            "_model_name": "VBoxModel",
            "_view_count": null,
            "_view_module": "@jupyter-widgets/controls",
            "_view_module_version": "1.5.0",
            "_view_name": "VBoxView",
            "box_style": "",
            "children": [
              "IPY_MODEL_dda0f4e7855a402e9cd0c15ef97c9b6f",
              "IPY_MODEL_2dc102125cf9483bbab9fbf236ee2c7d",
              "IPY_MODEL_69f6ddd5d34541358c5caa1c2098ac85",
              "IPY_MODEL_6a7a7a83b24c4698b870fe6cdc22c588"
            ],
            "layout": "IPY_MODEL_4a739a12768e400195b24516e2db404d"
          }
        },
        "69db9bc1710149fbbd2064bcf6c0a357": {
          "model_module": "@jupyter-widgets/controls",
          "model_name": "HTMLModel",
          "model_module_version": "1.5.0",
          "state": {
            "_dom_classes": [],
            "_model_module": "@jupyter-widgets/controls",
            "_model_module_version": "1.5.0",
            "_model_name": "HTMLModel",
            "_view_count": null,
            "_view_module": "@jupyter-widgets/controls",
            "_view_module_version": "1.5.0",
            "_view_name": "HTMLView",
            "description": "",
            "description_tooltip": null,
            "layout": "IPY_MODEL_e34ab5d240024f2bae0a7efe0c639219",
            "placeholder": "​",
            "style": "IPY_MODEL_a5ef08e584c3465d908969fc492bfc94",
            "value": "<center> <img\nsrc=https://huggingface.co/front/assets/huggingface_logo-noborder.svg\nalt='Hugging Face'> <br> Copy a token from <a\nhref=\"https://huggingface.co/settings/tokens\" target=\"_blank\">your Hugging Face\ntokens page</a> and paste it below. <br> Immediately click login after copying\nyour token or it might be stored in plain text in this notebook file. </center>"
          }
        },
        "40b2768dcae4413b87fc3104226a0ba6": {
          "model_module": "@jupyter-widgets/controls",
          "model_name": "PasswordModel",
          "model_module_version": "1.5.0",
          "state": {
            "_dom_classes": [],
            "_model_module": "@jupyter-widgets/controls",
            "_model_module_version": "1.5.0",
            "_model_name": "PasswordModel",
            "_view_count": null,
            "_view_module": "@jupyter-widgets/controls",
            "_view_module_version": "1.5.0",
            "_view_name": "PasswordView",
            "continuous_update": true,
            "description": "Token:",
            "description_tooltip": null,
            "disabled": false,
            "layout": "IPY_MODEL_1769334add064b759d44cd1033111a5f",
            "placeholder": "​",
            "style": "IPY_MODEL_9d9d8555fcf74673b4687da0e996aff4",
            "value": ""
          }
        },
        "c176f814672c4c7f9d3e4e881bc3efc6": {
          "model_module": "@jupyter-widgets/controls",
          "model_name": "CheckboxModel",
          "model_module_version": "1.5.0",
          "state": {
            "_dom_classes": [],
            "_model_module": "@jupyter-widgets/controls",
            "_model_module_version": "1.5.0",
            "_model_name": "CheckboxModel",
            "_view_count": null,
            "_view_module": "@jupyter-widgets/controls",
            "_view_module_version": "1.5.0",
            "_view_name": "CheckboxView",
            "description": "Add token as git credential?",
            "description_tooltip": null,
            "disabled": false,
            "indent": true,
            "layout": "IPY_MODEL_243f3efafa0b4c74a2b34efb4b2fb0ef",
            "style": "IPY_MODEL_051ece87c7114977b625fecf6dc58fef",
            "value": true
          }
        },
        "43829a01fe2a41c490970da1eab4b57d": {
          "model_module": "@jupyter-widgets/controls",
          "model_name": "ButtonModel",
          "model_module_version": "1.5.0",
          "state": {
            "_dom_classes": [],
            "_model_module": "@jupyter-widgets/controls",
            "_model_module_version": "1.5.0",
            "_model_name": "ButtonModel",
            "_view_count": null,
            "_view_module": "@jupyter-widgets/controls",
            "_view_module_version": "1.5.0",
            "_view_name": "ButtonView",
            "button_style": "",
            "description": "Login",
            "disabled": false,
            "icon": "",
            "layout": "IPY_MODEL_89e8e0e7dc6044f0b7190e98ff4d8f2a",
            "style": "IPY_MODEL_a3b89d21ff5d4e9a86caf5cc79466116",
            "tooltip": ""
          }
        },
        "e7d8be877e984fc4abf0f1d82b65741e": {
          "model_module": "@jupyter-widgets/controls",
          "model_name": "HTMLModel",
          "model_module_version": "1.5.0",
          "state": {
            "_dom_classes": [],
            "_model_module": "@jupyter-widgets/controls",
            "_model_module_version": "1.5.0",
            "_model_name": "HTMLModel",
            "_view_count": null,
            "_view_module": "@jupyter-widgets/controls",
            "_view_module_version": "1.5.0",
            "_view_name": "HTMLView",
            "description": "",
            "description_tooltip": null,
            "layout": "IPY_MODEL_ce942d6a006d49ba90f373adbd39ab19",
            "placeholder": "​",
            "style": "IPY_MODEL_32ad20d4341947b4b35b78b4bf43a4a1",
            "value": "\n<b>Pro Tip:</b> If you don't already have one, you can create a dedicated\n'notebooks' token with 'write' access, that you can then easily reuse for all\nnotebooks. </center>"
          }
        },
        "4a739a12768e400195b24516e2db404d": {
          "model_module": "@jupyter-widgets/base",
          "model_name": "LayoutModel",
          "model_module_version": "1.2.0",
          "state": {
            "_model_module": "@jupyter-widgets/base",
            "_model_module_version": "1.2.0",
            "_model_name": "LayoutModel",
            "_view_count": null,
            "_view_module": "@jupyter-widgets/base",
            "_view_module_version": "1.2.0",
            "_view_name": "LayoutView",
            "align_content": null,
            "align_items": "center",
            "align_self": null,
            "border": null,
            "bottom": null,
            "display": "flex",
            "flex": null,
            "flex_flow": "column",
            "grid_area": null,
            "grid_auto_columns": null,
            "grid_auto_flow": null,
            "grid_auto_rows": null,
            "grid_column": null,
            "grid_gap": null,
            "grid_row": null,
            "grid_template_areas": null,
            "grid_template_columns": null,
            "grid_template_rows": null,
            "height": null,
            "justify_content": null,
            "justify_items": null,
            "left": null,
            "margin": null,
            "max_height": null,
            "max_width": null,
            "min_height": null,
            "min_width": null,
            "object_fit": null,
            "object_position": null,
            "order": null,
            "overflow": null,
            "overflow_x": null,
            "overflow_y": null,
            "padding": null,
            "right": null,
            "top": null,
            "visibility": null,
            "width": "50%"
          }
        },
        "e34ab5d240024f2bae0a7efe0c639219": {
          "model_module": "@jupyter-widgets/base",
          "model_name": "LayoutModel",
          "model_module_version": "1.2.0",
          "state": {
            "_model_module": "@jupyter-widgets/base",
            "_model_module_version": "1.2.0",
            "_model_name": "LayoutModel",
            "_view_count": null,
            "_view_module": "@jupyter-widgets/base",
            "_view_module_version": "1.2.0",
            "_view_name": "LayoutView",
            "align_content": null,
            "align_items": null,
            "align_self": null,
            "border": null,
            "bottom": null,
            "display": null,
            "flex": null,
            "flex_flow": null,
            "grid_area": null,
            "grid_auto_columns": null,
            "grid_auto_flow": null,
            "grid_auto_rows": null,
            "grid_column": null,
            "grid_gap": null,
            "grid_row": null,
            "grid_template_areas": null,
            "grid_template_columns": null,
            "grid_template_rows": null,
            "height": null,
            "justify_content": null,
            "justify_items": null,
            "left": null,
            "margin": null,
            "max_height": null,
            "max_width": null,
            "min_height": null,
            "min_width": null,
            "object_fit": null,
            "object_position": null,
            "order": null,
            "overflow": null,
            "overflow_x": null,
            "overflow_y": null,
            "padding": null,
            "right": null,
            "top": null,
            "visibility": null,
            "width": null
          }
        },
        "a5ef08e584c3465d908969fc492bfc94": {
          "model_module": "@jupyter-widgets/controls",
          "model_name": "DescriptionStyleModel",
          "model_module_version": "1.5.0",
          "state": {
            "_model_module": "@jupyter-widgets/controls",
            "_model_module_version": "1.5.0",
            "_model_name": "DescriptionStyleModel",
            "_view_count": null,
            "_view_module": "@jupyter-widgets/base",
            "_view_module_version": "1.2.0",
            "_view_name": "StyleView",
            "description_width": ""
          }
        },
        "1769334add064b759d44cd1033111a5f": {
          "model_module": "@jupyter-widgets/base",
          "model_name": "LayoutModel",
          "model_module_version": "1.2.0",
          "state": {
            "_model_module": "@jupyter-widgets/base",
            "_model_module_version": "1.2.0",
            "_model_name": "LayoutModel",
            "_view_count": null,
            "_view_module": "@jupyter-widgets/base",
            "_view_module_version": "1.2.0",
            "_view_name": "LayoutView",
            "align_content": null,
            "align_items": null,
            "align_self": null,
            "border": null,
            "bottom": null,
            "display": null,
            "flex": null,
            "flex_flow": null,
            "grid_area": null,
            "grid_auto_columns": null,
            "grid_auto_flow": null,
            "grid_auto_rows": null,
            "grid_column": null,
            "grid_gap": null,
            "grid_row": null,
            "grid_template_areas": null,
            "grid_template_columns": null,
            "grid_template_rows": null,
            "height": null,
            "justify_content": null,
            "justify_items": null,
            "left": null,
            "margin": null,
            "max_height": null,
            "max_width": null,
            "min_height": null,
            "min_width": null,
            "object_fit": null,
            "object_position": null,
            "order": null,
            "overflow": null,
            "overflow_x": null,
            "overflow_y": null,
            "padding": null,
            "right": null,
            "top": null,
            "visibility": null,
            "width": null
          }
        },
        "9d9d8555fcf74673b4687da0e996aff4": {
          "model_module": "@jupyter-widgets/controls",
          "model_name": "DescriptionStyleModel",
          "model_module_version": "1.5.0",
          "state": {
            "_model_module": "@jupyter-widgets/controls",
            "_model_module_version": "1.5.0",
            "_model_name": "DescriptionStyleModel",
            "_view_count": null,
            "_view_module": "@jupyter-widgets/base",
            "_view_module_version": "1.2.0",
            "_view_name": "StyleView",
            "description_width": ""
          }
        },
        "243f3efafa0b4c74a2b34efb4b2fb0ef": {
          "model_module": "@jupyter-widgets/base",
          "model_name": "LayoutModel",
          "model_module_version": "1.2.0",
          "state": {
            "_model_module": "@jupyter-widgets/base",
            "_model_module_version": "1.2.0",
            "_model_name": "LayoutModel",
            "_view_count": null,
            "_view_module": "@jupyter-widgets/base",
            "_view_module_version": "1.2.0",
            "_view_name": "LayoutView",
            "align_content": null,
            "align_items": null,
            "align_self": null,
            "border": null,
            "bottom": null,
            "display": null,
            "flex": null,
            "flex_flow": null,
            "grid_area": null,
            "grid_auto_columns": null,
            "grid_auto_flow": null,
            "grid_auto_rows": null,
            "grid_column": null,
            "grid_gap": null,
            "grid_row": null,
            "grid_template_areas": null,
            "grid_template_columns": null,
            "grid_template_rows": null,
            "height": null,
            "justify_content": null,
            "justify_items": null,
            "left": null,
            "margin": null,
            "max_height": null,
            "max_width": null,
            "min_height": null,
            "min_width": null,
            "object_fit": null,
            "object_position": null,
            "order": null,
            "overflow": null,
            "overflow_x": null,
            "overflow_y": null,
            "padding": null,
            "right": null,
            "top": null,
            "visibility": null,
            "width": null
          }
        },
        "051ece87c7114977b625fecf6dc58fef": {
          "model_module": "@jupyter-widgets/controls",
          "model_name": "DescriptionStyleModel",
          "model_module_version": "1.5.0",
          "state": {
            "_model_module": "@jupyter-widgets/controls",
            "_model_module_version": "1.5.0",
            "_model_name": "DescriptionStyleModel",
            "_view_count": null,
            "_view_module": "@jupyter-widgets/base",
            "_view_module_version": "1.2.0",
            "_view_name": "StyleView",
            "description_width": ""
          }
        },
        "89e8e0e7dc6044f0b7190e98ff4d8f2a": {
          "model_module": "@jupyter-widgets/base",
          "model_name": "LayoutModel",
          "model_module_version": "1.2.0",
          "state": {
            "_model_module": "@jupyter-widgets/base",
            "_model_module_version": "1.2.0",
            "_model_name": "LayoutModel",
            "_view_count": null,
            "_view_module": "@jupyter-widgets/base",
            "_view_module_version": "1.2.0",
            "_view_name": "LayoutView",
            "align_content": null,
            "align_items": null,
            "align_self": null,
            "border": null,
            "bottom": null,
            "display": null,
            "flex": null,
            "flex_flow": null,
            "grid_area": null,
            "grid_auto_columns": null,
            "grid_auto_flow": null,
            "grid_auto_rows": null,
            "grid_column": null,
            "grid_gap": null,
            "grid_row": null,
            "grid_template_areas": null,
            "grid_template_columns": null,
            "grid_template_rows": null,
            "height": null,
            "justify_content": null,
            "justify_items": null,
            "left": null,
            "margin": null,
            "max_height": null,
            "max_width": null,
            "min_height": null,
            "min_width": null,
            "object_fit": null,
            "object_position": null,
            "order": null,
            "overflow": null,
            "overflow_x": null,
            "overflow_y": null,
            "padding": null,
            "right": null,
            "top": null,
            "visibility": null,
            "width": null
          }
        },
        "a3b89d21ff5d4e9a86caf5cc79466116": {
          "model_module": "@jupyter-widgets/controls",
          "model_name": "ButtonStyleModel",
          "model_module_version": "1.5.0",
          "state": {
            "_model_module": "@jupyter-widgets/controls",
            "_model_module_version": "1.5.0",
            "_model_name": "ButtonStyleModel",
            "_view_count": null,
            "_view_module": "@jupyter-widgets/base",
            "_view_module_version": "1.2.0",
            "_view_name": "StyleView",
            "button_color": null,
            "font_weight": ""
          }
        },
        "ce942d6a006d49ba90f373adbd39ab19": {
          "model_module": "@jupyter-widgets/base",
          "model_name": "LayoutModel",
          "model_module_version": "1.2.0",
          "state": {
            "_model_module": "@jupyter-widgets/base",
            "_model_module_version": "1.2.0",
            "_model_name": "LayoutModel",
            "_view_count": null,
            "_view_module": "@jupyter-widgets/base",
            "_view_module_version": "1.2.0",
            "_view_name": "LayoutView",
            "align_content": null,
            "align_items": null,
            "align_self": null,
            "border": null,
            "bottom": null,
            "display": null,
            "flex": null,
            "flex_flow": null,
            "grid_area": null,
            "grid_auto_columns": null,
            "grid_auto_flow": null,
            "grid_auto_rows": null,
            "grid_column": null,
            "grid_gap": null,
            "grid_row": null,
            "grid_template_areas": null,
            "grid_template_columns": null,
            "grid_template_rows": null,
            "height": null,
            "justify_content": null,
            "justify_items": null,
            "left": null,
            "margin": null,
            "max_height": null,
            "max_width": null,
            "min_height": null,
            "min_width": null,
            "object_fit": null,
            "object_position": null,
            "order": null,
            "overflow": null,
            "overflow_x": null,
            "overflow_y": null,
            "padding": null,
            "right": null,
            "top": null,
            "visibility": null,
            "width": null
          }
        },
        "32ad20d4341947b4b35b78b4bf43a4a1": {
          "model_module": "@jupyter-widgets/controls",
          "model_name": "DescriptionStyleModel",
          "model_module_version": "1.5.0",
          "state": {
            "_model_module": "@jupyter-widgets/controls",
            "_model_module_version": "1.5.0",
            "_model_name": "DescriptionStyleModel",
            "_view_count": null,
            "_view_module": "@jupyter-widgets/base",
            "_view_module_version": "1.2.0",
            "_view_name": "StyleView",
            "description_width": ""
          }
        },
        "5fa96886885d493b952f59f6e188376e": {
          "model_module": "@jupyter-widgets/controls",
          "model_name": "LabelModel",
          "model_module_version": "1.5.0",
          "state": {
            "_dom_classes": [],
            "_model_module": "@jupyter-widgets/controls",
            "_model_module_version": "1.5.0",
            "_model_name": "LabelModel",
            "_view_count": null,
            "_view_module": "@jupyter-widgets/controls",
            "_view_module_version": "1.5.0",
            "_view_name": "LabelView",
            "description": "",
            "description_tooltip": null,
            "layout": "IPY_MODEL_c8f74d3de54c4696ade2588c22558499",
            "placeholder": "​",
            "style": "IPY_MODEL_beb2f40cae28480ba6232b815b51893f",
            "value": "Connecting..."
          }
        },
        "c8f74d3de54c4696ade2588c22558499": {
          "model_module": "@jupyter-widgets/base",
          "model_name": "LayoutModel",
          "model_module_version": "1.2.0",
          "state": {
            "_model_module": "@jupyter-widgets/base",
            "_model_module_version": "1.2.0",
            "_model_name": "LayoutModel",
            "_view_count": null,
            "_view_module": "@jupyter-widgets/base",
            "_view_module_version": "1.2.0",
            "_view_name": "LayoutView",
            "align_content": null,
            "align_items": null,
            "align_self": null,
            "border": null,
            "bottom": null,
            "display": null,
            "flex": null,
            "flex_flow": null,
            "grid_area": null,
            "grid_auto_columns": null,
            "grid_auto_flow": null,
            "grid_auto_rows": null,
            "grid_column": null,
            "grid_gap": null,
            "grid_row": null,
            "grid_template_areas": null,
            "grid_template_columns": null,
            "grid_template_rows": null,
            "height": null,
            "justify_content": null,
            "justify_items": null,
            "left": null,
            "margin": null,
            "max_height": null,
            "max_width": null,
            "min_height": null,
            "min_width": null,
            "object_fit": null,
            "object_position": null,
            "order": null,
            "overflow": null,
            "overflow_x": null,
            "overflow_y": null,
            "padding": null,
            "right": null,
            "top": null,
            "visibility": null,
            "width": null
          }
        },
        "beb2f40cae28480ba6232b815b51893f": {
          "model_module": "@jupyter-widgets/controls",
          "model_name": "DescriptionStyleModel",
          "model_module_version": "1.5.0",
          "state": {
            "_model_module": "@jupyter-widgets/controls",
            "_model_module_version": "1.5.0",
            "_model_name": "DescriptionStyleModel",
            "_view_count": null,
            "_view_module": "@jupyter-widgets/base",
            "_view_module_version": "1.2.0",
            "_view_name": "StyleView",
            "description_width": ""
          }
        },
        "dda0f4e7855a402e9cd0c15ef97c9b6f": {
          "model_module": "@jupyter-widgets/controls",
          "model_name": "LabelModel",
          "model_module_version": "1.5.0",
          "state": {
            "_dom_classes": [],
            "_model_module": "@jupyter-widgets/controls",
            "_model_module_version": "1.5.0",
            "_model_name": "LabelModel",
            "_view_count": null,
            "_view_module": "@jupyter-widgets/controls",
            "_view_module_version": "1.5.0",
            "_view_name": "LabelView",
            "description": "",
            "description_tooltip": null,
            "layout": "IPY_MODEL_93582d2c32944b10b78084dd8238a204",
            "placeholder": "​",
            "style": "IPY_MODEL_459ad13ac99d4e3ca0888767e58ebc35",
            "value": "Token is valid (permission: write)."
          }
        },
        "2dc102125cf9483bbab9fbf236ee2c7d": {
          "model_module": "@jupyter-widgets/controls",
          "model_name": "LabelModel",
          "model_module_version": "1.5.0",
          "state": {
            "_dom_classes": [],
            "_model_module": "@jupyter-widgets/controls",
            "_model_module_version": "1.5.0",
            "_model_name": "LabelModel",
            "_view_count": null,
            "_view_module": "@jupyter-widgets/controls",
            "_view_module_version": "1.5.0",
            "_view_name": "LabelView",
            "description": "",
            "description_tooltip": null,
            "layout": "IPY_MODEL_8b9d3353b9f440c191e9fe2c10918cf8",
            "placeholder": "​",
            "style": "IPY_MODEL_3027ed173a1f4b6282e48eb54d6d6d55",
            "value": "Your token has been saved in your configured git credential helpers (store)."
          }
        },
        "69f6ddd5d34541358c5caa1c2098ac85": {
          "model_module": "@jupyter-widgets/controls",
          "model_name": "LabelModel",
          "model_module_version": "1.5.0",
          "state": {
            "_dom_classes": [],
            "_model_module": "@jupyter-widgets/controls",
            "_model_module_version": "1.5.0",
            "_model_name": "LabelModel",
            "_view_count": null,
            "_view_module": "@jupyter-widgets/controls",
            "_view_module_version": "1.5.0",
            "_view_name": "LabelView",
            "description": "",
            "description_tooltip": null,
            "layout": "IPY_MODEL_3621c00d4d014b6d96f350b81f439833",
            "placeholder": "​",
            "style": "IPY_MODEL_c7488ab5aec249078ec496dab7766a6f",
            "value": "Your token has been saved to /root/.cache/huggingface/token"
          }
        },
        "6a7a7a83b24c4698b870fe6cdc22c588": {
          "model_module": "@jupyter-widgets/controls",
          "model_name": "LabelModel",
          "model_module_version": "1.5.0",
          "state": {
            "_dom_classes": [],
            "_model_module": "@jupyter-widgets/controls",
            "_model_module_version": "1.5.0",
            "_model_name": "LabelModel",
            "_view_count": null,
            "_view_module": "@jupyter-widgets/controls",
            "_view_module_version": "1.5.0",
            "_view_name": "LabelView",
            "description": "",
            "description_tooltip": null,
            "layout": "IPY_MODEL_4fd12728c80e4bc5a692feacc348212c",
            "placeholder": "​",
            "style": "IPY_MODEL_51f6852da42b4ff4aeb1e507a91e5f1b",
            "value": "Login successful"
          }
        },
        "93582d2c32944b10b78084dd8238a204": {
          "model_module": "@jupyter-widgets/base",
          "model_name": "LayoutModel",
          "model_module_version": "1.2.0",
          "state": {
            "_model_module": "@jupyter-widgets/base",
            "_model_module_version": "1.2.0",
            "_model_name": "LayoutModel",
            "_view_count": null,
            "_view_module": "@jupyter-widgets/base",
            "_view_module_version": "1.2.0",
            "_view_name": "LayoutView",
            "align_content": null,
            "align_items": null,
            "align_self": null,
            "border": null,
            "bottom": null,
            "display": null,
            "flex": null,
            "flex_flow": null,
            "grid_area": null,
            "grid_auto_columns": null,
            "grid_auto_flow": null,
            "grid_auto_rows": null,
            "grid_column": null,
            "grid_gap": null,
            "grid_row": null,
            "grid_template_areas": null,
            "grid_template_columns": null,
            "grid_template_rows": null,
            "height": null,
            "justify_content": null,
            "justify_items": null,
            "left": null,
            "margin": null,
            "max_height": null,
            "max_width": null,
            "min_height": null,
            "min_width": null,
            "object_fit": null,
            "object_position": null,
            "order": null,
            "overflow": null,
            "overflow_x": null,
            "overflow_y": null,
            "padding": null,
            "right": null,
            "top": null,
            "visibility": null,
            "width": null
          }
        },
        "459ad13ac99d4e3ca0888767e58ebc35": {
          "model_module": "@jupyter-widgets/controls",
          "model_name": "DescriptionStyleModel",
          "model_module_version": "1.5.0",
          "state": {
            "_model_module": "@jupyter-widgets/controls",
            "_model_module_version": "1.5.0",
            "_model_name": "DescriptionStyleModel",
            "_view_count": null,
            "_view_module": "@jupyter-widgets/base",
            "_view_module_version": "1.2.0",
            "_view_name": "StyleView",
            "description_width": ""
          }
        },
        "8b9d3353b9f440c191e9fe2c10918cf8": {
          "model_module": "@jupyter-widgets/base",
          "model_name": "LayoutModel",
          "model_module_version": "1.2.0",
          "state": {
            "_model_module": "@jupyter-widgets/base",
            "_model_module_version": "1.2.0",
            "_model_name": "LayoutModel",
            "_view_count": null,
            "_view_module": "@jupyter-widgets/base",
            "_view_module_version": "1.2.0",
            "_view_name": "LayoutView",
            "align_content": null,
            "align_items": null,
            "align_self": null,
            "border": null,
            "bottom": null,
            "display": null,
            "flex": null,
            "flex_flow": null,
            "grid_area": null,
            "grid_auto_columns": null,
            "grid_auto_flow": null,
            "grid_auto_rows": null,
            "grid_column": null,
            "grid_gap": null,
            "grid_row": null,
            "grid_template_areas": null,
            "grid_template_columns": null,
            "grid_template_rows": null,
            "height": null,
            "justify_content": null,
            "justify_items": null,
            "left": null,
            "margin": null,
            "max_height": null,
            "max_width": null,
            "min_height": null,
            "min_width": null,
            "object_fit": null,
            "object_position": null,
            "order": null,
            "overflow": null,
            "overflow_x": null,
            "overflow_y": null,
            "padding": null,
            "right": null,
            "top": null,
            "visibility": null,
            "width": null
          }
        },
        "3027ed173a1f4b6282e48eb54d6d6d55": {
          "model_module": "@jupyter-widgets/controls",
          "model_name": "DescriptionStyleModel",
          "model_module_version": "1.5.0",
          "state": {
            "_model_module": "@jupyter-widgets/controls",
            "_model_module_version": "1.5.0",
            "_model_name": "DescriptionStyleModel",
            "_view_count": null,
            "_view_module": "@jupyter-widgets/base",
            "_view_module_version": "1.2.0",
            "_view_name": "StyleView",
            "description_width": ""
          }
        },
        "3621c00d4d014b6d96f350b81f439833": {
          "model_module": "@jupyter-widgets/base",
          "model_name": "LayoutModel",
          "model_module_version": "1.2.0",
          "state": {
            "_model_module": "@jupyter-widgets/base",
            "_model_module_version": "1.2.0",
            "_model_name": "LayoutModel",
            "_view_count": null,
            "_view_module": "@jupyter-widgets/base",
            "_view_module_version": "1.2.0",
            "_view_name": "LayoutView",
            "align_content": null,
            "align_items": null,
            "align_self": null,
            "border": null,
            "bottom": null,
            "display": null,
            "flex": null,
            "flex_flow": null,
            "grid_area": null,
            "grid_auto_columns": null,
            "grid_auto_flow": null,
            "grid_auto_rows": null,
            "grid_column": null,
            "grid_gap": null,
            "grid_row": null,
            "grid_template_areas": null,
            "grid_template_columns": null,
            "grid_template_rows": null,
            "height": null,
            "justify_content": null,
            "justify_items": null,
            "left": null,
            "margin": null,
            "max_height": null,
            "max_width": null,
            "min_height": null,
            "min_width": null,
            "object_fit": null,
            "object_position": null,
            "order": null,
            "overflow": null,
            "overflow_x": null,
            "overflow_y": null,
            "padding": null,
            "right": null,
            "top": null,
            "visibility": null,
            "width": null
          }
        },
        "c7488ab5aec249078ec496dab7766a6f": {
          "model_module": "@jupyter-widgets/controls",
          "model_name": "DescriptionStyleModel",
          "model_module_version": "1.5.0",
          "state": {
            "_model_module": "@jupyter-widgets/controls",
            "_model_module_version": "1.5.0",
            "_model_name": "DescriptionStyleModel",
            "_view_count": null,
            "_view_module": "@jupyter-widgets/base",
            "_view_module_version": "1.2.0",
            "_view_name": "StyleView",
            "description_width": ""
          }
        },
        "4fd12728c80e4bc5a692feacc348212c": {
          "model_module": "@jupyter-widgets/base",
          "model_name": "LayoutModel",
          "model_module_version": "1.2.0",
          "state": {
            "_model_module": "@jupyter-widgets/base",
            "_model_module_version": "1.2.0",
            "_model_name": "LayoutModel",
            "_view_count": null,
            "_view_module": "@jupyter-widgets/base",
            "_view_module_version": "1.2.0",
            "_view_name": "LayoutView",
            "align_content": null,
            "align_items": null,
            "align_self": null,
            "border": null,
            "bottom": null,
            "display": null,
            "flex": null,
            "flex_flow": null,
            "grid_area": null,
            "grid_auto_columns": null,
            "grid_auto_flow": null,
            "grid_auto_rows": null,
            "grid_column": null,
            "grid_gap": null,
            "grid_row": null,
            "grid_template_areas": null,
            "grid_template_columns": null,
            "grid_template_rows": null,
            "height": null,
            "justify_content": null,
            "justify_items": null,
            "left": null,
            "margin": null,
            "max_height": null,
            "max_width": null,
            "min_height": null,
            "min_width": null,
            "object_fit": null,
            "object_position": null,
            "order": null,
            "overflow": null,
            "overflow_x": null,
            "overflow_y": null,
            "padding": null,
            "right": null,
            "top": null,
            "visibility": null,
            "width": null
          }
        },
        "51f6852da42b4ff4aeb1e507a91e5f1b": {
          "model_module": "@jupyter-widgets/controls",
          "model_name": "DescriptionStyleModel",
          "model_module_version": "1.5.0",
          "state": {
            "_model_module": "@jupyter-widgets/controls",
            "_model_module_version": "1.5.0",
            "_model_name": "DescriptionStyleModel",
            "_view_count": null,
            "_view_module": "@jupyter-widgets/base",
            "_view_module_version": "1.2.0",
            "_view_name": "StyleView",
            "description_width": ""
          }
        }
      }
    }
  },
  "nbformat": 4,
  "nbformat_minor": 5
}