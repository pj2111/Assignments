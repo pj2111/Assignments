{
 "cells": [
  {
   "cell_type": "markdown",
   "id": "c3c04343",
   "metadata": {},
   "source": [
    "# Quotes_and_Authors"
   ]
  },
  {
   "cell_type": "markdown",
   "id": "a7e7039f",
   "metadata": {},
   "source": [
    "    a) Write functions for doing the required processing\n",
    "    b) Write atleast 2 test cases for testing out the functions as you code \n",
    "    c) Write comments on each step in the functions"
   ]
  },
  {
   "cell_type": "code",
   "execution_count": 20,
   "id": "26dff1cc",
   "metadata": {},
   "outputs": [
    {
     "name": "stdout",
     "output_type": "stream",
     "text": [
      "Write a quote sfv\n",
      "Who wrote this fd\n",
      "fd says \"sfv\"\n"
     ]
    }
   ],
   "source": [
    "# 1)take input text from user save in quote\n",
    "quote = input(\"Write a quote \")\n",
    "\n",
    "# 2)take second text input form user and save in auth\n",
    "\n",
    "auth = input(\"Who wrote this \")\n",
    "# 3)print aut says quote\n",
    "\n",
    "# print(auth+\" says \"+quote)\n",
    "print(f\"{auth} says \\\"{quote}\\\"\")"
   ]
  },
  {
   "cell_type": "code",
   "execution_count": 28,
   "id": "cdda9d54",
   "metadata": {},
   "outputs": [],
   "source": [
    "# write a func that takes one argument and prints it\n",
    "\n",
    "def print_txt(text):\n",
    "#     text=input(\"write a text\")\n",
    "    print(text)"
   ]
  },
  {
   "cell_type": "code",
   "execution_count": 31,
   "id": "f35e04ca",
   "metadata": {},
   "outputs": [
    {
     "name": "stdout",
     "output_type": "stream",
     "text": [
      "Amir Khan\n"
     ]
    }
   ],
   "source": [
    "print_txt(\"Amir Khan\")"
   ]
  },
  {
   "cell_type": "code",
   "execution_count": 35,
   "id": "6893c659",
   "metadata": {},
   "outputs": [],
   "source": [
    "def print_inp():\n",
    "    text=input(\"write a text \")\n",
    "    print(text)"
   ]
  },
  {
   "cell_type": "code",
   "execution_count": 36,
   "id": "28190402",
   "metadata": {},
   "outputs": [
    {
     "name": "stdout",
     "output_type": "stream",
     "text": [
      "write a textjn\n",
      "jn\n"
     ]
    }
   ],
   "source": [
    "print_inp()"
   ]
  },
  {
   "cell_type": "code",
   "execution_count": 37,
   "id": "5998d0ff",
   "metadata": {},
   "outputs": [
    {
     "data": {
      "text/plain": [
       "method"
      ]
     },
     "execution_count": 37,
     "metadata": {},
     "output_type": "execute_result"
    }
   ],
   "source": [
    "type(input)"
   ]
  },
  {
   "cell_type": "code",
   "execution_count": 44,
   "id": "73074eab",
   "metadata": {},
   "outputs": [],
   "source": [
    "def print_2inp(q):\n",
    "    quote = input(\"Write a quote \")\n",
    "    auth = input(\"Who wrote it? \")\n",
    "    print(f\"{auth} says {quote}\")"
   ]
  },
  {
   "cell_type": "code",
   "execution_count": 47,
   "id": "c3cd733c",
   "metadata": {},
   "outputs": [
    {
     "name": "stdout",
     "output_type": "stream",
     "text": [
      "Write a quote ekmfr\n",
      "Who wrote it? kle\n",
      "kle says ekmfr\n",
      "Write a quote kl\n",
      "Who wrote it? l\n",
      "l says kl\n",
      "Write a quote  l\n",
      "Who wrote it?  m\n",
      " m says  l\n",
      "Write a quote  kl\n",
      "Who wrote it? mk;\n",
      "mk; says  kl\n",
      "Write a quote  l\n",
      "Who wrote it? mlk\n",
      "mlk says  l\n"
     ]
    }
   ],
   "source": [
    "# create a loop to on func\n",
    "\n",
    "for i in range(5):\n",
    "    print_2inp(i)"
   ]
  },
  {
   "cell_type": "markdown",
   "id": "f8f4f992",
   "metadata": {},
   "source": []
  },
  {
   "cell_type": "code",
   "execution_count": 49,
   "id": "1342286f",
   "metadata": {},
   "outputs": [
    {
     "name": "stdout",
     "output_type": "stream",
     "text": [
      "Write a quote vekm\n",
      "Who wrote it? evk\n",
      "evk says vekm\n"
     ]
    }
   ],
   "source": [
    "quote = input(\"Write a quote \")\n",
    "auth = input(\"Who wrote it? \")\n",
    "\n",
    "def func1(quotation,author):\n",
    "    print(f\"{author} says {quotation}\")\n",
    "    \n",
    "func1(quote,auth)    "
   ]
  },
  {
   "cell_type": "code",
   "execution_count": 52,
   "id": "cee9fe59",
   "metadata": {},
   "outputs": [
    {
     "name": "stdout",
     "output_type": "stream",
     "text": [
      "Write a quote ngtek\n",
      "Who wrote it gejn\n",
      "gejn says ngtek\n",
      "Write a quote exit\n"
     ]
    }
   ],
   "source": [
    "while True:\n",
    "    quote = input(\"Write a quote \")\n",
    "    if quote ==\"exit\":\n",
    "        break\n",
    "    auth = input(\"Who wrote it \")\n",
    "    func1(quote,auth)\n"
   ]
  },
  {
   "cell_type": "code",
   "execution_count": null,
   "id": "0e5f832b",
   "metadata": {},
   "outputs": [],
   "source": []
  }
 ],
 "metadata": {
  "kernelspec": {
   "display_name": "Python 3 (ipykernel)",
   "language": "python",
   "name": "python3"
  },
  "language_info": {
   "codemirror_mode": {
    "name": "ipython",
    "version": 3
   },
   "file_extension": ".py",
   "mimetype": "text/x-python",
   "name": "python",
   "nbconvert_exporter": "python",
   "pygments_lexer": "ipython3",
   "version": "3.11.5"
  }
 },
 "nbformat": 4,
 "nbformat_minor": 5
}
