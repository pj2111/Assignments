{
 "cells": [
  {
   "cell_type": "markdown",
   "metadata": {},
   "source": [
    "##### Warm up geared towards work with strings and its various methods. \n",
    "\n",
    "Each cell one activity will be written as comment. Fill up the corresponding code in that cell"
   ]
  },
  {
   "cell_type": "code",
   "execution_count": 65,
   "metadata": {},
   "outputs": [],
   "source": [
    "# Come up with 5 to 6 variable names that in some ways signifies the strings, string operations\n"
   ]
  },
  {
   "cell_type": "code",
   "execution_count": 63,
   "metadata": {},
   "outputs": [],
   "source": [
    "# Create a single line string with 10 words, assign it to variable str1. Preferably type out the string, can be anything\n",
    "\n"
   ]
  },
  {
   "cell_type": "code",
   "execution_count": 14,
   "metadata": {},
   "outputs": [],
   "source": [
    "# Create a Multi-line string with 30 words and assign it to a variable str2. (Content can be copy pasted)\n",
    "\n",
    "str2='''Gen AI will bring a generational shift to smartphones. \n",
    "We are starting to witness the next transition in phones.\n",
    "'''"
   ]
  },
  {
   "cell_type": "code",
   "execution_count": 9,
   "metadata": {},
   "outputs": [],
   "source": [
    "# Open a file named 'string_store.txt' and write out the above variable data into the file. Ensure there is space between each datapoint\n",
    "\n",
    "with open"
   ]
  },
  {
   "cell_type": "code",
   "execution_count": 20,
   "metadata": {},
   "outputs": [
    {
     "name": "stdout",
     "output_type": "stream",
     "text": [
      "Gen AI is the next big thing world will ever witness\n",
      "Gen AI is the next big thing world will ever witness\n",
      "Gen AI is the next big thing world will ever witness\n",
      "Gen AI is the next big thing world will ever witness\n",
      "Gen AI is the next big thing world will ever witness\n"
     ]
    }
   ],
   "source": [
    "# Print the str1 5 times with for-loop, each time the sentence has to be in the new-line. Example show below\n",
    "\"\"\"\n",
    "This is a test\n",
    "This is a test\n",
    "This is a test\n",
    "This is a test\n",
    "This is a test\n",
    "\"\"\"\n",
    "for i in range(5):\n",
    "    print(str1)"
   ]
  },
  {
   "cell_type": "code",
   "execution_count": 22,
   "metadata": {},
   "outputs": [
    {
     "name": "stdout",
     "output_type": "stream",
     "text": [
      "Gen AI will bring a generational shift to smartphones. \n",
      "We are starting to witness the next transition in phones.\n",
      "\n"
     ]
    }
   ],
   "source": [
    "# Print the str2 5 times *without* using for-loop. Each time string should be in new-line\n",
    "x = 6\n",
    "while x == 6:\n",
    "    print(str2)\n",
    "    x += 1"
   ]
  },
  {
   "cell_type": "code",
   "execution_count": 41,
   "metadata": {},
   "outputs": [],
   "source": [
    "#Print 1-5 using recursive func\n",
    "def print_recursive_num(num):\n",
    "    if num <= 5:\n",
    "        print(num)\n",
    "# try without else\n",
    "        else:\n",
    "        return#(\"End of loop\")\n",
    "    num += 1\n",
    "#     print(num)\n",
    "    return print_recursive_num(num)"
   ]
  },
  {
   "cell_type": "code",
   "execution_count": 42,
   "metadata": {},
   "outputs": [
    {
     "name": "stdout",
     "output_type": "stream",
     "text": [
      "1\n",
      "2\n",
      "2\n",
      "3\n",
      "3\n",
      "4\n",
      "4\n",
      "5\n",
      "5\n",
      "6\n"
     ]
    }
   ],
   "source": [
    "print_recursive_num(1)"
   ]
  },
  {
   "cell_type": "code",
   "execution_count": 56,
   "metadata": {},
   "outputs": [],
   "source": [
    "def print_rec(num):\n",
    "    print(num)\n",
    "    if num ==0:\n",
    "        return\n",
    "    return print_rec(num-1)"
   ]
  },
  {
   "cell_type": "code",
   "execution_count": 57,
   "metadata": {},
   "outputs": [
    {
     "name": "stdout",
     "output_type": "stream",
     "text": [
      "5\n",
      "4\n",
      "3\n",
      "2\n",
      "1\n",
      "0\n"
     ]
    }
   ],
   "source": [
    "print_rec(5)"
   ]
  },
  {
   "cell_type": "code",
   "execution_count": 53,
   "metadata": {},
   "outputs": [],
   "source": [
    "def gd():\n",
    "    return"
   ]
  },
  {
   "cell_type": "code",
   "execution_count": 55,
   "metadata": {},
   "outputs": [
    {
     "name": "stdout",
     "output_type": "stream",
     "text": [
      "None\n"
     ]
    }
   ],
   "source": [
    "print(gd())"
   ]
  },
  {
   "cell_type": "code",
   "execution_count": 61,
   "metadata": {},
   "outputs": [
    {
     "ename": "SyntaxError",
     "evalue": "cannot assign to expression here. Maybe you meant '==' instead of '='? (986331687.py, line 3)",
     "output_type": "error",
     "traceback": [
      "\u001b[0;36m  Cell \u001b[0;32mIn[61], line 3\u001b[0;36m\u001b[0m\n\u001b[0;31m    var+ idx =val\u001b[0m\n\u001b[0m    ^\u001b[0m\n\u001b[0;31mSyntaxError\u001b[0m\u001b[0;31m:\u001b[0m cannot assign to expression here. Maybe you meant '==' instead of '='?\n"
     ]
    }
   ],
   "source": [
    "# Split the str1 and str2 into words and assign them to individual variables \n",
    "\n",
    "# create a variable from string \n",
    "# create multiple var in python\n",
    "\n",
    "for idx, val in enumerate(str1.split()):\n",
    "    var + idx =val\n",
    "    print(val)"
   ]
  },
  {
   "cell_type": "code",
   "execution_count": null,
   "metadata": {},
   "outputs": [],
   "source": [
    "# Make every next word in the above list into upper-case, starting with the first word and assign it to new variable\n",
    "# Try with list + for loop, list comprehension, only for-loop and modify data in-place"
   ]
  },
  {
   "cell_type": "code",
   "execution_count": null,
   "metadata": {},
   "outputs": [],
   "source": [
    "# Check if the words in above variables are alphabets, numeric and store the boolean results in individual lists  "
   ]
  },
  {
   "cell_type": "code",
   "execution_count": null,
   "metadata": {},
   "outputs": [],
   "source": [
    "# Join the contents of the new variable created in the above cell into a single string with single space & assign it to new variable"
   ]
  },
  {
   "cell_type": "code",
   "execution_count": null,
   "metadata": {},
   "outputs": [],
   "source": [
    "# Join the contents of the new variable created in the above cell into a single string with two spaces between each words & assign it to new variable"
   ]
  },
  {
   "cell_type": "code",
   "execution_count": null,
   "metadata": {},
   "outputs": [],
   "source": [
    "# Extract all the locations of letter \"f\" in str1 and str2\n",
    "# use for-loop, list-comprehension "
   ]
  },
  {
   "cell_type": "code",
   "execution_count": null,
   "metadata": {},
   "outputs": [],
   "source": [
    "# Replace all the occurences of letter 'e' and 'i' with 'j' and 'p' respectively, and assign the result to new variable"
   ]
  },
  {
   "cell_type": "code",
   "execution_count": null,
   "metadata": {},
   "outputs": [],
   "source": []
  }
 ],
 "metadata": {
  "kernelspec": {
   "display_name": "Python 3 (ipykernel)",
   "language": "python",
   "name": "python3"
  },
  "language_info": {
   "codemirror_mode": {
    "name": "ipython",
    "version": 3
   },
   "file_extension": ".py",
   "mimetype": "text/x-python",
   "name": "python",
   "nbconvert_exporter": "python",
   "pygments_lexer": "ipython3",
   "version": "3.11.5"
  }
 },
 "nbformat": 4,
 "nbformat_minor": 2
}
