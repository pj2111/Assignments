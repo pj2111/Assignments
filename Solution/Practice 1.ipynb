{
 "cells": [
  {
   "cell_type": "markdown",
   "id": "fe3d7292",
   "metadata": {},
   "source": [
    "USER Input\n",
    "\n",
    "String Manipulation\n",
    "\n",
    "File_Ops"
   ]
  },
  {
   "cell_type": "code",
   "execution_count": 1,
   "id": "69e52f14",
   "metadata": {},
   "outputs": [],
   "source": [
    "# USERInput - warmup that can be executed only as script, so read all the instruction first\n",
    "# provide appropriate instruction to the user on the format of the input\n",
    "# ensure the entire script runs, including all logic\n",
    "\n",
    "# 1 ask user to provide 5 words that can be used as variable name,\n",
    "\n",
    "# 2 print the vaiable names provided by the user in earlier step\n",
    "\n",
    "# 3 Check if all the provided variable names are valid python variable names\n",
    "# Extract those names, that are invalid into invalid_names list, print it\n",
    "\n",
    "# regex_special_char = \n",
    "# first_letter_int\n",
    "\n",
    "# 4 Extract the variable names that are more than 4 chars into sep1, print it\n",
    "\n",
    "# 5 ask for the user one variable name, \n",
    "\n",
    "# 6 Make the script to continue asking for one more variable name, endlessly\n",
    "\n",
    "# 7 After breaking from endless loop, now re-write the endless var name request\n",
    "# with a break condition\n",
    "\n",
    "# Inform user that, this script can accept command line arguments\n",
    "\n",
    "# Implement simple logic to check if there is a command line argument\n",
    "\n",
    "# parse the command line arguments provided by the user in to cli variable\n",
    "\n",
    "# Implement Logic to check how many c-line args are provided, and ask user to provide minimum 5\n",
    "\n",
    "# Do the 2 / 3 and 4 instruction above"
   ]
  },
  {
   "cell_type": "code",
   "execution_count": 2,
   "id": "71bd5d2e",
   "metadata": {},
   "outputs": [
    {
     "name": "stdout",
     "output_type": "stream",
     "text": [
      "Enter 1st Variable Name? vjh\n",
      "Enter 2nd Variable Name? jgvkj\n",
      "Enter 3rd Variable Name? hcgh\n",
      "Enter 4th Variable Name? chgj\n",
      "Enter 5th Variable Name? gvj\n"
     ]
    }
   ],
   "source": [
    "word_1 = input(\"Enter 1st Variable Name? \")\n",
    "word_2 = input(\"Enter 2nd Variable Name? \")\n",
    "word_3 = input(\"Enter 3rd Variable Name? \")\n",
    "word_4 = input(\"Enter 4th Variable Name? \")\n",
    "word_5 = input(\"Enter 5th Variable Name? \")\n"
   ]
  },
  {
   "cell_type": "code",
   "execution_count": 24,
   "id": "558790f4",
   "metadata": {},
   "outputs": [
    {
     "name": "stdout",
     "output_type": "stream",
     "text": [
      "variable name for\n",
      "variable name else\n",
      "variable name 1efcs\n",
      "variable name ifdc\n",
      "variable name 90krsdc\n"
     ]
    }
   ],
   "source": [
    "l1=[]\n",
    "for i in range(0,5):\n",
    "#     print(l1[i])\n",
    "    l1.append(input(\"variable name \"))"
   ]
  },
  {
   "cell_type": "code",
   "execution_count": 25,
   "id": "f9bbf586",
   "metadata": {},
   "outputs": [
    {
     "name": "stdout",
     "output_type": "stream",
     "text": [
      "['for', 'else', '1efcs', 'ifdc', '90krsdc']\n"
     ]
    }
   ],
   "source": [
    "# print(word_1, word_2, word_3, word_4, word_5)\n",
    "print(l1)\n"
   ]
  },
  {
   "cell_type": "code",
   "execution_count": 13,
   "id": "78995168",
   "metadata": {},
   "outputs": [
    {
     "data": {
      "text/plain": [
       "{}"
      ]
     },
     "execution_count": 13,
     "metadata": {},
     "output_type": "execute_result"
    }
   ],
   "source": [
    "l2=[]\n",
    "d1=dict(zip(l1,l2))\n",
    "d1"
   ]
  },
  {
   "cell_type": "code",
   "execution_count": 15,
   "id": "bb96583c",
   "metadata": {},
   "outputs": [
    {
     "data": {
      "text/plain": [
       "{}"
      ]
     },
     "execution_count": 15,
     "metadata": {},
     "output_type": "execute_result"
    }
   ],
   "source": [
    "d1"
   ]
  },
  {
   "cell_type": "code",
   "execution_count": 44,
   "id": "096bd328",
   "metadata": {},
   "outputs": [],
   "source": [
    "# 3 Check if all the provided variable names are valid python variable names\n",
    "# Extract those names, that are invalid into invalid_names list, print it\n",
    "\n",
    "def valid_var(text):\n",
    "    pyth_key = [\"for\", \"if\", \"else\"]\n",
    "    if text[0] in [str(x) for x in range(0,10)]:          #try using range(0,10)         #try using regex\n",
    "        return False\n",
    "    elif text in pyth_key:\n",
    "        return False\n",
    "#     elif special char                                   #try using regex\n",
    "    else :\n",
    "        return True\n",
    "\n",
    "invalid_list=[]\n",
    "    \n",
    "for i in l1:\n",
    "    if valid_var(i)==False:\n",
    "        invalid_list.append(i)"
   ]
  },
  {
   "cell_type": "code",
   "execution_count": 5,
   "id": "552f527f",
   "metadata": {},
   "outputs": [
    {
     "data": {
      "text/plain": [
       "['0', '1', '2', '3', '4', '5', '6', '7', '8', '9']"
      ]
     },
     "execution_count": 5,
     "metadata": {},
     "output_type": "execute_result"
    }
   ],
   "source": [
    "[str(x) for x in range(0,10)]"
   ]
  },
  {
   "cell_type": "code",
   "execution_count": 4,
   "id": "cc9f52bd",
   "metadata": {},
   "outputs": [
    {
     "ename": "NameError",
     "evalue": "name 'l1' is not defined",
     "output_type": "error",
     "traceback": [
      "\u001b[0;31m---------------------------------------------------------------------------\u001b[0m",
      "\u001b[0;31mNameError\u001b[0m                                 Traceback (most recent call last)",
      "Cell \u001b[0;32mIn[4], line 1\u001b[0m\n\u001b[0;32m----> 1\u001b[0m \u001b[39mfor\u001b[39;00m i \u001b[39min\u001b[39;00m l1:\n\u001b[1;32m      2\u001b[0m     \u001b[39mprint\u001b[39m(i)\n",
      "\u001b[0;31mNameError\u001b[0m: name 'l1' is not defined"
     ]
    }
   ],
   "source": [
    "for i in l1:\n",
    "    print(i)"
   ]
  },
  {
   "cell_type": "code",
   "execution_count": 46,
   "id": "763ef887",
   "metadata": {},
   "outputs": [
    {
     "data": {
      "text/plain": [
       "['for', 'else', '1efcs']"
      ]
     },
     "execution_count": 46,
     "metadata": {},
     "output_type": "execute_result"
    }
   ],
   "source": [
    "invalid_list"
   ]
  },
  {
   "cell_type": "code",
   "execution_count": 47,
   "id": "b05b4def",
   "metadata": {},
   "outputs": [
    {
     "data": {
      "text/plain": [
       "['1efcs', '90krsdc']"
      ]
     },
     "execution_count": 47,
     "metadata": {},
     "output_type": "execute_result"
    }
   ],
   "source": [
    "sep1=[x for x in l1 if len(x)>4]\n",
    "sep1"
   ]
  },
  {
   "cell_type": "code",
   "execution_count": 48,
   "id": "84c56b5b",
   "metadata": {},
   "outputs": [
    {
     "name": "stdout",
     "output_type": "stream",
     "text": [
      "Enter variable namevgbh\n",
      "Enter variable namehgvbjn\n",
      "Enter variable namegbhkjnk\n",
      "Enter variable namegjbhj\n",
      "Enter variable namejbhkjn\n",
      "Enter variable namejbhjnk\n",
      "Enter variable namekbhnjk\n",
      "Enter variable namehbknm\n",
      "Enter variable namebh\n"
     ]
    },
    {
     "ename": "KeyboardInterrupt",
     "evalue": "Interrupted by user",
     "output_type": "error",
     "traceback": [
      "\u001b[0;31m---------------------------------------------------------------------------\u001b[0m",
      "\u001b[0;31mKeyboardInterrupt\u001b[0m                         Traceback (most recent call last)",
      "Cell \u001b[0;32mIn[48], line 7\u001b[0m\n\u001b[1;32m      5\u001b[0m lst1\u001b[38;5;241m=\u001b[39m[]\n\u001b[1;32m      6\u001b[0m \u001b[38;5;28;01mwhile\u001b[39;00m \u001b[38;5;28;01mTrue\u001b[39;00m:\n\u001b[0;32m----> 7\u001b[0m     lst1\u001b[38;5;241m.\u001b[39mappend(\u001b[38;5;28minput\u001b[39m(\u001b[38;5;124m\"\u001b[39m\u001b[38;5;124mEnter variable name\u001b[39m\u001b[38;5;124m\"\u001b[39m))\n",
      "File \u001b[0;32m~/anaconda3/lib/python3.11/site-packages/ipykernel/kernelbase.py:1202\u001b[0m, in \u001b[0;36mKernel.raw_input\u001b[0;34m(self, prompt)\u001b[0m\n\u001b[1;32m   1200\u001b[0m     msg \u001b[38;5;241m=\u001b[39m \u001b[38;5;124m\"\u001b[39m\u001b[38;5;124mraw_input was called, but this frontend does not support input requests.\u001b[39m\u001b[38;5;124m\"\u001b[39m\n\u001b[1;32m   1201\u001b[0m     \u001b[38;5;28;01mraise\u001b[39;00m StdinNotImplementedError(msg)\n\u001b[0;32m-> 1202\u001b[0m \u001b[38;5;28;01mreturn\u001b[39;00m \u001b[38;5;28mself\u001b[39m\u001b[38;5;241m.\u001b[39m_input_request(\n\u001b[1;32m   1203\u001b[0m     \u001b[38;5;28mstr\u001b[39m(prompt),\n\u001b[1;32m   1204\u001b[0m     \u001b[38;5;28mself\u001b[39m\u001b[38;5;241m.\u001b[39m_parent_ident[\u001b[38;5;124m\"\u001b[39m\u001b[38;5;124mshell\u001b[39m\u001b[38;5;124m\"\u001b[39m],\n\u001b[1;32m   1205\u001b[0m     \u001b[38;5;28mself\u001b[39m\u001b[38;5;241m.\u001b[39mget_parent(\u001b[38;5;124m\"\u001b[39m\u001b[38;5;124mshell\u001b[39m\u001b[38;5;124m\"\u001b[39m),\n\u001b[1;32m   1206\u001b[0m     password\u001b[38;5;241m=\u001b[39m\u001b[38;5;28;01mFalse\u001b[39;00m,\n\u001b[1;32m   1207\u001b[0m )\n",
      "File \u001b[0;32m~/anaconda3/lib/python3.11/site-packages/ipykernel/kernelbase.py:1245\u001b[0m, in \u001b[0;36mKernel._input_request\u001b[0;34m(self, prompt, ident, parent, password)\u001b[0m\n\u001b[1;32m   1242\u001b[0m \u001b[38;5;28;01mexcept\u001b[39;00m \u001b[38;5;167;01mKeyboardInterrupt\u001b[39;00m:\n\u001b[1;32m   1243\u001b[0m     \u001b[38;5;66;03m# re-raise KeyboardInterrupt, to truncate traceback\u001b[39;00m\n\u001b[1;32m   1244\u001b[0m     msg \u001b[38;5;241m=\u001b[39m \u001b[38;5;124m\"\u001b[39m\u001b[38;5;124mInterrupted by user\u001b[39m\u001b[38;5;124m\"\u001b[39m\n\u001b[0;32m-> 1245\u001b[0m     \u001b[38;5;28;01mraise\u001b[39;00m \u001b[38;5;167;01mKeyboardInterrupt\u001b[39;00m(msg) \u001b[38;5;28;01mfrom\u001b[39;00m \u001b[38;5;28;01mNone\u001b[39;00m\n\u001b[1;32m   1246\u001b[0m \u001b[38;5;28;01mexcept\u001b[39;00m \u001b[38;5;167;01mException\u001b[39;00m:\n\u001b[1;32m   1247\u001b[0m     \u001b[38;5;28mself\u001b[39m\u001b[38;5;241m.\u001b[39mlog\u001b[38;5;241m.\u001b[39mwarning(\u001b[38;5;124m\"\u001b[39m\u001b[38;5;124mInvalid Message:\u001b[39m\u001b[38;5;124m\"\u001b[39m, exc_info\u001b[38;5;241m=\u001b[39m\u001b[38;5;28;01mTrue\u001b[39;00m)\n",
      "\u001b[0;31mKeyboardInterrupt\u001b[0m: Interrupted by user"
     ]
    }
   ],
   "source": [
    "# 5 ask for the user one variable name, \n",
    "vari=input(\"Enter variable name \")\n",
    "\n",
    "# 6 Make the script to continue asking for one more variable name, endlessly\n",
    "lst1 = []\n",
    "while True:\n",
    "    lst1.append(input(\"Enter variable name \"))\n"
   ]
  },
  {
   "cell_type": "code",
   "execution_count": 50,
   "id": "a38e296e",
   "metadata": {},
   "outputs": [
    {
     "name": "stdout",
     "output_type": "stream",
     "text": [
      "Enter variable name? Enter 'S' to stop nkjl\n",
      "Enter variable name? Enter 'S' to stop njlkm;\n",
      "Enter variable name? Enter 'S' to stop S\n"
     ]
    }
   ],
   "source": [
    "# 7 After breaking from endless loop, now re-write the endless var name request\n",
    "# with a break condition\n",
    "lst2 = []\n",
    "while True:\n",
    "    var = input(\"Enter variable name? Enter 'S' to stop \")\n",
    "    if var == \"S\":\n",
    "        break\n",
    "    lst2.append(var)"
   ]
  },
  {
   "cell_type": "code",
   "execution_count": null,
   "id": "7985ae9f",
   "metadata": {},
   "outputs": [],
   "source": [
    "#implement command line"
   ]
  },
  {
   "cell_type": "code",
   "execution_count": null,
   "id": "775ab02b",
   "metadata": {},
   "outputs": [],
   "source": []
  },
  {
   "cell_type": "code",
   "execution_count": 52,
   "id": "8c03fb26",
   "metadata": {},
   "outputs": [],
   "source": [
    "# File_Ops\n",
    "\n",
    "# WAF to take file name, \n",
    "# create list of list with comma and \n",
    "# next line as sep and return shape of list"
   ]
  },
  {
   "cell_type": "code",
   "execution_count": 56,
   "id": "a3d42209",
   "metadata": {},
   "outputs": [],
   "source": [
    "file = 'winequality.csv'\n",
    "with open(file, mode='r') as f:\n",
    "    f1 = f.read()\n",
    "    "
   ]
  },
  {
   "cell_type": "code",
   "execution_count": 75,
   "id": "cb3bbd89",
   "metadata": {},
   "outputs": [
    {
     "name": "stdout",
     "output_type": "stream",
     "text": [
      "1601 , 1\n"
     ]
    }
   ],
   "source": [
    "l1 = f1.split('\\n')\n",
    "l2=[]\n",
    "for i in l1:\n",
    "    l2.append(i.split())\n",
    "\n",
    "print(len(l2), \",\",  len(l2[1]))"
   ]
  },
  {
   "cell_type": "code",
   "execution_count": null,
   "id": "04a60ae9",
   "metadata": {},
   "outputs": [],
   "source": []
  }
 ],
 "metadata": {
  "kernelspec": {
   "display_name": "Python 3 (ipykernel)",
   "language": "python",
   "name": "python3"
  },
  "language_info": {
   "codemirror_mode": {
    "name": "ipython",
    "version": 3
   },
   "file_extension": ".py",
   "mimetype": "text/x-python",
   "name": "python",
   "nbconvert_exporter": "python",
   "pygments_lexer": "ipython3",
   "version": "3.9.2"
  }
 },
 "nbformat": 4,
 "nbformat_minor": 5
}
