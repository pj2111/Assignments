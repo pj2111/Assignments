{
 "cells": [
  {
   "cell_type": "code",
   "execution_count": 2,
   "metadata": {},
   "outputs": [],
   "source": [
    "import glob\n",
    "import os"
   ]
  },
  {
   "cell_type": "code",
   "execution_count": 6,
   "metadata": {},
   "outputs": [],
   "source": [
    "file_in_dir = glob.glob(\"*.py\")"
   ]
  },
  {
   "cell_type": "code",
   "execution_count": 13,
   "metadata": {},
   "outputs": [],
   "source": [
    "script_names = [script.split(\".\")[0] for script in file_in_dir]"
   ]
  },
  {
   "cell_type": "code",
   "execution_count": 10,
   "metadata": {},
   "outputs": [],
   "source": [
    "pdf_in_dir = glob.glob(\"*.pdf\", root_dir=\"challenge_statements\")"
   ]
  },
  {
   "cell_type": "code",
   "execution_count": 14,
   "metadata": {},
   "outputs": [],
   "source": [
    "pdf_names = [file_name.split(\".\")[0] for file_name in pdf_in_dir]\n",
    "# pdf_names"
   ]
  },
  {
   "cell_type": "code",
   "execution_count": 15,
   "metadata": {},
   "outputs": [],
   "source": [
    "# check for the file name in pdf_in_dir, and match with file name \n",
    "# in file_in_dir list, and make a new list\n",
    "python_file_with_stmt = []\n",
    "for script in script_names:\n",
    "    if script in pdf_names:\n",
    "        python_file_with_stmt.append(script)"
   ]
  },
  {
   "cell_type": "code",
   "execution_count": 17,
   "metadata": {},
   "outputs": [
    {
     "data": {
      "text/plain": [
       "['ccc00s2',\n",
       " 'ccc02j2',\n",
       " 'ccc13s1',\n",
       " 'ccc18j3',\n",
       " 'ccc18s1',\n",
       " 'ccc19j3',\n",
       " 'ccc20j2',\n",
       " 'coci08c3p2',\n",
       " 'coci17c1p1',\n",
       " 'coci18c2p1',\n",
       " 'coci19c5p1',\n",
       " 'coci20c2p1',\n",
       " 'crci07p1',\n",
       " 'dmopc14c7p2',\n",
       " 'dmopc19c5p2',\n",
       " 'ecoo12r1p2',\n",
       " 'ecoo13r1p1',\n",
       " 'ecoo15r1p1',\n",
       " 'ecoo17r1p1',\n",
       " 'ecoo18r1p1',\n",
       " 'ecoo18r1p2',\n",
       " 'ecoo19r1p1',\n",
       " 'wac3p3']"
      ]
     },
     "execution_count": 17,
     "metadata": {},
     "output_type": "execute_result"
    }
   ],
   "source": [
    "python_file_with_stmt"
   ]
  },
  {
   "cell_type": "code",
   "execution_count": 18,
   "metadata": {},
   "outputs": [
    {
     "name": "stderr",
     "output_type": "stream",
     "text": [
      "<string>:4: SyntaxWarning: invalid escape sequence '\\{'\n",
      "<string>:5: SyntaxWarning: invalid escape sequence '\\{'\n",
      "<>:4: SyntaxWarning: invalid escape sequence '\\{'\n",
      "<>:4: SyntaxWarning: invalid escape sequence '\\g'\n",
      "<>:5: SyntaxWarning: invalid escape sequence '\\{'\n",
      "<>:5: SyntaxWarning: invalid escape sequence '\\g'\n",
      "<string>:4: SyntaxWarning: invalid escape sequence '\\{'\n",
      "<string>:5: SyntaxWarning: invalid escape sequence '\\{'\n",
      "<>:4: SyntaxWarning: invalid escape sequence '\\{'\n",
      "<>:4: SyntaxWarning: invalid escape sequence '\\g'\n",
      "<>:5: SyntaxWarning: invalid escape sequence '\\{'\n",
      "<>:5: SyntaxWarning: invalid escape sequence '\\g'\n",
      "C:\\Users\\kamal\\AppData\\Local\\Temp\\ipykernel_11508\\2694644197.py:4: SyntaxWarning: invalid escape sequence '\\{'\n",
      "  script_path = f\"D:\\gitFolders\\Assignments\\problem_solutions\\{script}.py\"\n",
      "C:\\Users\\kamal\\AppData\\Local\\Temp\\ipykernel_11508\\2694644197.py:4: SyntaxWarning: invalid escape sequence '\\g'\n",
      "  script_path = f\"D:\\gitFolders\\Assignments\\problem_solutions\\{script}.py\"\n",
      "C:\\Users\\kamal\\AppData\\Local\\Temp\\ipykernel_11508\\2694644197.py:5: SyntaxWarning: invalid escape sequence '\\{'\n",
      "  destination_path = f\"D:\\gitFolders\\Assignments\\problem_solutions\\challenge_statements\\{script}.py\"\n",
      "C:\\Users\\kamal\\AppData\\Local\\Temp\\ipykernel_11508\\2694644197.py:5: SyntaxWarning: invalid escape sequence '\\g'\n",
      "  destination_path = f\"D:\\gitFolders\\Assignments\\problem_solutions\\challenge_statements\\{script}.py\"\n"
     ]
    }
   ],
   "source": [
    "# move the scripts that are matching into challenge_solution folder\n",
    "import shutil\n",
    "for script in python_file_with_stmt:\n",
    "    script_path = f\"D:\\gitFolders\\Assignments\\problem_solutions\\{script}.py\"\n",
    "    destination_path = f\"D:\\gitFolders\\Assignments\\problem_solutions\\challenge_statements\\{script}.py\"\n",
    "    shutil.move(script_path, destination_path)"
   ]
  }
 ],
 "metadata": {
  "kernelspec": {
   "display_name": "agents_env",
   "language": "python",
   "name": "python3"
  },
  "language_info": {
   "codemirror_mode": {
    "name": "ipython",
    "version": 3
   },
   "file_extension": ".py",
   "mimetype": "text/x-python",
   "name": "python",
   "nbconvert_exporter": "python",
   "pygments_lexer": "ipython3",
   "version": "3.12.0"
  }
 },
 "nbformat": 4,
 "nbformat_minor": 2
}
