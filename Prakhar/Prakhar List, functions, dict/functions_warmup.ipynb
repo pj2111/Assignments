{
 "cells": [
  {
   "attachments": {},
   "cell_type": "markdown",
   "metadata": {},
   "source": [
    "Following activities to be completed for the warmup\n",
    "\n",
    "Target time : 30 min"
   ]
  },
  {
   "attachments": {},
   "cell_type": "markdown",
   "metadata": {},
   "source": [
    "1) Define a only_print that prints a fixed string \"Hello There\"\n",
    "\n",
    "2) Define a math_solver that takes 3 arguments, and use them in the equation 5x^3 - 7y^2 + 8z -25 and return the value\n",
    "\n",
    "3) List out the methods of int type variable and define int_methods that uses the int type methods inside the function. (Each warmup, the methods explored has to be different)\n",
    "\n",
    "4) List out the methods of str type variable and define str_methods that uses the str type methods inside the function.  (Each warmup, the methods explored has to be different)\n",
    "\n",
    "5) Define repeat_me, that takes in a string and integer and prints out the string if the integer is above 50, else print 'not enough power' once and return\n",
    "\n",
    "6) Define word_play that takes three words as arguments \n",
    "and return only those words that have length greater than 5 chars. Call the word_play function with tuple ('age', 'ultranus', 'mischief') and unpack it\n",
    "\n",
    "7) Define many_args with *tupleargs as argument which prints the content of argument, only if there are 10 or more args\n",
    "\n",
    "8) Re-define the word_play function and include *args in arguments, then call it with more args, and try to print the additional args sent \n",
    "\n",
    "9) Create a list called dept and fill it with 5 departments. Print this list using *list syntax.\n",
    "\n",
    "10) Create a dictionary called org and fill it with 5 departments, and each dept employee strength.  \n",
    "\n"
   ]
  },
  {
   "cell_type": "code",
   "execution_count": 78,
   "metadata": {},
   "outputs": [
    {
     "data": {
      "text/plain": [
       "{'HR': 'Commmunication',\n",
       " 'IT': 'Tech',\n",
       " 'Admin': 'Resourceful',\n",
       " 'Sales': 'Network',\n",
       " 'AI': 'Coding'}"
      ]
     },
     "execution_count": 78,
     "metadata": {},
     "output_type": "execute_result"
    }
   ],
   "source": [
    "# thisdict = dict(name = \"John\", age = 36, country = \"Norway\")\n",
    "\n",
    "# thisdict = {\n",
    "#   \"brand\": \"Ford\",\n",
    "#   \"electric\": False,\n",
    "#   \"year\": 1964,\n",
    "#   \"colors\": [\"red\", \"white\", \"blue\"]\n",
    "# }\n",
    "\n",
    "# Dict = {1: 'Geeks', 2: 'For', 3: 'Geeks'}\n",
    "\n",
    "org = dict(zip(l1,['Commmunication', 'Tech', 'Resourceful', 'Network', 'Coding']))\n",
    "org"
   ]
  },
  {
   "cell_type": "code",
   "execution_count": 76,
   "metadata": {},
   "outputs": [
    {
     "data": {
      "text/plain": [
       "{'name': 'John', 'age': 36, 'country': 'Norway'}"
      ]
     },
     "execution_count": 76,
     "metadata": {},
     "output_type": "execute_result"
    }
   ],
   "source": [
    "thisdict = dict(name = \"John\", age = 36, country = \"Norway\")\n",
    "thisdict"
   ]
  },
  {
   "cell_type": "code",
   "execution_count": 72,
   "metadata": {},
   "outputs": [
    {
     "name": "stdout",
     "output_type": "stream",
     "text": [
      "HR IT Admin Sales AI\n"
     ]
    }
   ],
   "source": [
    "l1 = ['HR','IT','Admin','Sales','AI']\n",
    "print(*l1)"
   ]
  },
  {
   "cell_type": "code",
   "execution_count": 69,
   "metadata": {},
   "outputs": [],
   "source": [
    "def word_play(a,b,c,*args):\n",
    "    return (args)"
   ]
  },
  {
   "cell_type": "code",
   "execution_count": 70,
   "metadata": {},
   "outputs": [
    {
     "data": {
      "text/plain": [
       "('gvjb', 'chgvh')"
      ]
     },
     "execution_count": 70,
     "metadata": {},
     "output_type": "execute_result"
    }
   ],
   "source": [
    "word_play('knjsdv', 'jnfv', 'nljkfv', 'gvjb','chgvh')"
   ]
  },
  {
   "cell_type": "code",
   "execution_count": 64,
   "metadata": {},
   "outputs": [],
   "source": [
    "def many_args(*tupleargs):\n",
    "    if len(tupleargs)>2:\n",
    "        print(tupleargs)\n",
    "    else:\n",
    "        print(\"not enough args\")"
   ]
  },
  {
   "cell_type": "code",
   "execution_count": 66,
   "metadata": {},
   "outputs": [
    {
     "name": "stdout",
     "output_type": "stream",
     "text": [
      "not enough args\n"
     ]
    }
   ],
   "source": [
    "# many_args('age','ultranus','mischief')\n",
    "many_args('age','ultranus')"
   ]
  },
  {
   "cell_type": "code",
   "execution_count": 52,
   "metadata": {},
   "outputs": [],
   "source": [
    "def word_play(a,b,c):\n",
    "    l1=[a,b,c]\n",
    "    return tuple([x for x in l1 if len(x)>5])"
   ]
  },
  {
   "cell_type": "code",
   "execution_count": 54,
   "metadata": {},
   "outputs": [
    {
     "data": {
      "text/plain": [
       "('ultranus', 'mischief')"
      ]
     },
     "execution_count": 54,
     "metadata": {},
     "output_type": "execute_result"
    }
   ],
   "source": [
    "t1 = ('age','ultranus','mischief')\n",
    "word_play(*t1)"
   ]
  },
  {
   "cell_type": "code",
   "execution_count": 42,
   "metadata": {},
   "outputs": [],
   "source": [
    "def repeat_me(abc,x):\n",
    "    if x > 50:\n",
    "        print(abc)\n",
    "    else:\n",
    "        print(\"Not enough power\")"
   ]
  },
  {
   "cell_type": "code",
   "execution_count": 44,
   "metadata": {},
   "outputs": [
    {
     "name": "stdout",
     "output_type": "stream",
     "text": [
      "Not enough power\n"
     ]
    }
   ],
   "source": [
    "repeat_me(\"njkdsa jknfv\", 6)"
   ]
  },
  {
   "cell_type": "code",
   "execution_count": 3,
   "metadata": {},
   "outputs": [
    {
     "name": "stdout",
     "output_type": "stream",
     "text": [
      "Hello There\n"
     ]
    }
   ],
   "source": [
    "def only_print():\n",
    "    print(\"Hello There\")\n",
    "only_print()"
   ]
  },
  {
   "cell_type": "code",
   "execution_count": 5,
   "metadata": {},
   "outputs": [
    {
     "data": {
      "text/plain": [
       "3"
      ]
     },
     "execution_count": 5,
     "metadata": {},
     "output_type": "execute_result"
    }
   ],
   "source": [
    "def math_solver(x,y,z):\n",
    "    return 5*(x**3)-7*(y**2)+8*z-25\n",
    "math_solver(2,2,2)"
   ]
  },
  {
   "cell_type": "code",
   "execution_count": null,
   "metadata": {},
   "outputs": [],
   "source": [
    "dir(int)\n",
    " 'as_integer_ratio',\n",
    " 'bit_count',\n",
    " 'bit_length',\n",
    " 'conjugate',\n",
    " 'denominator',\n",
    " 'from_bytes',\n",
    " 'imag',\n",
    " 'numerator',\n",
    " 'real',\n",
    " 'to_bytes'"
   ]
  },
  {
   "cell_type": "code",
   "execution_count": 36,
   "metadata": {},
   "outputs": [],
   "source": [
    "def int_method(x):\n",
    "    print(x.as_integer_ratio())\n",
    "    # print(x.bit_count())\n",
    "    # print(x.bit_length())\n",
    "    # print(x.from_bytes(1))\n",
    "    # print(x.to_bytes())\n",
    "    # print(x.real())\n",
    "    # print(x.imag())\n",
    "    print(x.numerator())\n",
    "    print(x.denominator())\n",
    "    print(x.conjugate())"
   ]
  },
  {
   "cell_type": "code",
   "execution_count": null,
   "metadata": {},
   "outputs": [],
   "source": [
    "int_method(6.1)"
   ]
  },
  {
   "cell_type": "code",
   "execution_count": null,
   "metadata": {},
   "outputs": [],
   "source": []
  },
  {
   "cell_type": "code",
   "execution_count": null,
   "metadata": {},
   "outputs": [],
   "source": [
    "# Functions --->"
   ]
  },
  {
   "cell_type": "code",
   "execution_count": null,
   "metadata": {},
   "outputs": [],
   "source": [
    "## Home Work - complete list, dict, functions"
   ]
  }
 ],
 "metadata": {
  "kernelspec": {
   "display_name": "base",
   "language": "python",
   "name": "python3"
  },
  "language_info": {
   "codemirror_mode": {
    "name": "ipython",
    "version": 3
   },
   "file_extension": ".py",
   "mimetype": "text/x-python",
   "name": "python",
   "nbconvert_exporter": "python",
   "pygments_lexer": "ipython3",
   "version": "3.11.5"
  }
 },
 "nbformat": 4,
 "nbformat_minor": 2
}
