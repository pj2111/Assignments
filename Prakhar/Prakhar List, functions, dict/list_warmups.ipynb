{
 "cells": [
  {
   "attachments": {},
   "cell_type": "markdown",
   "metadata": {},
   "source": [
    "Additional reading ----> Devika AI, Tim Sort ----> mix merge and insertion"
   ]
  },
  {
   "cell_type": "code",
   "execution_count": 9,
   "metadata": {},
   "outputs": [
    {
     "name": "stdout",
     "output_type": "stream",
     "text": [
      "30 5 9 3\n"
     ]
    }
   ],
   "source": [
    "a = [3,4,6,8,9]\n",
    "b= ['f','d','s','f']\n",
    "print(sum(a),len(a),max(a),min(a))"
   ]
  },
  {
   "cell_type": "code",
   "execution_count": 2,
   "metadata": {},
   "outputs": [
    {
     "data": {
      "text/plain": [
       "['dmks', 'klmdscls', 'mkdls', 'mdkls', 'mdkls']"
      ]
     },
     "execution_count": 2,
     "metadata": {},
     "output_type": "execute_result"
    }
   ],
   "source": [
    "set(str1.split())"
   ]
  },
  {
   "cell_type": "code",
   "execution_count": 7,
   "metadata": {},
   "outputs": [
    {
     "data": {
      "text/plain": [
       "3"
      ]
     },
     "execution_count": 7,
     "metadata": {},
     "output_type": "execute_result"
    }
   ],
   "source": [
    "'dmks'.count(str1)\n",
    "str1.count('md')"
   ]
  },
  {
   "cell_type": "code",
   "execution_count": 8,
   "metadata": {},
   "outputs": [
    {
     "data": {
      "text/plain": [
       "{'mkdls': 1, 'mdkls': 2, 'dmks': 1, 'klmdscls': 1}"
      ]
     },
     "execution_count": 8,
     "metadata": {},
     "output_type": "execute_result"
    }
   ],
   "source": [
    "str1 = 'dmks klmdscls mkdls mdkls mdkls'\n",
    "dic={}\n",
    "for i in set(str1.split()):\n",
    "    dic[i] = str1.count(i)    \n",
    "    \n",
    "dic"
   ]
  },
  {
   "cell_type": "code",
   "execution_count": 21,
   "metadata": {},
   "outputs": [
    {
     "name": "stdout",
     "output_type": "stream",
     "text": [
      "1 [9, 8, 6, 4, 3]\n",
      "2\n"
     ]
    }
   ],
   "source": [
    "print(a.count(4), sorted(a,reverse=True))\n",
    "print(b.count('f'))"
   ]
  },
  {
   "cell_type": "code",
   "execution_count": null,
   "metadata": {},
   "outputs": [],
   "source": [
    "# methods and function application of list\n",
    "\n",
    "# Create a list 5 to 8 numbers describing sales, and Get the sum, average, sd and var #  sd and Var Homework\n",
    "# (answer in below cell.. open it after trying out)\n",
    "\n",
    "# get the max and min of the list\n",
    "\n",
    "# get the count of a particular element in a list, which can contain both # using count\n",
    "# int and str \n",
    "\n",
    "# Sort a list of numbers using python inbuilt function, observe the order\n",
    "# of sorting \n",
    "\n",
    "# Reverse the sorting order using the inbuilt function \n",
    "\n",
    "# Extract the unique vals for a list\n",
    "\n",
    "# create a list of ints and strings, and check if an element is in the list \n",
    "\n",
    "# merge two list with using append and extend, observe the difference\n",
    "\n",
    "# Home Work 3 \n",
    "# Eject the first , 3rd and last element in a list of 8 elements. Store \n",
    "# these elements in seperate var like t1, t2, t3\n",
    "\n",
    "# Home Work 4 # re-insert the ejected elements in the same location from where they came"
   ]
  },
  {
   "cell_type": "code",
   "execution_count": 120,
   "metadata": {},
   "outputs": [],
   "source": [
    "l1 = [45,67,86,56,34,56, 'abc', 'abc', 'qwe']\n"
   ]
  },
  {
   "cell_type": "code",
   "execution_count": 121,
   "metadata": {},
   "outputs": [
    {
     "data": {
      "text/plain": [
       "45"
      ]
     },
     "execution_count": 121,
     "metadata": {},
     "output_type": "execute_result"
    }
   ],
   "source": [
    "t1 = l1.pop(0)\n",
    "t1"
   ]
  },
  {
   "cell_type": "code",
   "execution_count": 122,
   "metadata": {},
   "outputs": [
    {
     "data": {
      "text/plain": [
       "[67, 86, 56, 34, 56, 'abc', 'abc', 'qwe']"
      ]
     },
     "execution_count": 122,
     "metadata": {},
     "output_type": "execute_result"
    }
   ],
   "source": [
    "l1"
   ]
  },
  {
   "cell_type": "code",
   "execution_count": 123,
   "metadata": {},
   "outputs": [
    {
     "data": {
      "text/plain": [
       "[45, 67, 86, 56, 34, 56, 'abc', 'abc', 'qwe']"
      ]
     },
     "execution_count": 123,
     "metadata": {},
     "output_type": "execute_result"
    }
   ],
   "source": [
    "l1.insert(0,t1)\n",
    "l1"
   ]
  },
  {
   "cell_type": "code",
   "execution_count": 116,
   "metadata": {},
   "outputs": [],
   "source": [
    "l1 = [45,67,86,56,34,56, 'abc', 'abc', 'qwe']\n",
    "l2 = [45,56]\n",
    "# dir(l1)"
   ]
  },
  {
   "cell_type": "code",
   "execution_count": 115,
   "metadata": {},
   "outputs": [
    {
     "data": {
      "text/plain": [
       "[45, 67, 86, 56, 34, 56, 'abc', 'abc', 'qwe', [45, 56]]"
      ]
     },
     "execution_count": 115,
     "metadata": {},
     "output_type": "execute_result"
    }
   ],
   "source": [
    "l1.append(l2)\n",
    "l1"
   ]
  },
  {
   "cell_type": "code",
   "execution_count": 117,
   "metadata": {},
   "outputs": [
    {
     "data": {
      "text/plain": [
       "[45, 67, 86, 56, 34, 56, 'abc', 'abc', 'qwe', 45, 56]"
      ]
     },
     "execution_count": 117,
     "metadata": {},
     "output_type": "execute_result"
    }
   ],
   "source": [
    "l1.extend(l2)\n",
    "l1"
   ]
  },
  {
   "cell_type": "code",
   "execution_count": 98,
   "metadata": {},
   "outputs": [
    {
     "name": "stdout",
     "output_type": "stream",
     "text": [
      "None\n",
      "None\n"
     ]
    }
   ],
   "source": [
    "print(l1.append(l2))\n",
    "print(l1.extend(l2))"
   ]
  },
  {
   "cell_type": "code",
   "execution_count": 118,
   "metadata": {},
   "outputs": [
    {
     "data": {
      "text/plain": [
       "[56, 45, 'abc']"
      ]
     },
     "execution_count": 118,
     "metadata": {},
     "output_type": "execute_result"
    }
   ],
   "source": [
    "l1_rep = [x for x in l1 if l1.count(x)>1]\n",
    "list(set(l1_rep))"
   ]
  },
  {
   "cell_type": "code",
   "execution_count": 119,
   "metadata": {},
   "outputs": [
    {
     "data": {
      "text/plain": [
       "[45, 67, 86, 56, 34, 56, 45, 56]"
      ]
     },
     "execution_count": 119,
     "metadata": {},
     "output_type": "execute_result"
    }
   ],
   "source": [
    "l1_int = [x for x in l1 if type(x)==int]\n",
    "l1_int"
   ]
  },
  {
   "cell_type": "code",
   "execution_count": null,
   "metadata": {},
   "outputs": [],
   "source": [
    "# Home work - find repeating element in a list  # l1_rep.append for all where count>1\n",
    "# Home Work 2 - find which elements(indexes) are int"
   ]
  },
  {
   "cell_type": "code",
   "execution_count": 3,
   "metadata": {},
   "outputs": [
    {
     "data": {
      "text/plain": [
       "336.84462293467"
      ]
     },
     "execution_count": 3,
     "metadata": {},
     "output_type": "execute_result"
    }
   ],
   "source": [
    "# std calculation\n",
    "# Homework class work practice  convert below to function\n",
    "\n",
    "testlist = [757, 26, 862, 321, 512]\n",
    "addsum = sum(testlist)\n",
    "avg = sum(testlist) / len(testlist)\n",
    "avg_diff = [(x - avg)**2 for x in testlist]\n",
    "avg_diff\n",
    "varianance = sum(avg_diff) / (len(testlist) - 1)\n",
    "sd = varianance ** 0.5\n",
    "sd"
   ]
  },
  {
   "cell_type": "code",
   "execution_count": 26,
   "metadata": {},
   "outputs": [
    {
     "data": {
      "text/plain": [
       "26"
      ]
     },
     "execution_count": 26,
     "metadata": {},
     "output_type": "execute_result"
    }
   ],
   "source": [
    "# pop exercise\n",
    "t1 = testlist.pop(1)\n",
    "t1"
   ]
  },
  {
   "cell_type": "code",
   "execution_count": 21,
   "metadata": {},
   "outputs": [
    {
     "data": {
      "text/plain": [
       "5"
      ]
     },
     "execution_count": 21,
     "metadata": {},
     "output_type": "execute_result"
    }
   ],
   "source": [
    "# pop exercise\n",
    "t2 = testlist.pop(3)\n",
    "t2"
   ]
  },
  {
   "cell_type": "code",
   "execution_count": 24,
   "metadata": {},
   "outputs": [
    {
     "data": {
      "text/plain": [
       "[757, 26, 862, 321, -5, 512, 62, 5, 1]"
      ]
     },
     "execution_count": 24,
     "metadata": {},
     "output_type": "execute_result"
    }
   ],
   "source": [
    "# insert exercise\n",
    "testlist.insert(1,t1)\n",
    "testlist"
   ]
  },
  {
   "cell_type": "code",
   "execution_count": 25,
   "metadata": {},
   "outputs": [
    {
     "data": {
      "text/plain": [
       "[757, 26, 862, 321, 5, -5, 512, 62, 5, 1]"
      ]
     },
     "execution_count": 25,
     "metadata": {},
     "output_type": "execute_result"
    }
   ],
   "source": [
    "# insert exercise\n",
    "testlist.insert(4,t2)\n",
    "testlist"
   ]
  },
  {
   "cell_type": "code",
   "execution_count": 4,
   "metadata": {},
   "outputs": [
    {
     "data": {
      "text/plain": [
       "[26, 321, 512, 757, 862]"
      ]
     },
     "execution_count": 4,
     "metadata": {},
     "output_type": "execute_result"
    }
   ],
   "source": [
    "# sort exercies\n",
    "testort = sorted(testlist)\n",
    "testort"
   ]
  },
  {
   "cell_type": "code",
   "execution_count": 7,
   "metadata": {},
   "outputs": [
    {
     "data": {
      "text/plain": [
       "[862, 757, 512, 321, 26]"
      ]
     },
     "execution_count": 7,
     "metadata": {},
     "output_type": "execute_result"
    }
   ],
   "source": [
    "# sort exercise\n",
    "testort = sorted(testlist, reverse=True)\n",
    "testort"
   ]
  },
  {
   "cell_type": "code",
   "execution_count": 27,
   "metadata": {},
   "outputs": [
    {
     "data": {
      "text/plain": [
       "[1, 2, 3, 5, 6, 7, 8, 9]"
      ]
     },
     "execution_count": 27,
     "metadata": {},
     "output_type": "execute_result"
    }
   ],
   "source": [
    "# unique list exercises\n",
    "qjlist = [5, 2, 3, 1, 5, 2, 6, 7, 8, 9]\n",
    "qjset = set(qjlist)\n",
    "setlist = list(qjset)\n",
    "setlist"
   ]
  },
  {
   "cell_type": "code",
   "execution_count": null,
   "metadata": {},
   "outputs": [],
   "source": [
    "# Home Work # logging practice\n",
    "\n",
    "# Do forward movement on the list\n",
    "\n",
    "# Do the backward movement on the list\n",
    "\n",
    "# Use while loop to traverse the list\n",
    "\n",
    "# Make both the direction elements to be printed, one after the other using single pointer\n",
    "\n",
    "# Two Pointer option, used especially when a second set needs to be extracted.\n",
    "# Two pointers, where the 2nd pointer collects the rest of elements\n",
    "# Homework - 2 pointer\n",
    "# second pointer has to move the rest of the list with for loop\n",
    "    # second pointer moves from the left of the list\n",
    "    # second pointer moves from the right of the list\n",
    "# second pointer has to move the rest of the list using while loop \n",
    "\n",
    "# print elements to the right and left of the current, excluding it\n",
    "\n",
    "# print elements to the right and left of the current, including it\n",
    "### Above completed..\n",
    "# Use the dictionary to store the elements in reverse and forward\n",
    "\n",
    "# Use the dictionary to store the complements \n",
    "\n",
    "# Implement the sliding window on list, and extract moving lists with pop and append # homework class work implement with pop and append\n",
    "\n",
    "# shifting to the next pair \n",
    "\n",
    "# making the right point to move ahead, and then pull the left\n",
    "# to a particular distance or to right's location \n",
    "\n",
    "# Practice to use continue and break\n",
    "\n",
    "# counter technique that enumerates over elems of the array and \n",
    "# checks if meets a condition, makes it 1. After all elems \n",
    "# enumerated it sum"
   ]
  },
  {
   "cell_type": "code",
   "execution_count": 140,
   "metadata": {},
   "outputs": [
    {
     "data": {
      "text/plain": [
       "[45, 67, 86]"
      ]
     },
     "execution_count": 140,
     "metadata": {},
     "output_type": "execute_result"
    }
   ],
   "source": [
    "window = 3\n",
    "w_index = 0\n",
    "l1[:window]"
   ]
  },
  {
   "cell_type": "code",
   "execution_count": 158,
   "metadata": {},
   "outputs": [
    {
     "name": "stdout",
     "output_type": "stream",
     "text": [
      "[45, 67, 86]\n",
      "[67, 86, 56]\n",
      "[86, 56, 34]\n",
      "[56, 34, 56]\n",
      "[34, 56, 'abc']\n",
      "[56, 'abc', 'abc']\n",
      "['abc', 'abc', 'qwe']\n"
     ]
    }
   ],
   "source": [
    "# for i,x in enumerate(l1):\n",
    "#     if len(l1[i:i+window])<3:\n",
    "#         break\n",
    "#     print(l1[i:i+window])\n",
    "    \n",
    "# better way \n",
    "for i,x in enumerate(l1):\n",
    "    if i+window > len(l1):\n",
    "        break\n",
    "    print(l1[i:i+window])"
   ]
  },
  {
   "cell_type": "code",
   "execution_count": 165,
   "metadata": {},
   "outputs": [
    {
     "data": {
      "text/plain": [
       "[(0, 45),\n",
       " (1, 67),\n",
       " (2, 86),\n",
       " (3, 56),\n",
       " (4, 34),\n",
       " (5, 56),\n",
       " (6, 'abc'),\n",
       " (7, 'abc'),\n",
       " (8, 'qwe')]"
      ]
     },
     "execution_count": 165,
     "metadata": {},
     "output_type": "execute_result"
    }
   ],
   "source": [
    "#Home work try above with list comprehension class work\n",
    "[(i,x) for i,x in enumerate(l1)]"
   ]
  },
  {
   "cell_type": "code",
   "execution_count": 156,
   "metadata": {},
   "outputs": [
    {
     "data": {
      "text/plain": [
       "['qwe', 'abc', 'abc', 56, 34, 56, 86, 67]"
      ]
     },
     "execution_count": 156,
     "metadata": {},
     "output_type": "execute_result"
    }
   ],
   "source": [
    "l1[9:0:-1]"
   ]
  },
  {
   "cell_type": "code",
   "execution_count": 137,
   "metadata": {},
   "outputs": [
    {
     "data": {
      "text/plain": [
       "[45, 67, 86, 56, 34, 56, 'abc', 'abc', 'qwe']"
      ]
     },
     "execution_count": 137,
     "metadata": {},
     "output_type": "execute_result"
    }
   ],
   "source": [
    "l1"
   ]
  },
  {
   "cell_type": "code",
   "execution_count": null,
   "metadata": {},
   "outputs": [],
   "source": [
    "for i,x in enumerate(l1): # loop will iterate for 9 times\n",
    "    for j in range(i,len(l1)): # iterate for 9 again so time complexity is 9*9, and not 9!\n",
    "        print(x, '|', l1[-j])"
   ]
  },
  {
   "cell_type": "code",
   "execution_count": null,
   "metadata": {},
   "outputs": [],
   "source": [
    "for i,x in enumerate(l1):\n",
    "    j=i\n",
    "    while j<len(l1):\n",
    "        # for j in range(i,len(l1)):\n",
    "        print(x, '|', l1[j])\n",
    "        j+=1"
   ]
  },
  {
   "cell_type": "code",
   "execution_count": 130,
   "metadata": {},
   "outputs": [
    {
     "name": "stdout",
     "output_type": "stream",
     "text": [
      "[] | [45, 67, 86, 56, 34, 56, 'abc', 'abc', 'qwe']\n",
      "[45] | [67, 86, 56, 34, 56, 'abc', 'abc', 'qwe']\n",
      "[45, 67] | [86, 56, 34, 56, 'abc', 'abc', 'qwe']\n",
      "[45, 67, 86] | [56, 34, 56, 'abc', 'abc', 'qwe']\n",
      "[45, 67, 86, 56] | [34, 56, 'abc', 'abc', 'qwe']\n",
      "[45, 67, 86, 56, 34] | [56, 'abc', 'abc', 'qwe']\n",
      "[45, 67, 86, 56, 34, 56] | ['abc', 'abc', 'qwe']\n",
      "[45, 67, 86, 56, 34, 56, 'abc'] | ['abc', 'qwe']\n",
      "[45, 67, 86, 56, 34, 56, 'abc', 'abc'] | ['qwe']\n"
     ]
    }
   ],
   "source": [
    "for i,x in enumerate(l1):\n",
    "    print(l1[:i],'|', l1[i:])"
   ]
  },
  {
   "cell_type": "code",
   "execution_count": 139,
   "metadata": {},
   "outputs": [
    {
     "name": "stdout",
     "output_type": "stream",
     "text": [
      "[] | [67, 86, 56, 34, 56, 'abc', 'abc', 'qwe']\n",
      "[45] | [86, 56, 34, 56, 'abc', 'abc', 'qwe']\n",
      "[45, 67] | [56, 34, 56, 'abc', 'abc', 'qwe']\n",
      "[45, 67, 86] | [34, 56, 'abc', 'abc', 'qwe']\n",
      "[45, 67, 86, 56] | [56, 'abc', 'abc', 'qwe']\n",
      "[45, 67, 86, 56, 34] | ['abc', 'abc', 'qwe']\n",
      "[45, 67, 86, 56, 34, 56] | ['abc', 'qwe']\n",
      "[45, 67, 86, 56, 34, 56, 'abc'] | ['qwe']\n",
      "[45, 67, 86, 56, 34, 56, 'abc', 'abc'] | []\n"
     ]
    }
   ],
   "source": [
    "for i,x in enumerate(l1):\n",
    "    print(l1[:i],'|', l1[i+1:])"
   ]
  },
  {
   "cell_type": "code",
   "execution_count": 93,
   "metadata": {},
   "outputs": [
    {
     "name": "stderr",
     "output_type": "stream",
     "text": [
      "ERROR:root:GFG raised an error\n"
     ]
    }
   ],
   "source": [
    "import logging\n",
    "name = 'GFG'\n",
    "logging.error('%s raised an error', name)\n"
   ]
  },
  {
   "cell_type": "code",
   "execution_count": 94,
   "metadata": {},
   "outputs": [
    {
     "name": "stderr",
     "output_type": "stream",
     "text": [
      "DEBUG:root:Harmless debug Message\n",
      "INFO:root:Just an information\n",
      "WARNING:root:Its a Warning\n",
      "ERROR:root:Did you try to divide by zero\n",
      "CRITICAL:root:Internet is down\n"
     ]
    }
   ],
   "source": [
    "# importing module\n",
    "import logging\n",
    "\n",
    "# Create and configure logger\n",
    "logging.basicConfig(filename=\"newfile.log\",\n",
    "\t\t\t\t\tformat='%(asctime)s %(message)s',\n",
    "\t\t\t\t\tfilemode='w')\n",
    "\n",
    "# Creating an object\n",
    "logger = logging.getLogger()\n",
    "\n",
    "# Setting the threshold of logger to DEBUG\n",
    "logger.setLevel(logging.DEBUG)\n",
    "\n",
    "# Test messages\n",
    "logger.debug(\"Harmless debug Message\")\n",
    "logger.info(\"Just an information\")\n",
    "logger.warning(\"Its a Warning\")\n",
    "logger.error(\"Did you try to divide by zero\")\n",
    "logger.critical(\"Internet is down\")\n"
   ]
  },
  {
   "cell_type": "code",
   "execution_count": 73,
   "metadata": {},
   "outputs": [],
   "source": [
    "l1 = [32,45,66,78]"
   ]
  },
  {
   "cell_type": "code",
   "execution_count": 85,
   "metadata": {},
   "outputs": [
    {
     "name": "stdout",
     "output_type": "stream",
     "text": [
      "32\n",
      "45\n",
      "66\n",
      "78\n"
     ]
    }
   ],
   "source": [
    "for i in l1:\n",
    "    print(i)\n",
    "# for i in "
   ]
  },
  {
   "cell_type": "code",
   "execution_count": 86,
   "metadata": {},
   "outputs": [
    {
     "name": "stdout",
     "output_type": "stream",
     "text": [
      "32\n",
      "45\n",
      "66\n",
      "78\n"
     ]
    }
   ],
   "source": [
    "i=0\n",
    "while True:\n",
    "    print(l1[i])\n",
    "    i+=1\n",
    "    if i==len(l1):\n",
    "        break"
   ]
  },
  {
   "cell_type": "code",
   "execution_count": 90,
   "metadata": {},
   "outputs": [
    {
     "name": "stdout",
     "output_type": "stream",
     "text": [
      "78\n",
      "66\n",
      "45\n",
      "32\n"
     ]
    }
   ],
   "source": [
    "i=len(l1)-1\n",
    "while True:\n",
    "    print(l1[i])\n",
    "    i-=1\n",
    "    if i<0:\n",
    "        break\n"
   ]
  },
  {
   "cell_type": "code",
   "execution_count": 92,
   "metadata": {},
   "outputs": [
    {
     "name": "stdout",
     "output_type": "stream",
     "text": [
      "78\n",
      "66\n",
      "45\n",
      "32\n"
     ]
    }
   ],
   "source": [
    "i=len(l1)-1\n",
    "while i>=0:\n",
    "    print(l1[i])\n",
    "    i-=1"
   ]
  },
  {
   "cell_type": "code",
   "execution_count": 40,
   "metadata": {},
   "outputs": [
    {
     "name": "stdout",
     "output_type": "stream",
     "text": [
      "0 | 32\n",
      "1 | 45\n",
      "2 | 66\n",
      "3 | 78\n"
     ]
    }
   ],
   "source": [
    "for i,x in enumerate(l1):\n",
    "    print(i, '|', x)"
   ]
  },
  {
   "cell_type": "code",
   "execution_count": 74,
   "metadata": {},
   "outputs": [
    {
     "name": "stdout",
     "output_type": "stream",
     "text": [
      "0 78\n",
      "1 66\n",
      "2 45\n",
      "3 32\n"
     ]
    }
   ],
   "source": [
    "for i,x in enumerate(l1[::-1]):\n",
    "    print(i,x)"
   ]
  },
  {
   "cell_type": "code",
   "execution_count": 46,
   "metadata": {},
   "outputs": [
    {
     "name": "stdout",
     "output_type": "stream",
     "text": [
      "None\n"
     ]
    }
   ],
   "source": [
    "print(l1.reverse())"
   ]
  },
  {
   "cell_type": "code",
   "execution_count": 63,
   "metadata": {},
   "outputs": [
    {
     "name": "stdout",
     "output_type": "stream",
     "text": [
      "None\n"
     ]
    }
   ],
   "source": [
    "l2 = l1.reverse()\n",
    "print(l2)"
   ]
  },
  {
   "cell_type": "code",
   "execution_count": 66,
   "metadata": {},
   "outputs": [
    {
     "name": "stdout",
     "output_type": "stream",
     "text": [
      "None\n"
     ]
    }
   ],
   "source": [
    "print(l1.sort())"
   ]
  },
  {
   "cell_type": "code",
   "execution_count": 67,
   "metadata": {},
   "outputs": [],
   "source": [
    "l1.sort(reverse=True)"
   ]
  },
  {
   "cell_type": "code",
   "execution_count": 57,
   "metadata": {},
   "outputs": [
    {
     "name": "stdout",
     "output_type": "stream",
     "text": [
      "None\n"
     ]
    }
   ],
   "source": [
    "print(l3)"
   ]
  },
  {
   "cell_type": "code",
   "execution_count": 62,
   "metadata": {},
   "outputs": [
    {
     "data": {
      "text/plain": [
       "[78, 66, 45, 32]"
      ]
     },
     "execution_count": 62,
     "metadata": {},
     "output_type": "execute_result"
    }
   ],
   "source": [
    "l1"
   ]
  },
  {
   "cell_type": "code",
   "execution_count": 65,
   "metadata": {},
   "outputs": [
    {
     "name": "stdout",
     "output_type": "stream",
     "text": [
      "[32, 45, 66, 78]\n"
     ]
    }
   ],
   "source": [
    "print(l1)"
   ]
  },
  {
   "cell_type": "code",
   "execution_count": null,
   "metadata": {},
   "outputs": [],
   "source": []
  }
 ],
 "metadata": {
  "kernelspec": {
   "display_name": "Python 3",
   "language": "python",
   "name": "python3"
  },
  "language_info": {
   "codemirror_mode": {
    "name": "ipython",
    "version": 3
   },
   "file_extension": ".py",
   "mimetype": "text/x-python",
   "name": "python",
   "nbconvert_exporter": "python",
   "pygments_lexer": "ipython3",
   "version": "3.11.5"
  }
 },
 "nbformat": 4,
 "nbformat_minor": 2
}
