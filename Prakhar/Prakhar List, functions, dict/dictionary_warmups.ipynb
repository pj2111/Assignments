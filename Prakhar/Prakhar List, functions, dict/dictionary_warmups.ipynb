{
 "cells": [
  {
   "cell_type": "code",
   "execution_count": 1,
   "metadata": {},
   "outputs": [],
   "source": [
    "# Series of warmups involving dictionaries / are using them \n",
    "# Dict is a hashmap\n",
    "# Keys should always be immutable datatype \n",
    "# create dict with various type of keys(string, int, list , tuple) - Home work"
   ]
  },
  {
   "cell_type": "code",
   "execution_count": 1,
   "metadata": {},
   "outputs": [
    {
     "data": {
      "text/plain": [
       "'nevjkve'"
      ]
     },
     "execution_count": 1,
     "metadata": {},
     "output_type": "execute_result"
    }
   ],
   "source": [
    "# string is immutable but here we are reassigning string variable\n",
    "s1='nevjk'\n",
    "s1=s1+'ve'\n",
    "s1"
   ]
  },
  {
   "cell_type": "code",
   "execution_count": 4,
   "metadata": {},
   "outputs": [
    {
     "data": {
      "text/plain": [
       "(4, 5, 6, 5, 6)"
      ]
     },
     "execution_count": 4,
     "metadata": {},
     "output_type": "execute_result"
    }
   ],
   "source": [
    "# tuple immutablity\n",
    "t1=(4,5,6)\n",
    "t1=t1+(5,6)\n",
    "t1"
   ]
  },
  {
   "cell_type": "code",
   "execution_count": 6,
   "metadata": {},
   "outputs": [
    {
     "ename": "TypeError",
     "evalue": "'tuple' object does not support item assignment",
     "output_type": "error",
     "traceback": [
      "\u001b[0;31m---------------------------------------------------------------------------\u001b[0m",
      "\u001b[0;31mTypeError\u001b[0m                                 Traceback (most recent call last)",
      "Cell \u001b[0;32mIn[6], line 1\u001b[0m\n\u001b[0;32m----> 1\u001b[0m t1[\u001b[39m4\u001b[39m]\u001b[39m=\u001b[39m\u001b[39m7\u001b[39m\n",
      "\u001b[0;31mTypeError\u001b[0m: 'tuple' object does not support item assignment"
     ]
    }
   ],
   "source": [
    "t1[4]=7"
   ]
  },
  {
   "cell_type": "code",
   "execution_count": 3,
   "metadata": {},
   "outputs": [
    {
     "data": {
      "text/plain": [
       "14"
      ]
     },
     "execution_count": 3,
     "metadata": {},
     "output_type": "execute_result"
    }
   ],
   "source": [
    "#func to take in 3 args and add them\n",
    "def add_3(a,b,c):\n",
    "   return a+b+c\n",
    "x = 2\n",
    "y = 5\n",
    "z = 7\n",
    "add_3(x,y,z)"
   ]
  },
  {
   "cell_type": "code",
   "execution_count": 4,
   "metadata": {},
   "outputs": [
    {
     "data": {
      "text/plain": [
       "14"
      ]
     },
     "execution_count": 4,
     "metadata": {},
     "output_type": "execute_result"
    }
   ],
   "source": [
    "add_3(a=x,b=y,c=z)"
   ]
  },
  {
   "cell_type": "code",
   "execution_count": 5,
   "metadata": {},
   "outputs": [
    {
     "data": {
      "text/plain": [
       "{'a': 2, 'b': 5, 'c': 7}"
      ]
     },
     "execution_count": 5,
     "metadata": {},
     "output_type": "execute_result"
    }
   ],
   "source": [
    "dic1={'a':x,\n",
    "      'b':y,\n",
    "      'c':z\n",
    "      }\n",
    "dic1"
   ]
  },
  {
   "cell_type": "code",
   "execution_count": 6,
   "metadata": {},
   "outputs": [
    {
     "data": {
      "text/plain": [
       "{'a': 2, 'b': 5, 'c': 7}"
      ]
     },
     "execution_count": 6,
     "metadata": {},
     "output_type": "execute_result"
    }
   ],
   "source": [
    "dic2 = dict(a=x, b=y, c=z)\n",
    "dic2"
   ]
  },
  {
   "cell_type": "code",
   "execution_count": 7,
   "metadata": {},
   "outputs": [
    {
     "data": {
      "text/plain": [
       "{'a': 2, 'b': 5, 'c': 7}"
      ]
     },
     "execution_count": 7,
     "metadata": {},
     "output_type": "execute_result"
    }
   ],
   "source": [
    "dic_3 = dict(**dic1)\n",
    "dic_3"
   ]
  },
  {
   "cell_type": "code",
   "execution_count": null,
   "metadata": {},
   "outputs": [],
   "source": [
    "# Unpacking a dict\n",
    "add_3(**dic2)"
   ]
  },
  {
   "cell_type": "code",
   "execution_count": 1,
   "metadata": {},
   "outputs": [
    {
     "data": {
      "text/plain": [
       "{'a': 1, 'b': 2}"
      ]
     },
     "execution_count": 1,
     "metadata": {},
     "output_type": "execute_result"
    }
   ],
   "source": [
    "# dictionary comprehension\n",
    "original_dict = {'a':1, 'b':2, 'c':3, 'd':4}\n",
    "keys_to_include = ['a','b']\n",
    "\n",
    "subset_dict = {k:original_dict[k] for k in keys_to_include}\n",
    "subset_dict"
   ]
  },
  {
   "cell_type": "code",
   "execution_count": null,
   "metadata": {},
   "outputs": [],
   "source": [
    "dir(dict)\n",
    "Method\tDescription\n",
    "dict.clear()\tRemove all the elements from the dictionary\n",
    "dict.copy()\tReturns a copy of the dictionary\n",
    "dict.get(key, default = “None”)\t Returns the value of specified key\n",
    "dict.items()\t Returns a list containing a tuple for each key value pair\n",
    "dict.keys()\t Returns a list containing dictionary’s keys\n",
    "dict.update(dict2)\tUpdates dictionary with specified key-value pairs\n",
    "dict.values()\t Returns a list of all the values of dictionary\n",
    "pop()\t Remove the element with specified key\n",
    "popItem()\tRemoves the last inserted key-value pair\n",
    " dict.setdefault(key,default= “None”)\tset the key to the default value if the key is not specified in the dictionary\n",
    "dict.has_key(key)\treturns true if the dictionary contains the specified key.\n",
    "['clear',\n",
    " 'copy',\n",
    " 'fromkeys',\n",
    " 'get',\n",
    " 'items',\n",
    " 'keys',\n",
    " 'pop',\n",
    " 'popitem',\n",
    " 'setdefault',\n",
    " 'update',\n",
    " 'values']"
   ]
  },
  {
   "cell_type": "code",
   "execution_count": 13,
   "metadata": {},
   "outputs": [
    {
     "name": "stdout",
     "output_type": "stream",
     "text": [
      "{'there': 3, 'is': 2, 'so': 1, 'much': 1, 'and': 1, 'very': 1, 'less': 1, 'space': 1, 'to': 1, 'sit': 1}\n"
     ]
    }
   ],
   "source": [
    "# counting words using get method\n",
    "text = \"there is so much and there is very less space to sit there\"\n",
    "wf = dict()\n",
    "for x in text.split():\n",
    "    wf[x] = wf.get(x, 0) + 1  # use of get or return default\n",
    "print(wf)"
   ]
  },
  {
   "cell_type": "code",
   "execution_count": 19,
   "metadata": {},
   "outputs": [
    {
     "data": {
      "text/plain": [
       "2"
      ]
     },
     "execution_count": 19,
     "metadata": {},
     "output_type": "execute_result"
    }
   ],
   "source": [
    "# understanding get or use default method\n",
    "wf.get('super', 0)"
   ]
  },
  {
   "cell_type": "code",
   "execution_count": 31,
   "metadata": {},
   "outputs": [
    {
     "name": "stdout",
     "output_type": "stream",
     "text": [
      "{'This': 1, 'ball': 1, 'is': 2, 'a': 1, 'red': 1, 'ball.': 1, 'My': 1, 'fav': 1, 'color': 1, 'red.': 1}\n"
     ]
    }
   ],
   "source": [
    "text = 'This ball is a red ball. My fav color is red.'\n",
    "d = dict()\n",
    "for x in text.split(\" \"):\n",
    "    d[x] = d.get(x,0) + 1\n",
    "print(d)"
   ]
  },
  {
   "cell_type": "code",
   "execution_count": 5,
   "metadata": {},
   "outputs": [
    {
     "data": {
      "text/plain": [
       "[29224, 10432, 1599]"
      ]
     },
     "execution_count": 5,
     "metadata": {},
     "output_type": "execute_result"
    }
   ],
   "source": [
    "# calculate portfolio value\n",
    "stokk = {\"msft\":562, 'oggle': 326, 'appl': 123}\n",
    "qty = {\"msft\":52, 'oggle': 32, 'appl': 13}\n",
    "# can use for loop or list comprehension\n",
    "prd_val = []\n",
    "for a, x in stokk.items():\n",
    "    prd_val.append(x * qty[a])  # stk_price * qty\n",
    "prd_val"
   ]
  },
  {
   "cell_type": "code",
   "execution_count": 36,
   "metadata": {},
   "outputs": [
    {
     "data": {
      "text/plain": [
       "[29224, 10432, 1599]"
      ]
     },
     "execution_count": 36,
     "metadata": {},
     "output_type": "execute_result"
    }
   ],
   "source": [
    "stokk = {\"msft\":562, 'oggle': 326, 'appl': 123}\n",
    "qty = {\"msft\":52, 'oggle': 32, 'appl': 13}\n",
    "\n",
    "pf = []\n",
    "for i,x in stokk.items():\n",
    "    pf.append(x*qty[i])\n",
    "    # print(x,qty[i])\n",
    "pf"
   ]
  },
  {
   "cell_type": "code",
   "execution_count": 6,
   "metadata": {},
   "outputs": [
    {
     "data": {
      "text/plain": [
       "337.0"
      ]
     },
     "execution_count": 6,
     "metadata": {},
     "output_type": "execute_result"
    }
   ],
   "source": [
    "# extract the average cost of the stocks from earlier example\n",
    "sum(stokk.values()) / len(stokk.values())"
   ]
  },
  {
   "cell_type": "code",
   "execution_count": 7,
   "metadata": {},
   "outputs": [
    {
     "name": "stdout",
     "output_type": "stream",
     "text": [
      "Stock msft: qty: 52 : price: 562 : product: 29224\n",
      "Stock oggle: qty: 32 : price: 326 : product: 10432\n",
      "Stock appl: qty: 13 : price: 123 : product: 1599\n"
     ]
    }
   ],
   "source": [
    "# print the stock price, qty and the investment for each stock\n",
    "for c, v in stokk.items():\n",
    "    print(f\"Stock {c}: qty: {qty[c]} : price: {v} : product: {v * qty[c]}\")"
   ]
  },
  {
   "cell_type": "code",
   "execution_count": 8,
   "metadata": {},
   "outputs": [],
   "source": [
    "# Create nested dictionary of product name, its price and qty. \n",
    "# Need to use the product_name to get dict of price and qty. \n",
    "# then use key-word like price and qty to get the values "
   ]
  },
  {
   "cell_type": "code",
   "execution_count": 42,
   "metadata": {},
   "outputs": [],
   "source": [
    "stokk_nest = {\"stk_1\":{'name':'msft','qty':52,'price':562},\n",
    "              \"stk_2\":{'name':'oogle','qty':32,'price':326},\n",
    "              \"stk_3\":{'name':'appl','qty':13, 'price':123}}"
   ]
  },
  {
   "cell_type": "code",
   "execution_count": 47,
   "metadata": {},
   "outputs": [
    {
     "name": "stdout",
     "output_type": "stream",
     "text": [
      "{'name': 'msft', 'qty': 52, 'price': 562}\n",
      "562\n"
     ]
    },
    {
     "ename": "KeyError",
     "evalue": "('price', 'qty')",
     "output_type": "error",
     "traceback": [
      "\u001b[0;31m---------------------------------------------------------------------------\u001b[0m",
      "\u001b[0;31mKeyError\u001b[0m                                  Traceback (most recent call last)",
      "Cell \u001b[0;32mIn[47], line 3\u001b[0m\n\u001b[1;32m      1\u001b[0m \u001b[39mprint\u001b[39m(stokk_nest[\u001b[39m'\u001b[39m\u001b[39mstk_1\u001b[39m\u001b[39m'\u001b[39m])\n\u001b[1;32m      2\u001b[0m \u001b[39mprint\u001b[39m(stokk_nest[\u001b[39m'\u001b[39m\u001b[39mstk_1\u001b[39m\u001b[39m'\u001b[39m][\u001b[39m'\u001b[39m\u001b[39mprice\u001b[39m\u001b[39m'\u001b[39m])\n\u001b[0;32m----> 3\u001b[0m \u001b[39mprint\u001b[39m(stokk_nest[\u001b[39m'\u001b[39m\u001b[39mstk_1\u001b[39m\u001b[39m'\u001b[39m][\u001b[39m'\u001b[39m\u001b[39mprice\u001b[39m\u001b[39m'\u001b[39m,\u001b[39m'\u001b[39m\u001b[39mqty\u001b[39m\u001b[39m'\u001b[39m])\n",
      "\u001b[0;31mKeyError\u001b[0m: ('price', 'qty')"
     ]
    }
   ],
   "source": [
    "print(stokk_nest['stk_1'])\n",
    "print(stokk_nest['stk_1']['price'])\n",
    "print(stokk_nest['stk_1']['price','qty'])"
   ]
  },
  {
   "cell_type": "code",
   "execution_count": 2,
   "metadata": {},
   "outputs": [],
   "source": [
    "test_dict = {\"pdt_1\":{'name':'super-bar', 'price': 57},\n",
    "             \"pdt_2\":{'name':'novatic', 'price':75},\n",
    "             \"pdt_3\":{\"name\": \"gleaner\", 'price': 62}\n",
    "}"
   ]
  },
  {
   "cell_type": "code",
   "execution_count": 3,
   "metadata": {},
   "outputs": [
    {
     "name": "stdout",
     "output_type": "stream",
     "text": [
      "{'name': 'super-bar', 'price': 57}\n"
     ]
    },
    {
     "ename": "KeyError",
     "evalue": "'price'",
     "output_type": "error",
     "traceback": [
      "\u001b[0;31m---------------------------------------------------------------------------\u001b[0m",
      "\u001b[0;31mKeyError\u001b[0m                                  Traceback (most recent call last)",
      "Cell \u001b[0;32mIn[3], line 2\u001b[0m\n\u001b[1;32m      1\u001b[0m \u001b[39mprint\u001b[39m(test_dict[\u001b[39m'\u001b[39m\u001b[39mpdt_1\u001b[39m\u001b[39m'\u001b[39m])\n\u001b[0;32m----> 2\u001b[0m \u001b[39mprint\u001b[39m(test_dict[\u001b[39m'\u001b[39m\u001b[39mprice\u001b[39m\u001b[39m'\u001b[39m])\n",
      "\u001b[0;31mKeyError\u001b[0m: 'price'"
     ]
    }
   ],
   "source": [
    "print(test_dict['pdt_1'])\n",
    "print(test_dict['price'])\n"
   ]
  },
  {
   "cell_type": "code",
   "execution_count": 39,
   "metadata": {},
   "outputs": [
    {
     "name": "stdout",
     "output_type": "stream",
     "text": [
      "super-bar\n",
      "57\n",
      "novatic\n",
      "75\n",
      "gleaner\n",
      "62\n"
     ]
    },
    {
     "data": {
      "text/plain": [
       "{'ptd_1': {'name': 'super-bar'},\n",
       " 'ptd_2': {'name': 'novatic'},\n",
       " 'ptd_3': {'name': 'gleaner'}}"
      ]
     },
     "execution_count": 39,
     "metadata": {},
     "output_type": "execute_result"
    }
   ],
   "source": [
    "# dict1 = {}\n",
    "l1=[]\n",
    "i=1\n",
    "for key,val in test_dict.items():\n",
    "    print(val['name'])\n",
    "    print(val['price'])\n",
    "    l1.append((f\"ptd_{i}\",{'name' : val['name']}))\n",
    "    i+=1\n",
    "dict(l1)"
   ]
  },
  {
   "cell_type": "code",
   "execution_count": 11,
   "metadata": {},
   "outputs": [
    {
     "name": "stdout",
     "output_type": "stream",
     "text": [
      "super-bar\n",
      "57\n",
      "novatic\n",
      "75\n",
      "gleaner\n",
      "62\n"
     ]
    },
    {
     "data": {
      "text/plain": [
       "[{'name': 'super-bar'}, {'name': 'novatic'}, {'name': 'gleaner'}]"
      ]
     },
     "execution_count": 11,
     "metadata": {},
     "output_type": "execute_result"
    }
   ],
   "source": [
    "# dict1 = {}\n",
    "l1=[]\n",
    "for key,val in test_dict.items():\n",
    "    print(val['name'])\n",
    "    print(val['price'])\n",
    "    l1.append({'name' : val['name']})\n",
    "    \n",
    "l1"
   ]
  },
  {
   "cell_type": "code",
   "execution_count": 14,
   "metadata": {},
   "outputs": [
    {
     "name": "stdout",
     "output_type": "stream",
     "text": [
      "super-bar\n",
      "57\n",
      "novatic\n",
      "75\n",
      "gleaner\n",
      "62\n"
     ]
    },
    {
     "data": {
      "text/plain": [
       "{'name': 'gleaner'}"
      ]
     },
     "execution_count": 14,
     "metadata": {},
     "output_type": "execute_result"
    }
   ],
   "source": [
    "dict1 = {}\n",
    "# l1=[]\n",
    "for key,val in test_dict.items():\n",
    "    print(val['name'])\n",
    "    print(val['price'])\n",
    "    dict1.update({'name' : val['name']})\n",
    "    \n",
    "dict1"
   ]
  },
  {
   "cell_type": "code",
   "execution_count": 5,
   "metadata": {},
   "outputs": [
    {
     "data": {
      "text/plain": [
       "[{'name': 'super-bar'}, {'name': 'novatic'}, {'name': 'gleaner'}]"
      ]
     },
     "execution_count": 5,
     "metadata": {},
     "output_type": "execute_result"
    }
   ],
   "source": [
    "l1"
   ]
  },
  {
   "cell_type": "code",
   "execution_count": 9,
   "metadata": {},
   "outputs": [
    {
     "data": {
      "text/plain": [
       "{'name': 'super-bar'}"
      ]
     },
     "execution_count": 9,
     "metadata": {},
     "output_type": "execute_result"
    }
   ],
   "source": [
    "l1[0]"
   ]
  },
  {
   "cell_type": "code",
   "execution_count": 13,
   "metadata": {},
   "outputs": [
    {
     "data": {
      "text/plain": [
       "{'ptd': {'name': 'gleaner'}}"
      ]
     },
     "execution_count": 13,
     "metadata": {},
     "output_type": "execute_result"
    }
   ],
   "source": [
    "dict(l1)"
   ]
  },
  {
   "cell_type": "code",
   "execution_count": 6,
   "metadata": {},
   "outputs": [
    {
     "ename": "TypeError",
     "evalue": "unhashable type: 'list'",
     "output_type": "error",
     "traceback": [
      "\u001b[0;31m---------------------------------------------------------------------------\u001b[0m",
      "\u001b[0;31mTypeError\u001b[0m                                 Traceback (most recent call last)",
      "Cell \u001b[0;32mIn[6], line 1\u001b[0m\n\u001b[0;32m----> 1\u001b[0m d1\u001b[39m=\u001b[39m{l1}\n\u001b[1;32m      2\u001b[0m d1\n",
      "\u001b[0;31mTypeError\u001b[0m: unhashable type: 'list'"
     ]
    }
   ],
   "source": [
    "d1={l1}\n",
    "d1"
   ]
  },
  {
   "cell_type": "code",
   "execution_count": null,
   "metadata": {},
   "outputs": [],
   "source": [
    "#append in dict"
   ]
  },
  {
   "cell_type": "code",
   "execution_count": null,
   "metadata": {},
   "outputs": [],
   "source": [
    "squad_ds = load_dataset(\"squad\", split=\"train\")\n",
    "sq_20 = squad_ds[0:20]\n",
    "sq_20#[range(5)]#['id']"
   ]
  },
  {
   "cell_type": "code",
   "execution_count": null,
   "metadata": {},
   "outputs": [],
   "source": [
    "# Indexing / Slicing in dictionary\n",
    "\n",
    "print(type(squad_ds))   # Doubt indexing or slicing a dataset dictionary is direct \n",
    "print(type(sq_20))      # How to slice a regular dictionary\n",
    "\n",
    "# found this online\n",
    "# first_two = dict(list(d.items())[:2])\n",
    "# import itertools\n",
    "# d = {1: 2, 3: 4, 5: 6}\n",
    "# dict(itertools.islice(d.items(), 2))\n",
    "# {1: 2, 3: 4}"
   ]
  },
  {
   "cell_type": "code",
   "execution_count": null,
   "metadata": {},
   "outputs": [],
   "source": [
    "# Manual way to slice a dict"
   ]
  },
  {
   "cell_type": "code",
   "execution_count": 15,
   "metadata": {},
   "outputs": [],
   "source": [
    "# https://www.dataquest.io/blog/python-dictionaries/\n",
    "\n",
    "# Go through this for more"
   ]
  },
  {
   "cell_type": "code",
   "execution_count": 16,
   "metadata": {},
   "outputs": [
    {
     "data": {
      "text/plain": [
       "[('ptd', {'name': 'super-bar'}),\n",
       " ('ptd', {'name': 'novatic'}),\n",
       " ('ptd', {'name': 'gleaner'})]"
      ]
     },
     "execution_count": 16,
     "metadata": {},
     "output_type": "execute_result"
    }
   ],
   "source": [
    "l1"
   ]
  },
  {
   "cell_type": "code",
   "execution_count": 42,
   "metadata": {},
   "outputs": [],
   "source": [
    "harry_potter_dict = {\n",
    "    \"Harry Potter\": \"Gryffindor\",\n",
    "    \"Ron Weasley\": \"Gryffindor\",\n",
    "    \"Hermione Granger\": \"Gryffindor\"\n",
    "}\n"
   ]
  },
  {
   "cell_type": "code",
   "execution_count": 43,
   "metadata": {},
   "outputs": [
    {
     "data": {
      "text/plain": [
       "{'Harry Potter': 'Gryffindor',\n",
       " 'Ron Weasley': 'Gryffindor',\n",
       " 'Hermione Granger': 'Gryffindor',\n",
       " 'Saul Goodman': 'Breaking Bad'}"
      ]
     },
     "execution_count": 43,
     "metadata": {},
     "output_type": "execute_result"
    }
   ],
   "source": [
    "harry_potter_dict[\"Saul Goodman\"]=\"Breaking Bad\"\n",
    "harry_potter_dict"
   ]
  },
  {
   "cell_type": "code",
   "execution_count": null,
   "metadata": {},
   "outputs": [],
   "source": [
    "#create a dictionary\n",
    "dict1 = {}\n",
    "dict1 = dict()\n",
    "\n",
    "# Add values to dict\n",
    "dict1['key1'] = 'value1'\n",
    "dictionary = {\"key1\": \"value1\"}\n",
    "dictionary = dict(key1=\"value1\", key2=\"value2\")\n",
    "# List of tuples\n",
    "dictionary = dict([(\"key1\", \"value1\"), (\"key2\", \"value2\")])"
   ]
  },
  {
   "cell_type": "code",
   "execution_count": 47,
   "metadata": {},
   "outputs": [
    {
     "data": {
      "text/plain": [
       "{'Harry Potter': 'Gryffindor',\n",
       " 'Ron Weasley': 'Gryffindor',\n",
       " 'Hermione Granger': 'Gryffindor',\n",
       " 'Albus Dumbledore': 'Gryffindor',\n",
       " 'Luna Lovegood': 'Ravenclaw',\n",
       " 'Draco Malfoy': 'Slytherin',\n",
       " 'Cedric Diggory': 'Hufflepuff',\n",
       " 'Rubeus Hagrid': 'Gryffindor',\n",
       " 'Minerva McGonagall': 'Gryffindor'}"
      ]
     },
     "execution_count": 47,
     "metadata": {},
     "output_type": "execute_result"
    }
   ],
   "source": [
    "#Python Dictionary Methods\n",
    "harry_potter_dict = {\"Harry Potter\": \"Gryffindor\", \"Ron Weasley\": \"Gryffindor\", \"Hermione Granger\": \"Gryffindor\"}\n",
    "add_characters_1 = {\"Albus Dumbledore\": \"Gryffindor\", \"Luna Lovegood\": \"Ravenclaw\"}\n",
    "\n",
    "# Merge dictionaries\n",
    "harry_potter_dict.update(add_characters_1)\n",
    "# list of a list to update a dictionary\n",
    "add_characters_2 = [[\"Draco Malfoy\", \"Slytherin\"], [\"Cedric Diggory\", \"Hufflepuff\"]]\n",
    "harry_potter_dict.update(add_characters_2)\n",
    "\n",
    "# list of tuples\n",
    "add_characters_3 = [(\"Rubeus Hagrid\", \"Gryffindor\"),(\"Minerva McGonagall\", \"Gryffindor\")]\n",
    "harry_potter_dict.update(add_characters_3)\n",
    "harry_potter_dict\n"
   ]
  },
  {
   "cell_type": "code",
   "execution_count": null,
   "metadata": {},
   "outputs": [],
   "source": [
    "# Delete a key:value pair\n",
    "del harry_potter_dict[\"Minerva McGonagall\"]\n",
    "harry_potter_dict\n",
    "# Remove the last inserted item (Voldemort)\n",
    "harry_potter_dict.popitem()\n",
    "\n",
    "print(harry_potter_dict.pop(\"Voldemort\"))\n"
   ]
  },
  {
   "cell_type": "code",
   "execution_count": null,
   "metadata": {},
   "outputs": [],
   "source": [
    "# Return a default value if no key found in the dictionary\n",
    "print(harry_potter_dict.get(\"Voldemort\", \"Key not found\"))\n",
    "print(harry_potter_dict[\"Voldemort\"])\n",
    "\n",
    "# items(), keys(), and values()\n",
    "print(harry_potter_dict.items())\n",
    "print(harry_potter_dict.keys())\n",
    "print(harry_potter_dict.values())\n",
    "\n",
    "for key, value in harry_potter_dict.items():\n",
    "    print((key, value))"
   ]
  },
  {
   "cell_type": "code",
   "execution_count": 49,
   "metadata": {},
   "outputs": [
    {
     "name": "stdout",
     "output_type": "stream",
     "text": [
      "Counter({'Gryffindor': 5, 'Ravenclaw': 1, 'Slytherin': 1, 'Hufflepuff': 1})\n"
     ]
    }
   ],
   "source": [
    "from collections import Counter\n",
    "\n",
    "# Frequency of values\n",
    "counter = Counter(harry_potter_dict.values())\n",
    "print(counter)"
   ]
  },
  {
   "cell_type": "code",
   "execution_count": null,
   "metadata": {},
   "outputs": [],
   "source": [
    "# Dictionary of movies' runtimes\n",
    "runtimes = {}\n",
    "for movie in movies_dict[\"data\"]:\n",
    "    name = movie[1]\n",
    "    runtime = int(movie[3])\n",
    "    runtimes[name] = runtime\n",
    "\n",
    "# Display the runtimes\n",
    "print(runtimes)"
   ]
  },
  {
   "cell_type": "code",
   "execution_count": null,
   "metadata": {},
   "outputs": [],
   "source": [
    "{movie[1],rpund(movie[3]/60,2) for movie in movies_dict['data']}"
   ]
  },
  {
   "cell_type": "code",
   "execution_count": 58,
   "metadata": {},
   "outputs": [
    {
     "name": "stdout",
     "output_type": "stream",
     "text": [
      "{'Gryffindor': 31, 'Slytherin': 20, 'Ravenclaw': 12, 'Hufflepuff': 8, 'Beauxbatons Academy of Magic': 2, 'Durmstrang Institute': 2}\n"
     ]
    }
   ],
   "source": [
    "from csv import reader\n",
    "\n",
    "# Open and read the dataset\n",
    "opened_file_char = open(\"Characters.csv\", encoding=\"ISO-8859-1\")\n",
    "read_file_char = reader(opened_file_char)\n",
    "hp_characters = list(read_file_char)\n",
    "\n",
    "# Initialize an empty dictionary that will hold a frequency table\n",
    "houses = {}\n",
    "\n",
    "# Create a frequency table\n",
    "for character in hp_characters[1:]: # Note that we should not include the header in the looping; therefore, we start from index 1\n",
    "    house = character[4]\n",
    "    if house in houses:\n",
    "        houses[house] += 1\n",
    "    elif house == \"\":\n",
    "        continue\n",
    "    else:\n",
    "        houses[house] = 1\n",
    "\n",
    "print(houses)"
   ]
  },
  {
   "cell_type": "code",
   "execution_count": 60,
   "metadata": {},
   "outputs": [],
   "source": [
    "opened_file_movies = open(\"Movies.csv\", encoding=\"utf-8-sig\")\n",
    "read_file_movies = reader(opened_file_movies)\n",
    "movies = list(read_file_movies)"
   ]
  },
  {
   "cell_type": "code",
   "execution_count": 61,
   "metadata": {},
   "outputs": [
    {
     "data": {
      "text/plain": [
       "{'characters': [['Character ID',\n",
       "   'Character Name',\n",
       "   'Species',\n",
       "   'Gender',\n",
       "   'House',\n",
       "   'Patronus',\n",
       "   'Wand (Wood)',\n",
       "   'Wand (Core)'],\n",
       "  ['1',\n",
       "   'Harry Potter',\n",
       "   'Human',\n",
       "   'Male',\n",
       "   'Gryffindor',\n",
       "   'Stag',\n",
       "   'Holly',\n",
       "   'Phoenix Feather'],\n",
       "  ['2',\n",
       "   'Ron Weasley',\n",
       "   'Human',\n",
       "   'Male',\n",
       "   'Gryffindor',\n",
       "   'Jack Russell Terrier',\n",
       "   '',\n",
       "   ''],\n",
       "  ['3',\n",
       "   'Hermione Granger',\n",
       "   'Human',\n",
       "   'Female',\n",
       "   'Gryffindor',\n",
       "   'Otter',\n",
       "   'Vine',\n",
       "   'Dragon Heartstring'],\n",
       "  ['4',\n",
       "   'Albus Dumbledore',\n",
       "   'Human',\n",
       "   'Male',\n",
       "   'Gryffindor',\n",
       "   'Phoenix',\n",
       "   'Elder',\n",
       "   'Thestral Tail Hair'],\n",
       "  ['5',\n",
       "   'Rubeus Hagrid',\n",
       "   'Half-Human/Half-Giant',\n",
       "   'Male',\n",
       "   'Gryffindor',\n",
       "   '',\n",
       "   'Oak',\n",
       "   ''],\n",
       "  ['6', 'Severus Snape', 'Human', 'Male', 'Slytherin', 'Doe', '', ''],\n",
       "  ['7',\n",
       "   'Minerva McGonagall',\n",
       "   'Human',\n",
       "   'Female',\n",
       "   'Gryffindor',\n",
       "   'Cat',\n",
       "   'Fir',\n",
       "   'Dragon Heartstring'],\n",
       "  ['8',\n",
       "   'Horace Slughorn',\n",
       "   'Human',\n",
       "   'Male',\n",
       "   'Slytherin',\n",
       "   '',\n",
       "   'Cedar',\n",
       "   'Dragon Heartstring'],\n",
       "  ['9',\n",
       "   'Voldemort',\n",
       "   'Human',\n",
       "   'Male',\n",
       "   'Slytherin',\n",
       "   '',\n",
       "   'Yew',\n",
       "   'Phoenix Feather'],\n",
       "  ['10',\n",
       "   'Neville Longbottom',\n",
       "   'Human',\n",
       "   'Male',\n",
       "   'Gryffindor',\n",
       "   '',\n",
       "   'Cherry',\n",
       "   'Unicorn Hair'],\n",
       "  ['11',\n",
       "   'Remus Lupin',\n",
       "   'Werewolf',\n",
       "   'Male',\n",
       "   'Gryffindor',\n",
       "   'Wolf',\n",
       "   'Cypress',\n",
       "   'Unicorn Hair'],\n",
       "  ['12',\n",
       "   'Draco Malfoy',\n",
       "   'Human',\n",
       "   'Male',\n",
       "   'Slytherin',\n",
       "   '',\n",
       "   'Hawthorn',\n",
       "   'Unicorn Hair'],\n",
       "  ['13', 'Alastor Moody', 'Human', 'Male', '', '', '', ''],\n",
       "  ['14', 'Fred Weasley', 'Human', 'Male', 'Gryffindor', '', '', ''],\n",
       "  ['15',\n",
       "   'Dolores Umbridge',\n",
       "   'Human',\n",
       "   'Female',\n",
       "   'Slytherin',\n",
       "   'Cat',\n",
       "   'Birch',\n",
       "   'Dragon Heartstring'],\n",
       "  ['16', 'Arthur Weasley', 'Human', 'Male', 'Gryffindor', 'Weasel', '', ''],\n",
       "  ['17', 'Cornelius Fudge', 'Human', 'Male', '', '', '', ''],\n",
       "  ['18', 'Sirius Black', 'Human', 'Male', 'Gryffindor', '', '', ''],\n",
       "  ['19', 'George Weasley', 'Human', 'Male', 'Gryffindor', '', '', ''],\n",
       "  ['20', 'Ginny Weasley', 'Human', 'Female', 'Gryffindor', 'Horse', '', ''],\n",
       "  ['21', 'Vernon Dursley', 'Human', 'Male', '', '', '', ''],\n",
       "  ['22',\n",
       "   'Bellatrix Lestrange',\n",
       "   'Human',\n",
       "   'Female',\n",
       "   'Slytherin',\n",
       "   '',\n",
       "   'Walnut',\n",
       "   'Dragon Heartstring'],\n",
       "  ['23',\n",
       "   'Lucius Malfoy',\n",
       "   'Human',\n",
       "   'Male',\n",
       "   'Slytherin',\n",
       "   '',\n",
       "   'Elm',\n",
       "   'Dragon Heartstring'],\n",
       "  ['24',\n",
       "   'Tom Riddle',\n",
       "   'Human',\n",
       "   'Male',\n",
       "   'Slytherin',\n",
       "   '',\n",
       "   'Yew',\n",
       "   'Phoenix Feather'],\n",
       "  ['25', 'Luna Lovegood', 'Human', 'Female', 'Ravenclaw', 'Hare', '', ''],\n",
       "  ['26', 'Molly Weasley', 'Human', 'Female', 'Gryffindor', '', '', ''],\n",
       "  ['27', 'Dobby', 'House Elf', 'Male', '', '', '', ''],\n",
       "  ['28',\n",
       "   'Gilderoy Lockhart',\n",
       "   'Human',\n",
       "   'Male',\n",
       "   'Ravenclaw',\n",
       "   '',\n",
       "   'Cherry',\n",
       "   'Dragon Heartstring'],\n",
       "  ['29', 'Seamus Finnigan', 'Human', 'Male', 'Gryffindor', 'Fox', '', ''],\n",
       "  ['30', 'Griphook', 'Goblin', 'Male', '', '', '', ''],\n",
       "  ['31', 'Dudley Dursley', 'Human', 'Male', '', '', '', ''],\n",
       "  ['32', 'Petunia Dursley', 'Human', 'Female', '', '', '', ''],\n",
       "  ['33', 'Barty Crouch Sr.', 'Human', 'Male', '', '', '', ''],\n",
       "  ['34', 'Xenophilius Lovegood', 'Human', 'Male', '', '', '', ''],\n",
       "  ['35', 'Argus Filch', 'Human', 'Male', '', '', '', ''],\n",
       "  ['36', 'Cedric Diggory', 'Human', 'Male', 'Hufflepuff', '', '', ''],\n",
       "  ['37', 'Percy Weasley', 'Human', 'Male', 'Gryffindor', '', '', ''],\n",
       "  ['38',\n",
       "   'Sybill Trelawney',\n",
       "   'Human',\n",
       "   'Female',\n",
       "   'Ravenclaw',\n",
       "   '',\n",
       "   'Hazel',\n",
       "   'Unicorn Hair'],\n",
       "  ['39', 'Moaning Myrtle', 'Ghost', 'Female', 'Ravenclaw', '', '', ''],\n",
       "  ['40', 'Aberforth Dumbledore', 'Human', 'Male', '', 'Goat', '', ''],\n",
       "  ['41',\n",
       "   'Quirinus Quirrell',\n",
       "   'Human',\n",
       "   'Male',\n",
       "   'Ravenclaw',\n",
       "   '',\n",
       "   'Alder',\n",
       "   'Unicorn Hair'],\n",
       "  ['42',\n",
       "   'James Potter',\n",
       "   'Human',\n",
       "   'Male',\n",
       "   'Gryffindor',\n",
       "   'Stag',\n",
       "   'Mahogany',\n",
       "   ''],\n",
       "  ['43',\n",
       "   'Garrick Ollivander',\n",
       "   'Human',\n",
       "   'Male',\n",
       "   'Ravenclaw',\n",
       "   '',\n",
       "   'Hornbeam',\n",
       "   'Dragon Heartstring'],\n",
       "  ['44',\n",
       "   'Peter Pettigrew',\n",
       "   'Human',\n",
       "   'Male',\n",
       "   'Gryffindor',\n",
       "   '',\n",
       "   'Chestnut',\n",
       "   'Dragon Heartstring'],\n",
       "  ['45', 'Lily Potter', 'Human', 'Female', 'Gryffindor', 'Doe', 'Willow', ''],\n",
       "  ['46', 'Oliver Wood', 'Human', 'Male', 'Gryffindor', '', '', ''],\n",
       "  ['47', 'Nearly Headless Nick', 'Ghost', 'Human', 'Gryffindor', '', '', ''],\n",
       "  ['48', 'Kreacher', 'House Elf', 'Male', '', '', '', ''],\n",
       "  ['49', 'Igor Karkaroff', 'Human', 'Male', '', '', '', ''],\n",
       "  ['50', 'Rolanda Hooch', 'Human', 'Female', '', '', '', ''],\n",
       "  ['51', 'Rufus Scrimgeour', 'Human', 'Male', '', '', '', ''],\n",
       "  ['52', 'Lee Jordan', 'Human', 'Male', 'Gryffindor', '', '', ''],\n",
       "  ['53', 'Scabior', 'Human', 'Male', 'Slytherin', '', '', ''],\n",
       "  ['54', 'Helena Ravenclaw', 'Ghost', 'Female', 'Ravenclaw', '', '', ''],\n",
       "  ['55', 'Cho Chang', 'Human', 'Female', 'Ravenclaw', 'Swan', '', ''],\n",
       "  ['56', 'Kingsley Shacklebolt', 'Human', 'Male', '', 'Lynx', '', ''],\n",
       "  ['57', 'Rita Skeeter', 'Human', 'Female', '', '', '', ''],\n",
       "  ['58', 'Stanley Shunpike', 'Human', 'Male', '', '', '', ''],\n",
       "  ['59',\n",
       "   'Filius Flitwick',\n",
       "   'Human (Part-Goblin)',\n",
       "   'Male',\n",
       "   'Ravenclaw',\n",
       "   '',\n",
       "   '',\n",
       "   ''],\n",
       "  ['60', 'Marge Dursley', 'Human', 'Female', '', '', '', ''],\n",
       "  ['61',\n",
       "   'Nymphadora Tonks',\n",
       "   'Human',\n",
       "   'Female',\n",
       "   'Hufflepuff',\n",
       "   'Jack rabbit',\n",
       "   '',\n",
       "   ''],\n",
       "  ['62', 'Elphias Doge', 'Human', 'Male', '', '', '', ''],\n",
       "  ['63', 'Narcissa Malfoy', 'Human', 'Female', 'Slytherin', '', '', ''],\n",
       "  ['64', 'Bogrod', 'Goblin', 'Male', '', '', '', ''],\n",
       "  ['65', 'Lavender Brown', 'Human', 'Female', 'Gryffindor', '', '', ''],\n",
       "  ['66', 'Rosmerta', 'Human', 'Female', '', '', '', ''],\n",
       "  ['67', 'Amos Diggory', 'Human', 'Male', '', '', '', ''],\n",
       "  ['68', 'Aragog', 'Acromantula', 'Male', '', '', '', ''],\n",
       "  ['69',\n",
       "   'Olympe Maxime',\n",
       "   'Half-Human/Half-Giant',\n",
       "   'Female',\n",
       "   'Beauxbatons Academy of Magic',\n",
       "   '',\n",
       "   '',\n",
       "   ''],\n",
       "  ['70', 'Corban Yaxley', 'Human', 'Male', 'Slytherin', '', '', ''],\n",
       "  ['71', 'Cormac McLaggen', 'Human', 'Male', 'Gryffindor', '', '', ''],\n",
       "  ['72', 'Susan Bones', 'Human', 'Female', 'Hufflepuff', '', '', ''],\n",
       "  ['73',\n",
       "   'Bill Weasley',\n",
       "   'Human\\xa0(Werewolf\\xa0traits)',\n",
       "   'Male',\n",
       "   'Gryffindor',\n",
       "   '',\n",
       "   '',\n",
       "   ''],\n",
       "  ['74', 'Angelina Johnson', 'Human', 'Female', 'Gryffindor', '', '', ''],\n",
       "  ['75', 'Dean Thomas', 'Human', 'Male', 'Gryffindor', '', '', ''],\n",
       "  ['76', 'Mundungus Fletcher', 'Human', 'Male', '', '', '', ''],\n",
       "  ['77', 'Muriel', 'Human', 'Female', '', '', '', ''],\n",
       "  ['78', 'Parvati Patil', 'Human', 'Female', 'Gryffindor', '', '', ''],\n",
       "  ['79', 'Pomona Sprout', 'Human', 'Female', 'Hufflepuff', '', '', ''],\n",
       "  ['80', 'Vincent Crabbe', 'Human', 'Male', 'Slytherin', '', '', ''],\n",
       "  ['81',\n",
       "   'Fleur Delacour',\n",
       "   'Human (Quarter-Veela)',\n",
       "   'Female',\n",
       "   'Beauxbatons Academy of Magic',\n",
       "   '',\n",
       "   '',\n",
       "   ''],\n",
       "  ['82', 'Marcus Flint', 'Human', 'Male', 'Slytherin', '', '', ''],\n",
       "  ['83', 'Mary Cattermole', 'Human', 'Female', '', '', '', ''],\n",
       "  ['84', 'Albus Potter', 'Human', 'Male', 'Slytherin', '', '', ''],\n",
       "  ['85', 'Poppy Pomfrey', 'Human', 'Female', '', '', '', ''],\n",
       "  ['86', 'Serpent of Slitherin', 'Basilisk', 'Female', '', '', '', ''],\n",
       "  ['87', 'Firenze', 'Centaur', 'Male', '', '', '', ''],\n",
       "  ['88', 'Arabella Figg', 'Human', 'Female', '', '', '', ''],\n",
       "  ['89', 'Barty Crouch Jr.', 'Human', 'Male', '', '', '', ''],\n",
       "  ['90', 'Mrs. Cole', 'Human', 'Male', '', '', '', ''],\n",
       "  ['91', 'Pansy Parkinson', 'Human', 'Female', 'Slytherin', '', '', ''],\n",
       "  ['92', 'Tom', 'Human', 'Male', '', '', '', ''],\n",
       "  ['93', 'Grawp', 'Giant', 'Male', '', '', '', ''],\n",
       "  ['94', 'Katie Bell', 'Human', 'Female', 'Gryffindor', '', '', ''],\n",
       "  ['95', 'Mrs. Granger', 'Human', 'Female', '', '', '', ''],\n",
       "  ['96', 'Pius Thicknesse', 'Human', 'Male', '', '', '', ''],\n",
       "  ['97', 'Bane', 'Centaur', 'Male', '', '', '', ''],\n",
       "  ['98',\n",
       "   'Gellert Grindelwald',\n",
       "   'Human',\n",
       "   'Male',\n",
       "   'Durmstrang Institute',\n",
       "   '',\n",
       "   '',\n",
       "   ''],\n",
       "  ['99', 'Gregory Goyle', 'Human', 'Male', 'Slytherin', '', '', ''],\n",
       "  ['100', 'Leanne', 'Human', 'Female', 'Hufflepuff', '', '', ''],\n",
       "  ['101', 'Padma Patil', 'Human', 'Female', 'Ravenclaw', '', '', ''],\n",
       "  ['102', 'Fenrir Greyback', 'Werewolf', 'Male', '', '', '', ''],\n",
       "  ['103', 'Magorian', 'Centaur', 'Male', '', '', '', ''],\n",
       "  ['104', 'Bathilda Bagshot', 'Human', 'Female', '', '', '', ''],\n",
       "  ['105', 'Blaise Zabini', 'Human', 'Male', 'Slytherin', '', '', ''],\n",
       "  ['106', 'Colin Creevey', 'Human', 'Male', 'Gryffindor', '', '', ''],\n",
       "  ['107', 'Everard', 'Human', 'Male', '', '', '', ''],\n",
       "  ['108', 'Griselda Marchbanks', 'Human', 'Female', '', '', '', ''],\n",
       "  ['109', 'Justin Finch-Fletchley', 'Human', 'Male', 'Hufflepuff', '', '', ''],\n",
       "  ['110', 'Mr. Granger', 'Human', 'Male', '', '', '', ''],\n",
       "  ['111', 'Nigel Wolpert', 'Human', 'Male', 'Gryffindor', '', '', ''],\n",
       "  ['112', 'Perkins', 'Human', 'Male', '', '', '', ''],\n",
       "  ['113', 'Phineas', 'Human', 'Male', '', '', '', ''],\n",
       "  ['114', 'Viktor Krum', 'Human', 'Male', 'Durmstrang Institute', '', '', ''],\n",
       "  ['115', 'Walburga Black', 'Human', 'Female', 'Slytherin', '', '', ''],\n",
       "  ['116', 'Zacharias Smith', 'Human', 'Male', 'Hufflepuff', '', '', ''],\n",
       "  ['117', 'Bloody Baron', 'Ghost', 'Male', 'Slytherin', '', '', ''],\n",
       "  ['118', 'Ernest Macmillan', 'Human', 'Male', 'Hufflepuff', 'Boar', '', ''],\n",
       "  ['119', 'Michael Corner', 'Human', 'Male', 'Ravenclaw', 'Squirrel', '', ''],\n",
       "  ['120', 'Alecto Carrow', 'Human', 'Female', 'Slytherin', '', '', ''],\n",
       "  ['121', 'Charity Burbage', 'Human', 'Female', '', '', '', ''],\n",
       "  ['122', 'Dilys Derwent', 'Human', 'Female', '', '', '', ''],\n",
       "  ['123', 'Eldred Worple', 'Human', 'Male', '', '', '', ''],\n",
       "  ['124', 'Marcus Belby', 'Human', 'Male', 'Ravenclaw', '', '', ''],\n",
       "  ['125', 'Mykew Gregorovitch', 'Human', 'Male', '', '', '', ''],\n",
       "  ['126', 'Other', '', '', '', '', '', ''],\n",
       "  ['127', 'Students', '', '', '', '', '', ''],\n",
       "  ['128', 'Sorting Hat', '', '', '', '', '', ''],\n",
       "  ['129', 'Ghosts', '', '', '', '', '', ''],\n",
       "  ['130', 'Merpeople', '', '', '', '', '', ''],\n",
       "  ['131', 'Gang thug', '', '', '', '', '', ''],\n",
       "  ['132', 'Goblin', '', '', '', '', '', ''],\n",
       "  ['133', 'Station guard', '', '', '', '', '', ''],\n",
       "  ['134', 'Girl', '', '', '', '', '', ''],\n",
       "  ['135', 'Guard', '', '', '', '', '', ''],\n",
       "  ['136', 'All', '', '', '', '', '', ''],\n",
       "  ['137', 'Maid', '', '', '', '', '', ''],\n",
       "  ['138', 'Boy', '', '', '', '', '', ''],\n",
       "  ['139', 'Man', '', '', '', '', '', ''],\n",
       "  ['140', 'Woman', '', '', '', '', '', ''],\n",
       "  ['141', 'The Fat Lady', '', '', '', '', '', ''],\n",
       "  ['142', 'Snatcher', '', '', '', '', '', ''],\n",
       "  ['143', 'Wizard', '', '', '', '', '', ''],\n",
       "  ['144', 'Diary', '', '', '', '', '', ''],\n",
       "  ['145', 'Trolley witch', '', '', '', '', '', ''],\n",
       "  ['146', 'Waitress', '', '', '', '', '', ''],\n",
       "  ['147', 'Ghost', '', '', '', '', '', ''],\n",
       "  ['148', 'Howler', '', '', '', '', '', ''],\n",
       "  ['149', 'Old man', '', '', '', '', '', ''],\n",
       "  ['150', 'Shrunken head', '', '', '', '', '', ''],\n",
       "  ['151', 'Skinny kid', '', '', '', '', '', ''],\n",
       "  ['152', 'Snake', '', '', '', '', '', ''],\n",
       "  ['153', 'Witch', '', '', '', '', '', ''],\n",
       "  ['154', 'Class', '', '', '', '', '', ''],\n",
       "  ['155', 'Whomping Willow', '', '', '', '', '', ''],\n",
       "  ['156', 'Centaur', '', '', '', '', '', ''],\n",
       "  ['157', 'Death Eater', '', '', '', '', '', ''],\n",
       "  ['158', 'Man in a painting', '', '', '', '', '', ''],\n",
       "  ['159', 'Photographer', '', '', '', '', '', ''],\n",
       "  ['160', 'Pixie', '', '', '', '', '', ''],\n",
       "  ['161', 'Student', '', '', '', '', '', ''],\n",
       "  ['162', 'Waiter', '', '', '', '', '', ''],\n",
       "  ['163', 'Boy 2', '', '', '', '', '', ''],\n",
       "  ['164', 'Crowd', '', '', '', '', '', ''],\n",
       "  ['165', 'Gryffindors', '', '', '', '', '', ''],\n",
       "  ['166', 'Professors', '', '', '', '', '', '']],\n",
       " 'movies': [['Movie ID',\n",
       "   'Movie Title',\n",
       "   'Release Year',\n",
       "   'Runtime',\n",
       "   'Budget',\n",
       "   'Box Office'],\n",
       "  ['1',\n",
       "   \"Harry Potter and the Philosopher's Stone\",\n",
       "   '2001',\n",
       "   '152',\n",
       "   '$125,000,000 ',\n",
       "   '$1,002,000,000 '],\n",
       "  ['2',\n",
       "   'Harry Potter and the Chamber of Secrets',\n",
       "   '2002',\n",
       "   '161',\n",
       "   '$100,000,000 ',\n",
       "   '$880,300,000 '],\n",
       "  ['3',\n",
       "   'Harry Potter and the Prisoner of Azkaban',\n",
       "   '2004',\n",
       "   '142',\n",
       "   '$130,000,000 ',\n",
       "   '$796,700,000 '],\n",
       "  ['4',\n",
       "   'Harry Potter and the Goblet of Fire',\n",
       "   '2005',\n",
       "   '157',\n",
       "   '$150,000,000 ',\n",
       "   '$896,400,000 '],\n",
       "  ['5',\n",
       "   'Harry Potter and the Order of the Phoenix',\n",
       "   '2007',\n",
       "   '138',\n",
       "   '$150,000,000 ',\n",
       "   '$942,000,000 '],\n",
       "  ['6',\n",
       "   'Harry Potter and the Half-Blood Prince',\n",
       "   '2009',\n",
       "   '153',\n",
       "   '$250,000,000 ',\n",
       "   '$943,200,000 '],\n",
       "  ['7',\n",
       "   'Harry Potter and the Deathly Hallows Part 1',\n",
       "   '2010',\n",
       "   '146',\n",
       "   '$200,000,000 ',\n",
       "   '$976,900,000 '],\n",
       "  ['8',\n",
       "   'Harry Potter and the Deathly Hallows Part 2',\n",
       "   '2011',\n",
       "   '130',\n",
       "   '$250,000,000 ',\n",
       "   '$1,342,000,000 ']]}"
      ]
     },
     "execution_count": 61,
     "metadata": {},
     "output_type": "execute_result"
    }
   ],
   "source": [
    "hp_datasets = dict(characters=hp_characters, movies=movies)\n"
   ]
  },
  {
   "cell_type": "code",
   "execution_count": 65,
   "metadata": {},
   "outputs": [
    {
     "name": "stdout",
     "output_type": "stream",
     "text": [
      "[['Character ID', 'Character Name', 'Species', 'Gender', 'House', 'Patronus', 'Wand (Wood)', 'Wand (Core)'], ['1', 'Harry Potter', 'Human', 'Male', 'Gryffindor', 'Stag', 'Holly', 'Phoenix Feather'], ['2', 'Ron Weasley', 'Human', 'Male', 'Gryffindor', 'Jack Russell Terrier', '', ''], ['3', 'Hermione Granger', 'Human', 'Female', 'Gryffindor', 'Otter', 'Vine', 'Dragon Heartstring'], ['4', 'Albus Dumbledore', 'Human', 'Male', 'Gryffindor', 'Phoenix', 'Elder', 'Thestral Tail Hair'], ['5', 'Rubeus Hagrid', 'Half-Human/Half-Giant', 'Male', 'Gryffindor', '', 'Oak', ''], ['6', 'Severus Snape', 'Human', 'Male', 'Slytherin', 'Doe', '', ''], ['7', 'Minerva McGonagall', 'Human', 'Female', 'Gryffindor', 'Cat', 'Fir', 'Dragon Heartstring'], ['8', 'Horace Slughorn', 'Human', 'Male', 'Slytherin', '', 'Cedar', 'Dragon Heartstring'], ['9', 'Voldemort', 'Human', 'Male', 'Slytherin', '', 'Yew', 'Phoenix Feather'], ['10', 'Neville Longbottom', 'Human', 'Male', 'Gryffindor', '', 'Cherry', 'Unicorn Hair'], ['11', 'Remus Lupin', 'Werewolf', 'Male', 'Gryffindor', 'Wolf', 'Cypress', 'Unicorn Hair'], ['12', 'Draco Malfoy', 'Human', 'Male', 'Slytherin', '', 'Hawthorn', 'Unicorn Hair'], ['13', 'Alastor Moody', 'Human', 'Male', '', '', '', ''], ['14', 'Fred Weasley', 'Human', 'Male', 'Gryffindor', '', '', ''], ['15', 'Dolores Umbridge', 'Human', 'Female', 'Slytherin', 'Cat', 'Birch', 'Dragon Heartstring'], ['16', 'Arthur Weasley', 'Human', 'Male', 'Gryffindor', 'Weasel', '', ''], ['17', 'Cornelius Fudge', 'Human', 'Male', '', '', '', ''], ['18', 'Sirius Black', 'Human', 'Male', 'Gryffindor', '', '', ''], ['19', 'George Weasley', 'Human', 'Male', 'Gryffindor', '', '', ''], ['20', 'Ginny Weasley', 'Human', 'Female', 'Gryffindor', 'Horse', '', ''], ['21', 'Vernon Dursley', 'Human', 'Male', '', '', '', ''], ['22', 'Bellatrix Lestrange', 'Human', 'Female', 'Slytherin', '', 'Walnut', 'Dragon Heartstring'], ['23', 'Lucius Malfoy', 'Human', 'Male', 'Slytherin', '', 'Elm', 'Dragon Heartstring'], ['24', 'Tom Riddle', 'Human', 'Male', 'Slytherin', '', 'Yew', 'Phoenix Feather'], ['25', 'Luna Lovegood', 'Human', 'Female', 'Ravenclaw', 'Hare', '', ''], ['26', 'Molly Weasley', 'Human', 'Female', 'Gryffindor', '', '', ''], ['27', 'Dobby', 'House Elf', 'Male', '', '', '', ''], ['28', 'Gilderoy Lockhart', 'Human', 'Male', 'Ravenclaw', '', 'Cherry', 'Dragon Heartstring'], ['29', 'Seamus Finnigan', 'Human', 'Male', 'Gryffindor', 'Fox', '', ''], ['30', 'Griphook', 'Goblin', 'Male', '', '', '', ''], ['31', 'Dudley Dursley', 'Human', 'Male', '', '', '', ''], ['32', 'Petunia Dursley', 'Human', 'Female', '', '', '', ''], ['33', 'Barty Crouch Sr.', 'Human', 'Male', '', '', '', ''], ['34', 'Xenophilius Lovegood', 'Human', 'Male', '', '', '', ''], ['35', 'Argus Filch', 'Human', 'Male', '', '', '', ''], ['36', 'Cedric Diggory', 'Human', 'Male', 'Hufflepuff', '', '', ''], ['37', 'Percy Weasley', 'Human', 'Male', 'Gryffindor', '', '', ''], ['38', 'Sybill Trelawney', 'Human', 'Female', 'Ravenclaw', '', 'Hazel', 'Unicorn Hair'], ['39', 'Moaning Myrtle', 'Ghost', 'Female', 'Ravenclaw', '', '', ''], ['40', 'Aberforth Dumbledore', 'Human', 'Male', '', 'Goat', '', ''], ['41', 'Quirinus Quirrell', 'Human', 'Male', 'Ravenclaw', '', 'Alder', 'Unicorn Hair'], ['42', 'James Potter', 'Human', 'Male', 'Gryffindor', 'Stag', 'Mahogany', ''], ['43', 'Garrick Ollivander', 'Human', 'Male', 'Ravenclaw', '', 'Hornbeam', 'Dragon Heartstring'], ['44', 'Peter Pettigrew', 'Human', 'Male', 'Gryffindor', '', 'Chestnut', 'Dragon Heartstring'], ['45', 'Lily Potter', 'Human', 'Female', 'Gryffindor', 'Doe', 'Willow', ''], ['46', 'Oliver Wood', 'Human', 'Male', 'Gryffindor', '', '', ''], ['47', 'Nearly Headless Nick', 'Ghost', 'Human', 'Gryffindor', '', '', ''], ['48', 'Kreacher', 'House Elf', 'Male', '', '', '', ''], ['49', 'Igor Karkaroff', 'Human', 'Male', '', '', '', ''], ['50', 'Rolanda Hooch', 'Human', 'Female', '', '', '', ''], ['51', 'Rufus Scrimgeour', 'Human', 'Male', '', '', '', ''], ['52', 'Lee Jordan', 'Human', 'Male', 'Gryffindor', '', '', ''], ['53', 'Scabior', 'Human', 'Male', 'Slytherin', '', '', ''], ['54', 'Helena Ravenclaw', 'Ghost', 'Female', 'Ravenclaw', '', '', ''], ['55', 'Cho Chang', 'Human', 'Female', 'Ravenclaw', 'Swan', '', ''], ['56', 'Kingsley Shacklebolt', 'Human', 'Male', '', 'Lynx', '', ''], ['57', 'Rita Skeeter', 'Human', 'Female', '', '', '', ''], ['58', 'Stanley Shunpike', 'Human', 'Male', '', '', '', ''], ['59', 'Filius Flitwick', 'Human (Part-Goblin)', 'Male', 'Ravenclaw', '', '', ''], ['60', 'Marge Dursley', 'Human', 'Female', '', '', '', ''], ['61', 'Nymphadora Tonks', 'Human', 'Female', 'Hufflepuff', 'Jack rabbit', '', ''], ['62', 'Elphias Doge', 'Human', 'Male', '', '', '', ''], ['63', 'Narcissa Malfoy', 'Human', 'Female', 'Slytherin', '', '', ''], ['64', 'Bogrod', 'Goblin', 'Male', '', '', '', ''], ['65', 'Lavender Brown', 'Human', 'Female', 'Gryffindor', '', '', ''], ['66', 'Rosmerta', 'Human', 'Female', '', '', '', ''], ['67', 'Amos Diggory', 'Human', 'Male', '', '', '', ''], ['68', 'Aragog', 'Acromantula', 'Male', '', '', '', ''], ['69', 'Olympe Maxime', 'Half-Human/Half-Giant', 'Female', 'Beauxbatons Academy of Magic', '', '', ''], ['70', 'Corban Yaxley', 'Human', 'Male', 'Slytherin', '', '', ''], ['71', 'Cormac McLaggen', 'Human', 'Male', 'Gryffindor', '', '', ''], ['72', 'Susan Bones', 'Human', 'Female', 'Hufflepuff', '', '', ''], ['73', 'Bill Weasley', 'Human\\xa0(Werewolf\\xa0traits)', 'Male', 'Gryffindor', '', '', ''], ['74', 'Angelina Johnson', 'Human', 'Female', 'Gryffindor', '', '', ''], ['75', 'Dean Thomas', 'Human', 'Male', 'Gryffindor', '', '', ''], ['76', 'Mundungus Fletcher', 'Human', 'Male', '', '', '', ''], ['77', 'Muriel', 'Human', 'Female', '', '', '', ''], ['78', 'Parvati Patil', 'Human', 'Female', 'Gryffindor', '', '', ''], ['79', 'Pomona Sprout', 'Human', 'Female', 'Hufflepuff', '', '', ''], ['80', 'Vincent Crabbe', 'Human', 'Male', 'Slytherin', '', '', ''], ['81', 'Fleur Delacour', 'Human (Quarter-Veela)', 'Female', 'Beauxbatons Academy of Magic', '', '', ''], ['82', 'Marcus Flint', 'Human', 'Male', 'Slytherin', '', '', ''], ['83', 'Mary Cattermole', 'Human', 'Female', '', '', '', ''], ['84', 'Albus Potter', 'Human', 'Male', 'Slytherin', '', '', ''], ['85', 'Poppy Pomfrey', 'Human', 'Female', '', '', '', ''], ['86', 'Serpent of Slitherin', 'Basilisk', 'Female', '', '', '', ''], ['87', 'Firenze', 'Centaur', 'Male', '', '', '', ''], ['88', 'Arabella Figg', 'Human', 'Female', '', '', '', ''], ['89', 'Barty Crouch Jr.', 'Human', 'Male', '', '', '', ''], ['90', 'Mrs. Cole', 'Human', 'Male', '', '', '', ''], ['91', 'Pansy Parkinson', 'Human', 'Female', 'Slytherin', '', '', ''], ['92', 'Tom', 'Human', 'Male', '', '', '', ''], ['93', 'Grawp', 'Giant', 'Male', '', '', '', ''], ['94', 'Katie Bell', 'Human', 'Female', 'Gryffindor', '', '', ''], ['95', 'Mrs. Granger', 'Human', 'Female', '', '', '', ''], ['96', 'Pius Thicknesse', 'Human', 'Male', '', '', '', ''], ['97', 'Bane', 'Centaur', 'Male', '', '', '', ''], ['98', 'Gellert Grindelwald', 'Human', 'Male', 'Durmstrang Institute', '', '', ''], ['99', 'Gregory Goyle', 'Human', 'Male', 'Slytherin', '', '', ''], ['100', 'Leanne', 'Human', 'Female', 'Hufflepuff', '', '', ''], ['101', 'Padma Patil', 'Human', 'Female', 'Ravenclaw', '', '', ''], ['102', 'Fenrir Greyback', 'Werewolf', 'Male', '', '', '', ''], ['103', 'Magorian', 'Centaur', 'Male', '', '', '', ''], ['104', 'Bathilda Bagshot', 'Human', 'Female', '', '', '', ''], ['105', 'Blaise Zabini', 'Human', 'Male', 'Slytherin', '', '', ''], ['106', 'Colin Creevey', 'Human', 'Male', 'Gryffindor', '', '', ''], ['107', 'Everard', 'Human', 'Male', '', '', '', ''], ['108', 'Griselda Marchbanks', 'Human', 'Female', '', '', '', ''], ['109', 'Justin Finch-Fletchley', 'Human', 'Male', 'Hufflepuff', '', '', ''], ['110', 'Mr. Granger', 'Human', 'Male', '', '', '', ''], ['111', 'Nigel Wolpert', 'Human', 'Male', 'Gryffindor', '', '', ''], ['112', 'Perkins', 'Human', 'Male', '', '', '', ''], ['113', 'Phineas', 'Human', 'Male', '', '', '', ''], ['114', 'Viktor Krum', 'Human', 'Male', 'Durmstrang Institute', '', '', ''], ['115', 'Walburga Black', 'Human', 'Female', 'Slytherin', '', '', ''], ['116', 'Zacharias Smith', 'Human', 'Male', 'Hufflepuff', '', '', ''], ['117', 'Bloody Baron', 'Ghost', 'Male', 'Slytherin', '', '', ''], ['118', 'Ernest Macmillan', 'Human', 'Male', 'Hufflepuff', 'Boar', '', ''], ['119', 'Michael Corner', 'Human', 'Male', 'Ravenclaw', 'Squirrel', '', ''], ['120', 'Alecto Carrow', 'Human', 'Female', 'Slytherin', '', '', ''], ['121', 'Charity Burbage', 'Human', 'Female', '', '', '', ''], ['122', 'Dilys Derwent', 'Human', 'Female', '', '', '', ''], ['123', 'Eldred Worple', 'Human', 'Male', '', '', '', ''], ['124', 'Marcus Belby', 'Human', 'Male', 'Ravenclaw', '', '', ''], ['125', 'Mykew Gregorovitch', 'Human', 'Male', '', '', '', ''], ['126', 'Other', '', '', '', '', '', ''], ['127', 'Students', '', '', '', '', '', ''], ['128', 'Sorting Hat', '', '', '', '', '', ''], ['129', 'Ghosts', '', '', '', '', '', ''], ['130', 'Merpeople', '', '', '', '', '', ''], ['131', 'Gang thug', '', '', '', '', '', ''], ['132', 'Goblin', '', '', '', '', '', ''], ['133', 'Station guard', '', '', '', '', '', ''], ['134', 'Girl', '', '', '', '', '', ''], ['135', 'Guard', '', '', '', '', '', ''], ['136', 'All', '', '', '', '', '', ''], ['137', 'Maid', '', '', '', '', '', ''], ['138', 'Boy', '', '', '', '', '', ''], ['139', 'Man', '', '', '', '', '', ''], ['140', 'Woman', '', '', '', '', '', ''], ['141', 'The Fat Lady', '', '', '', '', '', ''], ['142', 'Snatcher', '', '', '', '', '', ''], ['143', 'Wizard', '', '', '', '', '', ''], ['144', 'Diary', '', '', '', '', '', ''], ['145', 'Trolley witch', '', '', '', '', '', ''], ['146', 'Waitress', '', '', '', '', '', ''], ['147', 'Ghost', '', '', '', '', '', ''], ['148', 'Howler', '', '', '', '', '', ''], ['149', 'Old man', '', '', '', '', '', ''], ['150', 'Shrunken head', '', '', '', '', '', ''], ['151', 'Skinny kid', '', '', '', '', '', ''], ['152', 'Snake', '', '', '', '', '', ''], ['153', 'Witch', '', '', '', '', '', ''], ['154', 'Class', '', '', '', '', '', ''], ['155', 'Whomping Willow', '', '', '', '', '', ''], ['156', 'Centaur', '', '', '', '', '', ''], ['157', 'Death Eater', '', '', '', '', '', ''], ['158', 'Man in a painting', '', '', '', '', '', ''], ['159', 'Photographer', '', '', '', '', '', ''], ['160', 'Pixie', '', '', '', '', '', ''], ['161', 'Student', '', '', '', '', '', ''], ['162', 'Waiter', '', '', '', '', '', ''], ['163', 'Boy 2', '', '', '', '', '', ''], ['164', 'Crowd', '', '', '', '', '', ''], ['165', 'Gryffindors', '', '', '', '', '', ''], ['166', 'Professors', '', '', '', '', '', '']]\n"
     ]
    }
   ],
   "source": [
    "print(hp_datasets['characters'])\n"
   ]
  },
  {
   "cell_type": "code",
   "execution_count": null,
   "metadata": {},
   "outputs": [],
   "source": []
  }
 ],
 "metadata": {
  "kernelspec": {
   "display_name": "Python 3",
   "language": "python",
   "name": "python3"
  },
  "language_info": {
   "codemirror_mode": {
    "name": "ipython",
    "version": 3
   },
   "file_extension": ".py",
   "mimetype": "text/x-python",
   "name": "python",
   "nbconvert_exporter": "python",
   "pygments_lexer": "ipython3",
   "version": "3.9.2"
  }
 },
 "nbformat": 4,
 "nbformat_minor": 2
}
