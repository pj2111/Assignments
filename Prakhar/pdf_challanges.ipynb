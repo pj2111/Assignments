{
 "cells": [
  {
   "attachments": {},
   "cell_type": "markdown",
   "metadata": {},
   "source": [
    "Chapter: 1\n",
    "Saying Hello\n",
    "The “Hello, World” program is the first program you learn\n",
    "to write in many languages, but it doesn’t involve any input.\n",
    "So create a program that prompts for your name and prints\n",
    "a greeting using your name.\n",
    "\n",
    "Example Output\n",
    "What is your name? Brian\n",
    "Hello, Brian, nice to meet you!\n",
    "Constraint\n",
    "• Keep the input, string concatenation, and output sepa-\n",
    "\n",
    "\n",
    "Chapter: 2\n",
    "Counting the Number of Characters\n",
    "Create a program that prompts for an input string and dis-\n",
    "plays output that shows the input string and the number of\n",
    "characters the string contains.\n",
    "\n",
    "Example Output\n",
    "What is the input string? Homer\n",
    "Homer has 5 characters.\n",
    "\n",
    "Constraints\n",
    "• Be sure the output contains the original string.\n",
    "• Use a single output statement to construct the output.\n",
    "• Use a built-in function of the programming language to"
   ]
  },
  {
   "cell_type": "code",
   "execution_count": 2,
   "metadata": {},
   "outputs": [
    {
     "name": "stdout",
     "output_type": "stream",
     "text": [
      "Prakhar Hello, Prakhar, nice to meet you!\n"
     ]
    }
   ],
   "source": [
    "p1 = input(\"What is your name?\")\n",
    "\n",
    "print(f\"{p1} Hello, {p1}, nice to meet you!\")"
   ]
  },
  {
   "cell_type": "code",
   "execution_count": 3,
   "metadata": {},
   "outputs": [
    {
     "name": "stdout",
     "output_type": "stream",
     "text": [
      "Homer Homer has 5 characters.\n"
     ]
    }
   ],
   "source": [
    "p2 = input(\"What is the input string?\")\n",
    "print(f\"{p2} {p2} has {len(p2)} characters.\")"
   ]
  },
  {
   "attachments": {},
   "cell_type": "markdown",
   "metadata": {},
   "source": [
    "\n",
    "Chapter: 3\n",
    "Printing Quotes\n",
    "Quotation marks are often used to denote the start and end\n",
    "of a string. But sometimes we need to print out the quotation\n",
    "marks themselves by using\n",
    "Create a program that prompts for a quote and an author.\n",
    "Display the quotation and author as shown in the example\n",
    "output.\n",
    "\n",
    "Example Output\n",
    "What is the quote? These aren't the droids you're looking for.\n",
    "Who said it? Obi-Wan Kenobi\n",
    "Obi-Wan Kenobi says, \"These aren't the droids\n",
    "you're looking for.\"\n",
    "\n",
    "Constraints\n",
    "• Use a single output statement to produce this output,\n",
    "using appropriate string-escaping techniques for quotes.\n",
    "• If your language supports string interpolation or string\n",
    "substitution, don’t use it for this exercise. Use string\n",
    "\n",
    "\n",
    "Chapter: 4\n",
    "Mad Lib\n",
    "Mad libs are a simple game where you create a story tem-\n",
    "plate with blanks for words. You, or another player, then\n",
    "construct a list of words and place them into the story, cre-\n",
    "ating an often silly or funny story as a result.\n",
    "Create a simple mad-lib program that prompts for a noun,\n",
    "a verb, an adverb, and an adjective and injects those into a\n",
    "story that you create.\n",
    "\n",
    "Example Output\n",
    "Enter a noun: dog\n",
    "Enter a verb: walk\n",
    "Enter an adjective: blue\n",
    "Enter an adverb: quickly\n",
    "Do you walk your blue dog quickly? That's hilarious!\n",
    "\n",
    "Constraints\n",
    "• Use a single output statement for this program.\n",
    "• If your language supports string interpolation or string\n",
    "\n",
    "\n",
    "Chapter: 5\n",
    "Simple Math\n",
    "You’ll often write programs that deal with numbers. And\n",
    "depending on the programming language you use, you’ll\n",
    "have to convert the inputs you get to numerical data types.\n",
    "Write a program that prompts for two numbers. Print the\n",
    "sum, difference, product, and quotient of those numbers as\n",
    "shown in the example output:\n",
    "\n",
    "Example Output\n",
    "What is the first number? 10\n",
    "What is the second number? 5\n",
    "10 + 5 = 15\n",
    "10 - 5 = 5\n",
    "10 * 5 = 50\n",
    "10 / 5 = 2\n",
    "\n",
    "Constraints\n",
    "• Values coming from users will be strings. Ensure that\n",
    "you convert these values to numbers before doing the\n",
    "math.\n",
    "• Keep the inputs and outputs separate from the numerical\n",
    "conversions and other processing.\n",
    "• Generate a single output statement with line breaks in"
   ]
  },
  {
   "cell_type": "code",
   "execution_count": 6,
   "metadata": {},
   "outputs": [
    {
     "name": "stdout",
     "output_type": "stream",
     "text": [
      "Obi Wan says,\"These aren't the droids you're looking for\"\n"
     ]
    }
   ],
   "source": [
    "q1=input(\"What is the quote? \")\n",
    "a1 = input(\"Who said it? \")\n",
    "print(f'''{a1} says,\"{q1}\"''')"
   ]
  },
  {
   "cell_type": "code",
   "execution_count": 8,
   "metadata": {},
   "outputs": [
    {
     "name": "stdout",
     "output_type": "stream",
     "text": [
      "Do you blue your walk Dog fast? That's hilarious!\n"
     ]
    }
   ],
   "source": [
    "n1 = input(\"Enter a noun\")\n",
    "v1 = input(\"Enter a verb\")\n",
    "adj1 = input(\"Enter a adjective\")\n",
    "adv1 = input(\"Enter a adverb\")\n",
    "\n",
    "print(f\"Do you {v1} your {adj1} {n1} {adv1}? That's hilarious!\")"
   ]
  },
  {
   "cell_type": "code",
   "execution_count": 9,
   "metadata": {},
   "outputs": [
    {
     "name": "stdout",
     "output_type": "stream",
     "text": [
      " 10 + 5 = 15 \n",
      " 10 - 5 = 8 \n",
      " 10 * 5 = 50 \n",
      " 10 / 5 = 2.0 \n",
      " \n"
     ]
    }
   ],
   "source": [
    "n1 = int(input(\"What is the first number? \"))\n",
    "n2 = int(input(\"What is the second number? \"))\n",
    "\n",
    "print (f\" {n1} + {n2} = {n1+n2} \\n {n1} - {n2} = {n1-2} \\n {n1} * {n2} = {n1*n2} \\n {n1} / {n2} = {n1/n2} \\n \")\n"
   ]
  },
  {
   "attachments": {},
   "cell_type": "markdown",
   "metadata": {},
   "source": [
    "\n",
    "Chapter: 6\n",
    "Retirement Calculator\n",
    "Your computer knows what the current year is, which means\n",
    "you can incorporate that into your programs. You just have\n",
    "to figure out how your programming language can provide\n",
    "you with that information.\n",
    "Create a program that determines how many years you have\n",
    "left until retirement and the year you can retire. It should\n",
    "prompt for your current age and the age you want to retire\n",
    "and display the output as shown in the example that follows.\n",
    "\n",
    "Example Output\n",
    "What is your current age? 25\n",
    "At what age would you like to retire? 65\n",
    "You have 40 years left until you can retire.\n",
    "It's 2015, so you can retire in 2055.\n",
    "\n",
    "Constraints\n",
    "• Again, be sure to convert the input to numerical data\n",
    "before doing any math.\n",
    "• Don’t hard-code the current year into your program.\n",
    "Get it from the system time via your programming lan-\n",
    "\n",
    "\n",
    "Chapter: 7\n",
    "Area of a Rectangular Room\n",
    "When working in a global environment, you’ll have to\n",
    "present information in both metric and Imperial units. And\n",
    "you’ll need to know when to do the conversion to ensure\n",
    "the most accurate results.\n",
    "Create a program that calculates the area of a room. Prompt\n",
    "the user for the length and width of the room in feet. Then\n",
    "display the area in both square feet and square meters.\n",
    "\n",
    "Example Output\n",
    "What is the length of the room in feet? 15\n",
    "What is the width of the room in feet? 20\n",
    "You entered dimensions of 15 feet by 20 feet.\n",
    "The area is\n",
    "300 square feet\n",
    "27.871 square meters\n",
    "The formula for this conversion is\n",
    "m\n",
    "\n",
    "Constraints\n",
    "• Keep the calculations separate from the output.\n",
    "\n",
    "\n",
    "Chapter: 8\n",
    "Pizza Party\n",
    "Division isn’t always exact, and sometimes you’ll write\n",
    "programs that will need to deal with the leftovers as a whole\n",
    "number instead of a decimal.\n",
    "Write a program to evenly divide pizzas. Prompt for the\n",
    "number of people, the number of pizzas, and the number of\n",
    "slices per pizza. Ensure that the number of pieces comes out\n",
    "even. Display the number of pieces of pizza each person\n",
    "should get. If there are leftovers, show the number of leftover\n",
    "pieces.\n",
    "\n",
    "Example Output\n",
    "How many people? 8\n",
    "How many pizzas do you have? 2\n",
    "8 people with 2 pizzas\n",
    "Each person gets 2 pieces of pizza.\n",
    "\n",
    "\n",
    "Chapter: 9\n",
    "Paint Calculator\n",
    "Sometimes you have to round up to the next number rather\n",
    "than follow standard rounding rules.\n",
    "Calculate gallons of paint needed to paint the ceiling of a\n",
    "room. Prompt for the length and width, and assume one\n",
    "gallon covers 350 square feet. Display the number of gallons\n",
    "needed to paint the ceiling as a\n",
    "\n",
    "Example Output\n",
    "You will need to purchase 2 gallons of\n",
    "paint to cover 360 square feet.\n",
    "Remember, you can’t buy a partial gallon of paint. You must\n",
    "round up to the next whole gallon.\n",
    "\n",
    "Constraints\n",
    "• Use a constant to hold the conversion rate.\n",
    "\n",
    "\n",
    "Chapter: 10\n",
    "Self-Checkout\n",
    "Working with multiple inputs and currency can introduce\n",
    "some tricky precision issues.\n",
    "Create a simple self-checkout system. Prompt for the prices\n",
    "and quantities of three items. Calculate the subtotal of the\n",
    "items. Then calculate the tax using a tax rate of 5.5%. Print\n",
    "out the line items with the quantity and total, and then print\n",
    "out the subtotal, tax amount, and total.\n",
    "\n",
    "Example Output\n",
    "Enter the price of item 1: 25\n",
    "Enter the quantity of item 1: 2\n",
    "Enter the price of item 2: 10\n",
    "Enter the quantity of item 2: 1\n",
    "Enter the price of item 3: 4\n",
    "Enter the quantity of item 3: 1\n",
    "Subtotal: $64.00\n",
    "Tax: $3.52\n",
    "Total: $67.52\n",
    "\n",
    "Constraints\n",
    "• Keep the input, processing, and output parts of your\n",
    "program separate. Collect the input, then do the math\n",
    "operations and string building, and then print out the\n",
    "output.\n",
    "• Be sure you explicitly convert input to numerical data\n",
    "\n"
   ]
  },
  {
   "cell_type": "code",
   "execution_count": 11,
   "metadata": {},
   "outputs": [
    {
     "name": "stdout",
     "output_type": "stream",
     "text": [
      "You have 23 years left until you can retire. It's 2024, so you can retire in 2079\n"
     ]
    }
   ],
   "source": [
    "from datetime import date\n",
    "\n",
    "yr = date.today().year\n",
    "age = int(input(\"What is your current age? \"))\n",
    "ret_age = int(input(\"What age would you want to retire? \"))\n",
    "print(f\"You have {ret_age-age} years left until you can retire. It's {yr}, so you can retire in {yr+ret_age}\")"
   ]
  },
  {
   "cell_type": "code",
   "execution_count": 13,
   "metadata": {},
   "outputs": [
    {
     "name": "stdout",
     "output_type": "stream",
     "text": [
      "The area is\n",
      " 300.0 square feet\n",
      " 27.869999999999997 square meters \n",
      " The formula for this conversion is\n",
      " area*0.0929 \n"
     ]
    }
   ],
   "source": [
    "len = float(input(\"What is the length of the room in ft?\"))\n",
    "wid = float(input(\"What is the width of the room in ft?\"))\n",
    "area = len*wid\n",
    "area_mt = area*0.0929\n",
    "print(f\"The area is\\n {area} square feet\\n {area_mt} square meters \\n The formula for this conversion is\\n area*0.0929 \")"
   ]
  },
  {
   "cell_type": "code",
   "execution_count": 18,
   "metadata": {},
   "outputs": [
    {
     "name": "stdout",
     "output_type": "stream",
     "text": [
      "3 people with 2 pizzas\n",
      " Each person gets 2 pieces of pizza. \n",
      " There are 2 leftover pieces.\n"
     ]
    }
   ],
   "source": [
    "ppl = int(input(\"How many ppl? \"))\n",
    "piz = int(input(\"How many pizza? \"))\n",
    "slc = int(input(\"How many slices per pizza? \"))\n",
    "\n",
    "rem = (piz*slc)%ppl\n",
    "\n",
    "print(f\" {ppl} people with {piz} pizzas\\n Each person gets {int(piz*slc/ppl)} pieces of pizza. \\n There are {rem} leftover pieces.\")"
   ]
  },
  {
   "cell_type": "code",
   "execution_count": 36,
   "metadata": {},
   "outputs": [
    {
     "name": "stdout",
     "output_type": "stream",
     "text": [
      "Subtotal = $64\n",
      "Tax = $3.52\n",
      "Total =$67.52\n"
     ]
    }
   ],
   "source": [
    "l1 = [0,0,0]\n",
    "l2 = [0,0,0]\n",
    "\n",
    "for i in range(3):\n",
    "    l1[i] = int(input(f\"Enter price of item {i+1}\"))\n",
    "    l2[i] = int(input(f\"Enter quantity of item {i+1}\"))\n",
    "stot=sum(i*j for i,j in zip(l1,l2))\n",
    "print(f\"Subtotal = ${stot}\\nTax = ${stot*0.055}\\nTotal =${stot*1.055}\")"
   ]
  },
  {
   "attachments": {},
   "cell_type": "markdown",
   "metadata": {},
   "source": [
    "\n",
    "Chapter: 11\n",
    "Currency Conversion\n",
    "At some point, you might have to deal with currency\n",
    "exchange rates, and you’ll need to ensure your calculations\n",
    "are as precise as possible.\n",
    "Write a program that converts currency. Specifically, convert\n",
    "euros to U.S. dollars. Prompt for the amount of money in\n",
    "euros you have, and prompt for the current exchange rate\n",
    "of the euro. Print out the new amount in U.S. dollars. The\n",
    "formula for currency conversion is\n",
    "amount\n",
    "amount\n",
    "from\n",
    "× rate\n",
    "from\n",
    "rateto\n",
    "where\n",
    "•\n",
    "•\n",
    "•\n",
    "•\n",
    "\n",
    "Example Output\n",
    "How many euros are you exchanging? 81\n",
    "What is the exchange rate? 137.51\n",
    "81 euros at an exchange rate of 137.51 is\n",
    "111.38 U.S. dollars.\n",
    "\n",
    "Constraints\n",
    "• Ensure that fractions of a cent are rounded up to the\n",
    "next penny.\n",
    "\n",
    "\n",
    "Chapter: 12\n",
    "Computing Simple Interest\n",
    "Computing simple interest is a great way to quickly figure\n",
    "out whether an investment has value. It’s also a good way\n",
    "to get comfortable with explicitly coding the order of opera-\n",
    "tions in your programs.\n",
    "Create a program that computes simple interest. Prompt for\n",
    "the principal amount, the rate as a percentage, and the time,\n",
    "and display the amount accrued (principal + interest).\n",
    "The formula for simple interest is\n",
    "the principal amount,\n",
    "number of years the amount is invested, and\n",
    "at the end of the investment.\n",
    "\n",
    "Example Output\n",
    "Enter the principal: 1500\n",
    "Enter the rate of interest: 4.3\n",
    "Enter the number of years: 4\n",
    "After 4 years at 4.3%, the investment will\n",
    "be worth $1758.\n",
    "\n",
    "Constraints\n",
    "• Prompt for the rate as a percentage (like\n",
    "Divide the input by 100 in your program.\n",
    "• Ensure that fractions of a cent are rounded up to the\n",
    "next penny.\n",
    "\n",
    "\n",
    "Chapter: 13\n",
    "Determining Compound Interest\n",
    "Simple interest is something you use only when making a\n",
    "quick guess. Most investments use a compound interest\n",
    "formula, which will be much more accurate. And this formu-\n",
    "la requires you to incorporate exponents into your programs.\n",
    "Write a program to compute the value of an investment\n",
    "compounded over time. The program should ask for the\n",
    "starting amount, the number of years to invest, the interest\n",
    "rate, and the number of periods per year to compound.\n",
    "The formula you’ll use for this is\n",
    "A = P\n",
    "r\n",
    "n\n",
    "nt\n",
    "where\n",
    "•\n",
    "•\n",
    "•\n",
    "•\n",
    "year.\n",
    "•\n",
    "\n",
    "Example Output\n",
    "What is the principal amount? 1500\n",
    "What is the rate? 4.3\n",
    "What is the number of years? 6\n",
    "What is the number of times the interest\n",
    "is compounded per year? 4\n",
    "$1500 invested at 4.3% for 6 years\n",
    "compounded 4 times per year is $1938.84.\n",
    "\n",
    "Constraints\n",
    "• Prompt for the rate as a percentage (like\n",
    "Divide the input by 100 in your program.\n",
    "• Ensure that fractions of a cent are rounded up to the\n",
    "next penny.\n",
    "• Ensure that the output is formatted as money.\n",
    "report erratum  •  discuss\n",
    "\n",
    "\n",
    "Chapter: 14\n",
    "Tax Calculator\n",
    "You don’t always need a complex control structure to solve\n",
    "simple problems. Sometimes a program requires an extra\n",
    "step in one case, but in all other cases there’s nothing to do.\n",
    "Write a simple program to compute the tax on an order\n",
    "amount. The program should prompt for the order amount\n",
    "and the state. If the state is “WI,” then the order must be\n",
    "charged 5.5% tax. The program should display the subtotal,\n",
    "tax, and total for Wisconsin residents but display just the\n",
    "total for non-residents.\n",
    "\n",
    "Example Output\n",
    "What is the order amount? 10\n",
    "What is the state? WI\n",
    "The subtotal is $10.00.\n",
    "The tax is $0.55.\n",
    "The total is $10.55.\n",
    "Or\n",
    "What is the order amount? 10\n",
    "What is the state? MN\n",
    "The total is $10.00\n",
    "\n",
    "Constraints\n",
    "• Implement this program using only a simple\n",
    "ment—don’t use an\n",
    "• Ensure that all money is rounded up to the nearest cent.\n",
    "• Use a single output statement at the end of the program\n",
    "\n",
    "\n",
    "Chapter: 15\n",
    "Password Validation\n",
    "Passwords are validated by comparing a user-provided\n",
    "value with a known value that’s stored. Either it’s correct or\n",
    "it’s not.\n",
    "Create a simple program that validates user login credentials.\n",
    "The program must prompt the user for a username and\n",
    "password. The program should compare the password given\n",
    "by the user to a known password. If the password matches,\n",
    "the program should display “Welcome!” If it doesn’t match,\n",
    "the program should display “I don’t know you.”\n",
    "\n",
    "Example Output\n",
    "What is the password? 12345\n",
    "I don't know you.\n",
    "Or\n",
    "What is the password? abc$123\n",
    "Welcome!\n",
    "\n",
    "Constraints\n",
    "• Use an\n"
   ]
  },
  {
   "cell_type": "code",
   "execution_count": 3,
   "metadata": {},
   "outputs": [
    {
     "data": {
      "text/plain": [
       "'Wed Apr 17 07:42:30 2024'"
      ]
     },
     "execution_count": 3,
     "metadata": {},
     "output_type": "execute_result"
    }
   ],
   "source": [
    "# Timing while solving the problems\n",
    "import time\n",
    "time.ctime()"
   ]
  },
  {
   "cell_type": "code",
   "execution_count": 8,
   "metadata": {},
   "outputs": [
    {
     "name": "stdout",
     "output_type": "stream",
     "text": [
      "81 euros at an exchange rate of 137 is\n",
      "11097 U.S dolars.\n"
     ]
    }
   ],
   "source": [
    "# Currency Exchange rate\n",
    "eur = int(input(\"How many euros are exchanging? \"))\n",
    "rate = int(input(\"What is the exchange rate? \"))\n",
    "print(f\"{eur} euros at an exchange rate of {rate} is\\n{eur*rate} U.S dolars.\")"
   ]
  },
  {
   "cell_type": "code",
   "execution_count": 9,
   "metadata": {},
   "outputs": [
    {
     "data": {
      "text/plain": [
       "'Wed Apr 17 07:51:31 2024'"
      ]
     },
     "execution_count": 9,
     "metadata": {},
     "output_type": "execute_result"
    }
   ],
   "source": [
    "time.ctime()"
   ]
  },
  {
   "cell_type": "code",
   "execution_count": 10,
   "metadata": {},
   "outputs": [
    {
     "name": "stdout",
     "output_type": "stream",
     "text": [
      "Wed Apr 17 08:36:13 2024\n"
     ]
    }
   ],
   "source": [
    "t1 = time.ctime()\n",
    "print(t1)"
   ]
  },
  {
   "cell_type": "code",
   "execution_count": 12,
   "metadata": {},
   "outputs": [
    {
     "name": "stdout",
     "output_type": "stream",
     "text": [
      "After 4.0 years at 4.3%, the investment will be worth $1758.0\n"
     ]
    }
   ],
   "source": [
    "p = float(input(\"Enter the principal: \"))\n",
    "r = float(input(\"Enter the rate of interest: \"))\n",
    "t = float(input(\"Enter the number of years: \"))\n",
    "\n",
    "print(f\"After {t} years at {r}%, the investment will be worth ${p+p*r*t/100}\")"
   ]
  },
  {
   "cell_type": "code",
   "execution_count": 15,
   "metadata": {},
   "outputs": [
    {
     "name": "stdout",
     "output_type": "stream",
     "text": [
      "Wed Apr 17 08:43:11 2024 total time taken\n"
     ]
    }
   ],
   "source": [
    "t2 = time.ctime()\n",
    "print(f'{t2} total time taken')"
   ]
  },
  {
   "cell_type": "code",
   "execution_count": 16,
   "metadata": {},
   "outputs": [
    {
     "name": "stdout",
     "output_type": "stream",
     "text": [
      "1713461347.8839948 is Thu Apr 18 22:59:07 2024\n"
     ]
    }
   ],
   "source": [
    "t1 = time.time()\n",
    "print(f\"{t1} is {time.ctime()}\")"
   ]
  },
  {
   "cell_type": "code",
   "execution_count": 20,
   "metadata": {},
   "outputs": [
    {
     "name": "stdout",
     "output_type": "stream",
     "text": [
      "After 6.0 years at 4.3%, the investment will be worth $1938.84\n"
     ]
    }
   ],
   "source": [
    "# Compound Interest\n",
    "p = float(input(\"Enter the principal: \"))\n",
    "r = float(input(\"Enter the rate of interest: \"))\n",
    "t = float(input(\"Enter the number of years: \"))\n",
    "n = float(input(\"What is the number of times the interest is compounded per year? \"))\n",
    "\n",
    "print(f\"After {t} years at {r}%, the investment will be worth ${round(p*(1+r/(n*100))**(n*t),2)}\")"
   ]
  },
  {
   "cell_type": "code",
   "execution_count": 24,
   "metadata": {},
   "outputs": [
    {
     "name": "stdout",
     "output_type": "stream",
     "text": [
      "Total time taken is 2 mins: Thu Apr 18 23:34:00 2024\n"
     ]
    }
   ],
   "source": [
    "t2 = time.time()\n",
    "print(f\"Total time taken is {round((t2-t1)/60)} mins: {time.ctime()}\")"
   ]
  },
  {
   "cell_type": "code",
   "execution_count": 25,
   "metadata": {},
   "outputs": [
    {
     "name": "stdout",
     "output_type": "stream",
     "text": [
      "1713463618.7222269 is Thu Apr 18 23:36:58 2024\n"
     ]
    }
   ],
   "source": [
    "t1 = time.time()\n",
    "print(f\"{t1} is {time.ctime()}\")"
   ]
  },
  {
   "cell_type": "code",
   "execution_count": 27,
   "metadata": {},
   "outputs": [
    {
     "name": "stdout",
     "output_type": "stream",
     "text": [
      "The subtotal is $ 10.0 \n",
      "The Tax is $ 0.55 \n",
      "The total is $ 10.549999999999999\n"
     ]
    }
   ],
   "source": [
    "# Tax calculator\n",
    "Total = float(input(\"What is the order amount? \"))\n",
    "state = input(\"What is the state(2 digit state code)? \")\n",
    "if state=='WI':\n",
    "    print(\"The subtotal is $\", Total, \"\\nThe Tax is $\", Total*0.055, \"\\nThe total is $\", Total*1.055 )\n",
    "else:\n",
    "    print(\"The Total is $\", Total)\n",
    "\n",
    "\n",
    "# What is the order amount? 10\n",
    "# What is the state? WI\n",
    "# The subtotal is $10.00.\n",
    "# The tax is $0.55.\n",
    "# The total is $10.55."
   ]
  },
  {
   "cell_type": "code",
   "execution_count": 28,
   "metadata": {},
   "outputs": [
    {
     "name": "stdout",
     "output_type": "stream",
     "text": [
      "Total time taken is 9 mins: Thu Apr 18 23:45:39 2024\n"
     ]
    }
   ],
   "source": [
    "t2 = time.time()\n",
    "print(f\"Total time taken is {round((t2-t1)/60)} mins: {time.ctime()}\")"
   ]
  },
  {
   "cell_type": "code",
   "execution_count": 29,
   "metadata": {},
   "outputs": [
    {
     "name": "stdout",
     "output_type": "stream",
     "text": [
      "1713464163.1327 is Thu Apr 18 23:46:03 2024\n"
     ]
    }
   ],
   "source": [
    "t1 = time.time()\n",
    "print(f\"{t1} is {time.ctime()}\")"
   ]
  },
  {
   "cell_type": "code",
   "execution_count": 30,
   "metadata": {},
   "outputs": [
    {
     "name": "stdout",
     "output_type": "stream",
     "text": [
      "Welcome!\n"
     ]
    }
   ],
   "source": [
    "pw=input(\"What is the password? \")\n",
    "if pw ==\"abc123\":\n",
    "    print(\"Welcome!\")\n",
    "else:\n",
    "    print(\"I don't know you?\")"
   ]
  },
  {
   "cell_type": "code",
   "execution_count": 31,
   "metadata": {},
   "outputs": [
    {
     "name": "stdout",
     "output_type": "stream",
     "text": [
      "Total time taken is 4 mins: Thu Apr 18 23:49:39 2024\n"
     ]
    }
   ],
   "source": [
    "t2 = time.time()\n",
    "print(f\"Total time taken is {round((t2-t1)/60)} mins: {time.ctime()}\")"
   ]
  },
  {
   "attachments": {},
   "cell_type": "markdown",
   "metadata": {},
   "source": [
    "\n",
    "Chapter: 16\n",
    "Legal Driving Age\n",
    "You can test for equality, but you may need to test to see\n",
    "how a number compares to a known value and display a\n",
    "message if the number is too low or too high.\n",
    "Write a program that asks the user for their age and compare\n",
    "it to the legal driving age of sixteen. If the user is sixteen or\n",
    "older, then the program should display “You are old enough\n",
    "to legally drive.” If the user is under sixteen, the program\n",
    "should display “You are not old enough to legally drive.”\n",
    "\n",
    "Example Output\n",
    "What is your age? 15\n",
    "You are not old enough to legally drive.\n",
    "Or\n",
    "What is your age? 35\n",
    "You are old enough to legally drive.\n",
    "\n",
    "Constraints\n",
    "• Use a single output statement.\n",
    "• Use a ternary operator to write this program. If your\n",
    "language doesn’t support a ternary operator, use a reg-\n",
    "ular\n",
    "\n",
    "\n",
    "Chapter: 17\n",
    "Blood Alcohol Calculator\n",
    "Sometimes you have to perform a more complex calculation\n",
    "based on some provided inputs and then use that result to\n",
    "make a determination.\n",
    "Create a program that prompts for your weight, gender,\n",
    "number of drinks, the amount of alcohol by volume of the\n",
    "drinks consumed, and the amount of time since your last\n",
    "drink. Calculate your blood alcohol content (BAC) using this\n",
    "formula\n",
    "BAC = (A × 5.14 / W × r) −.015 × H\n",
    "where\n",
    "•\n",
    "•\n",
    "•\n",
    "– 0.73 for men\n",
    "– 0.66 for women\n",
    "•\n",
    "Display whether or not it’s legal to drive by comparing the\n",
    "blood alcohol content to\n",
    "\n",
    "Example Output\n",
    "Your BAC is 0.08\n",
    "It is not legal for you to drive.\n",
    "Constraint\n",
    "\n",
    "\n",
    "Chapter: 18\n",
    "Temperature Converter\n",
    "You’ll often need to determine which part of a program is\n",
    "run based on user input or other events.\n",
    "Create a program that converts temperatures from Fahren-\n",
    "heit to Celsius or from Celsius to Fahrenheit. Prompt for the\n",
    "starting temperature. The program should prompt for the\n",
    "type of conversion and then perform the conversion.\n",
    "The formulas are\n",
    "C = (F −32) × 5 / 9\n",
    "and\n",
    "F = (C × 9 / 5) + 32\n",
    "\n",
    "Example Output\n",
    "Press C to convert from Fahrenheit to Celsius.\n",
    "Press F to convert from Celsius to Fahrenheit.\n",
    "Your choice: C\n",
    "Please enter the temperature in Fahrenheit: 32\n",
    "The temperature in Celsius is 0.\n",
    "\n",
    "Constraints\n",
    "• Ensure that you allow upper or lowercase values for\n",
    "and\n",
    "• Use as few output statements as possible and avoid\n",
    "\n",
    "\n",
    "Chapter: 19\n",
    "BMI Calculator\n",
    "You’ll often need to see if one value is within a certain range\n",
    "and alter the flow of a program as a result.\n",
    "Create a program to calculate the body mass index (BMI)\n",
    "for a person using the person’s height in inches and weight\n",
    "in pounds. The program should prompt the user for weight\n",
    "and height.\n",
    "Calculate the BMI by using the following formula:\n",
    "bmi = (weight / (height × height)) * 703\n",
    "If the BMI is between 18.5 and 25, display that the person is\n",
    "at a normal weight. If they are out of that range, tell them if\n",
    "they are underweight or overweight and tell them to consult\n",
    "their doctor.\n",
    "\n",
    "Example Output\n",
    "Your BMI is 19.5.\n",
    "You are within the ideal weight range.\n",
    "or\n",
    "Your BMI is 32.5.\n",
    "You are overweight. You should see your doctor.\n",
    "Constraint\n",
    "• Ensure your program takes only numeric data. Don’t\n",
    "\n",
    "\n",
    "Chapter: 20\n",
    "Multistate Sales Tax Calculator\n",
    "More complex programs may have decisions nested in other\n",
    "decisions, so that when one decision is made, additional\n",
    "decisions must be made.\n",
    "Create a tax calculator that handles multiple states and\n",
    "multiple counties within each state. The program prompts\n",
    "the user for the order amount and the state where the order\n",
    "will be shipped.\n",
    "For Wisconsin residents, prompt for the county of residence.\n",
    "• For Eau Claire county residents, add an additional 0.005\n",
    "tax.\n",
    "• For Dunn county residents, add an additional 0.004 tax.\n",
    "Illinois residents must be charged 8% sales tax with no\n",
    "additional county-level charge. All other states are not\n",
    "charged tax. The program then displays the tax and the total\n",
    "for Wisconsin and Illinois residents but just the total for\n",
    "everyone else.\n",
    "\n",
    "Example Output\n",
    "What is the order amount? 10\n",
    "What state do you live in? Wisconsin\n",
    "The tax is $0.50.\n",
    "The total is $10.50.\n",
    "\n",
    "Constraints\n",
    "• Ensure that all money is rounded up to the nearest cent.\n",
    "• Use a single output statement at the end of the program\n"
   ]
  },
  {
   "cell_type": "code",
   "execution_count": 2,
   "metadata": {},
   "outputs": [
    {
     "name": "stdout",
     "output_type": "stream",
     "text": [
      "1713667680.3697312 is Sun Apr 21 08:18:00 2024\n",
      "Legal driving age\n"
     ]
    }
   ],
   "source": [
    "import time\n",
    "t1 = time.time()\n",
    "print(f\"{t1} is {time.ctime()}\")\n",
    "print(\"Legal driving age\")\n",
    "#fnjdalmk"
   ]
  },
  {
   "cell_type": "code",
   "execution_count": 4,
   "metadata": {},
   "outputs": [
    {
     "name": "stdout",
     "output_type": "stream",
     "text": [
      "You are old enough to drive legally\n"
     ]
    }
   ],
   "source": [
    "age = int(input(\"What is your age?\"))\n",
    "print(\"You are not old enough to drive legally\" if age<16 else \"You are old enough to drive legally\")"
   ]
  },
  {
   "cell_type": "code",
   "execution_count": 5,
   "metadata": {},
   "outputs": [
    {
     "name": "stdout",
     "output_type": "stream",
     "text": [
      "Total time taken is 5 mins: Sun Apr 21 08:22:53 2024\n"
     ]
    }
   ],
   "source": [
    "t2 = time.time()\n",
    "print(f\"Total time taken is {round((t2-t1)/60)} mins: {time.ctime()}\")"
   ]
  },
  {
   "cell_type": "code",
   "execution_count": 6,
   "metadata": {},
   "outputs": [
    {
     "name": "stdout",
     "output_type": "stream",
     "text": [
      "1713668151.997335 is Sun Apr 21 08:25:51 2024\n",
      "Blood alcohol calculator\n"
     ]
    }
   ],
   "source": [
    "import time\n",
    "t1 = time.time()\n",
    "print(f\"{t1} is {time.ctime()}\")\n",
    "print(\"Blood alcohol calculator\")"
   ]
  },
  {
   "cell_type": "code",
   "execution_count": 8,
   "metadata": {},
   "outputs": [
    {
     "name": "stdout",
     "output_type": "stream",
     "text": [
      "Your BAC is 6.741095890410959. You are not legally allowed to drive.\n"
     ]
    }
   ],
   "source": [
    "w=float(input(\"Enter your weight in pounds\"))\n",
    "a=float(input(\"Total alcohol consumed, in ounces (oz)\"))\n",
    "g=input(\"Enter you gender(M/F)?\")\n",
    "h=int(input(\"number of hours since the last drink.\"))\n",
    "\n",
    "if g=='M':\n",
    "    bac = (a*5.14/(w*0.73))-(0.15*h)\n",
    "else:\n",
    "    bac = (a*5.14/(w*0.66))-(0.15*h)\n",
    "print(f\"Your BAC is {bac}. You are not legally allowed to drive.\" if bac>0.08 else f\"Your BAC is {bac}. You are legally allowed to drive.\")"
   ]
  },
  {
   "cell_type": "code",
   "execution_count": 9,
   "metadata": {},
   "outputs": [
    {
     "name": "stdout",
     "output_type": "stream",
     "text": [
      "Total time taken is 10 mins: Sun Apr 21 08:35:42 2024\n"
     ]
    }
   ],
   "source": [
    "t2 = time.time()\n",
    "print(f\"Total time taken is {round((t2-t1)/60)} mins: {time.ctime()}\")"
   ]
  },
  {
   "cell_type": "code",
   "execution_count": 1,
   "metadata": {},
   "outputs": [
    {
     "name": "stdout",
     "output_type": "stream",
     "text": [
      "1714530021.012749 is Wed May  1 07:50:21 2024\n",
      "Temperature converter\n"
     ]
    }
   ],
   "source": [
    "import time\n",
    "t1 = time.time()\n",
    "print(f\"{t1} is {time.ctime()}\")\n",
    "print(\"Temperature converter\")\n",
    "#wasted 42 min - current time 8:33"
   ]
  },
  {
   "cell_type": "code",
   "execution_count": 3,
   "metadata": {},
   "outputs": [
    {
     "name": "stdout",
     "output_type": "stream",
     "text": [
      "Press C to convert from Fahrenheit to Celsius.\n",
      "Press F to convert from Celsius to Fahrenheit.\n",
      "Your choice:  F\n",
      "Please enter temperature in Fahrenheit:\n",
      "The temperature in Celsius is 0.0\n"
     ]
    }
   ],
   "source": [
    "# C = (F −32) × 5 / 9\n",
    "# and\n",
    "# F = (C × 9 / 5) + 32\n",
    "\n",
    "# Example Output\n",
    "# Press C to convert from Fahrenheit to Celsius.\n",
    "# Press F to convert from Celsius to Fahrenheit.\n",
    "# Your choice: C\n",
    "# Please enter the temperature in Fahrenheit: 32\n",
    "# The temperature in Celsius is 0.\n",
    "\n",
    "typ = input(print(\"Press C to convert from Fahrenheit to Celsius.\\nPress F to convert from Celsius to Fahrenheit.\"))\n",
    "print(\"Your choice: \",typ)\n",
    "if typ=='F':\n",
    "    t1 = \"Fahrenheit\"\n",
    "    t2 = \"Celsius\"\n",
    "else:\n",
    "    t1 = \"Celsius\"\n",
    "    t2 = \"Fahrenheit\"\n",
    "\n",
    "val = float(input(print(f\"Please enter temperature in {t1}:\")))\n",
    "t =(val-32)*5/9 if typ=='F' else (val*9/5)+32 \n",
    "print(f\"The temperature in {t2} is {t}\")"
   ]
  },
  {
   "cell_type": "code",
   "execution_count": 5,
   "metadata": {},
   "outputs": [
    {
     "data": {
      "text/plain": [
       "'Wed May  1 08:47:19 2024'"
      ]
     },
     "execution_count": 5,
     "metadata": {},
     "output_type": "execute_result"
    }
   ],
   "source": [
    "# t2 = time.time()\n",
    "# print(f\"Total time taken is {round((t2-t1)/60)} mins: {time.ctime()}\")\n",
    "time.ctime()"
   ]
  },
  {
   "cell_type": "code",
   "execution_count": null,
   "metadata": {},
   "outputs": [],
   "source": []
  }
 ],
 "metadata": {
  "kernelspec": {
   "display_name": "base",
   "language": "python",
   "name": "python3"
  },
  "language_info": {
   "codemirror_mode": {
    "name": "ipython",
    "version": 3
   },
   "file_extension": ".py",
   "mimetype": "text/x-python",
   "name": "python",
   "nbconvert_exporter": "python",
   "pygments_lexer": "ipython3",
   "version": "3.11.5"
  },
  "orig_nbformat": 4
 },
 "nbformat": 4,
 "nbformat_minor": 2
}
